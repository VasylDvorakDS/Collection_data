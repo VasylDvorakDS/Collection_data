{
 "cells": [
  {
   "cell_type": "code",
   "id": "initial_id",
   "metadata": {
    "collapsed": true,
    "ExecuteTime": {
     "end_time": "2024-12-05T23:25:48.233181Z",
     "start_time": "2024-12-05T23:25:48.225360Z"
    }
   },
   "source": [
    "import pandas as pd\n",
    "import random\n",
    "import string\n",
    "from sklearn.feature_extraction.text import TfidfVectorizer\n",
    "from sklearn.linear_model import LogisticRegression\n",
    "from sklearn.model_selection import train_test_split\n",
    "from sklearn.metrics import f1_score\n",
    "from sklearn.utils import shuffle\n",
    "import numpy as np"
   ],
   "outputs": [],
   "execution_count": 1345
  },
  {
   "cell_type": "code",
   "id": "14209e50",
   "metadata": {
    "ExecuteTime": {
     "end_time": "2024-12-05T23:25:48.385658Z",
     "start_time": "2024-12-05T23:25:48.342212Z"
    }
   },
   "source": [
    "data = pd.read_csv(\"Clinical-Metadata-FDG-PET_CT.csv\")\n",
    "data.drop_duplicates(inplace=True)\n",
    "data.head()"
   ],
   "outputs": [
    {
     "data": {
      "text/plain": [
       "                                          Series UID          Collection  \\\n",
       "0  1.3.6.1.4.1.14519.5.2.1.4219.6651.201203836389...  FDG-PET-CT-Lesions   \n",
       "1  1.3.6.1.4.1.14519.5.2.1.4219.6651.685145825998...  FDG-PET-CT-Lesions   \n",
       "2  1.3.6.1.4.1.14519.5.2.1.4219.6651.151532511484...  FDG-PET-CT-Lesions   \n",
       "3  1.3.6.1.4.1.14519.5.2.1.4219.6651.313152023416...  FDG-PET-CT-Lesions   \n",
       "4  1.3.6.1.4.1.14519.5.2.1.4219.6651.331726561677...  FDG-PET-CT-Lesions   \n",
       "\n",
       "  3rd Party Analysis  Data Description URI        Subject ID  \\\n",
       "0                 NO                   NaN  PETCT_0011f3deaf   \n",
       "1                 NO                   NaN  PETCT_0011f3deaf   \n",
       "2                 NO                   NaN  PETCT_01140d52d8   \n",
       "3                 NO                   NaN  PETCT_01140d52d8   \n",
       "4                 NO                   NaN  PETCT_0011f3deaf   \n",
       "\n",
       "                                           Study UID  \\\n",
       "0  1.3.6.1.4.1.14519.5.2.1.4219.6651.389860614478...   \n",
       "1  1.3.6.1.4.1.14519.5.2.1.4219.6651.389860614478...   \n",
       "2  1.3.6.1.4.1.14519.5.2.1.4219.6651.316964892168...   \n",
       "3  1.3.6.1.4.1.14519.5.2.1.4219.6651.316964892168...   \n",
       "4  1.3.6.1.4.1.14519.5.2.1.4219.6651.389860614478...   \n",
       "\n",
       "                    Study Description Study Date Series Description  \\\n",
       "0  PET-CT Ganzkoerper  primaer mit KM  3/23/2003       Segmentation   \n",
       "1  PET-CT Ganzkoerper  primaer mit KM  3/23/2003          PET corr.   \n",
       "2  PET-CT Ganzkoerper  primaer mit KM  8/13/2005          PET corr.   \n",
       "3  PET-CT Ganzkoerper  primaer mit KM  8/13/2005       Segmentation   \n",
       "4  PET-CT Ganzkoerper  primaer mit KM  3/23/2003           GK p.v.3   \n",
       "\n",
       "  Manufacturer Modality                              SOP Class Name  \\\n",
       "0        QIICR      SEG                        Segmentation Storage   \n",
       "1      SIEMENS       PT  Positron Emission Tomography Image Storage   \n",
       "2      SIEMENS       PT  Positron Emission Tomography Image Storage   \n",
       "3        QIICR      SEG                        Segmentation Storage   \n",
       "4      SIEMENS       CT                            CT Image Storage   \n",
       "\n",
       "                  SOP Class UID  Number of Images  File Size  \\\n",
       "0  1.2.840.10008.5.1.4.1.1.66.4                 1    6.75 MB   \n",
       "1   1.2.840.10008.5.1.4.1.1.128               326  105.82 MB   \n",
       "2   1.2.840.10008.5.1.4.1.1.128               305   99.01 MB   \n",
       "3  1.2.840.10008.5.1.4.1.1.66.4                 1    6.31 MB   \n",
       "4     1.2.840.10008.5.1.4.1.1.2               391  206.52 MB   \n",
       "\n",
       "                                       File Location       Download Timestamp  \\\n",
       "0  ./FDG-PET-CT-Lesions/PETCT_0011f3deaf/03-23-20...   2022-03-17T12:53:16.75   \n",
       "1  ./FDG-PET-CT-Lesions/PETCT_0011f3deaf/03-23-20...  2022-03-17T12:53:44.865   \n",
       "2  ./FDG-PET-CT-Lesions/PETCT_01140d52d8/08-13-20...  2022-03-17T12:53:45.761   \n",
       "3  ./FDG-PET-CT-Lesions/PETCT_01140d52d8/08-13-20...  2022-03-17T12:53:47.839   \n",
       "4  ./FDG-PET-CT-Lesions/PETCT_0011f3deaf/03-23-20...  2022-03-17T12:53:53.415   \n",
       "\n",
       "  diagnosis   age sex  \n",
       "0  MELANOMA  063Y   F  \n",
       "1  MELANOMA  063Y   F  \n",
       "2  MELANOMA  061Y   M  \n",
       "3  MELANOMA  061Y   M  \n",
       "4  MELANOMA  063Y   F  "
      ],
      "text/html": [
       "<div>\n",
       "<style scoped>\n",
       "    .dataframe tbody tr th:only-of-type {\n",
       "        vertical-align: middle;\n",
       "    }\n",
       "\n",
       "    .dataframe tbody tr th {\n",
       "        vertical-align: top;\n",
       "    }\n",
       "\n",
       "    .dataframe thead th {\n",
       "        text-align: right;\n",
       "    }\n",
       "</style>\n",
       "<table border=\"1\" class=\"dataframe\">\n",
       "  <thead>\n",
       "    <tr style=\"text-align: right;\">\n",
       "      <th></th>\n",
       "      <th>Series UID</th>\n",
       "      <th>Collection</th>\n",
       "      <th>3rd Party Analysis</th>\n",
       "      <th>Data Description URI</th>\n",
       "      <th>Subject ID</th>\n",
       "      <th>Study UID</th>\n",
       "      <th>Study Description</th>\n",
       "      <th>Study Date</th>\n",
       "      <th>Series Description</th>\n",
       "      <th>Manufacturer</th>\n",
       "      <th>Modality</th>\n",
       "      <th>SOP Class Name</th>\n",
       "      <th>SOP Class UID</th>\n",
       "      <th>Number of Images</th>\n",
       "      <th>File Size</th>\n",
       "      <th>File Location</th>\n",
       "      <th>Download Timestamp</th>\n",
       "      <th>diagnosis</th>\n",
       "      <th>age</th>\n",
       "      <th>sex</th>\n",
       "    </tr>\n",
       "  </thead>\n",
       "  <tbody>\n",
       "    <tr>\n",
       "      <th>0</th>\n",
       "      <td>1.3.6.1.4.1.14519.5.2.1.4219.6651.201203836389...</td>\n",
       "      <td>FDG-PET-CT-Lesions</td>\n",
       "      <td>NO</td>\n",
       "      <td>NaN</td>\n",
       "      <td>PETCT_0011f3deaf</td>\n",
       "      <td>1.3.6.1.4.1.14519.5.2.1.4219.6651.389860614478...</td>\n",
       "      <td>PET-CT Ganzkoerper  primaer mit KM</td>\n",
       "      <td>3/23/2003</td>\n",
       "      <td>Segmentation</td>\n",
       "      <td>QIICR</td>\n",
       "      <td>SEG</td>\n",
       "      <td>Segmentation Storage</td>\n",
       "      <td>1.2.840.10008.5.1.4.1.1.66.4</td>\n",
       "      <td>1</td>\n",
       "      <td>6.75 MB</td>\n",
       "      <td>./FDG-PET-CT-Lesions/PETCT_0011f3deaf/03-23-20...</td>\n",
       "      <td>2022-03-17T12:53:16.75</td>\n",
       "      <td>MELANOMA</td>\n",
       "      <td>063Y</td>\n",
       "      <td>F</td>\n",
       "    </tr>\n",
       "    <tr>\n",
       "      <th>1</th>\n",
       "      <td>1.3.6.1.4.1.14519.5.2.1.4219.6651.685145825998...</td>\n",
       "      <td>FDG-PET-CT-Lesions</td>\n",
       "      <td>NO</td>\n",
       "      <td>NaN</td>\n",
       "      <td>PETCT_0011f3deaf</td>\n",
       "      <td>1.3.6.1.4.1.14519.5.2.1.4219.6651.389860614478...</td>\n",
       "      <td>PET-CT Ganzkoerper  primaer mit KM</td>\n",
       "      <td>3/23/2003</td>\n",
       "      <td>PET corr.</td>\n",
       "      <td>SIEMENS</td>\n",
       "      <td>PT</td>\n",
       "      <td>Positron Emission Tomography Image Storage</td>\n",
       "      <td>1.2.840.10008.5.1.4.1.1.128</td>\n",
       "      <td>326</td>\n",
       "      <td>105.82 MB</td>\n",
       "      <td>./FDG-PET-CT-Lesions/PETCT_0011f3deaf/03-23-20...</td>\n",
       "      <td>2022-03-17T12:53:44.865</td>\n",
       "      <td>MELANOMA</td>\n",
       "      <td>063Y</td>\n",
       "      <td>F</td>\n",
       "    </tr>\n",
       "    <tr>\n",
       "      <th>2</th>\n",
       "      <td>1.3.6.1.4.1.14519.5.2.1.4219.6651.151532511484...</td>\n",
       "      <td>FDG-PET-CT-Lesions</td>\n",
       "      <td>NO</td>\n",
       "      <td>NaN</td>\n",
       "      <td>PETCT_01140d52d8</td>\n",
       "      <td>1.3.6.1.4.1.14519.5.2.1.4219.6651.316964892168...</td>\n",
       "      <td>PET-CT Ganzkoerper  primaer mit KM</td>\n",
       "      <td>8/13/2005</td>\n",
       "      <td>PET corr.</td>\n",
       "      <td>SIEMENS</td>\n",
       "      <td>PT</td>\n",
       "      <td>Positron Emission Tomography Image Storage</td>\n",
       "      <td>1.2.840.10008.5.1.4.1.1.128</td>\n",
       "      <td>305</td>\n",
       "      <td>99.01 MB</td>\n",
       "      <td>./FDG-PET-CT-Lesions/PETCT_01140d52d8/08-13-20...</td>\n",
       "      <td>2022-03-17T12:53:45.761</td>\n",
       "      <td>MELANOMA</td>\n",
       "      <td>061Y</td>\n",
       "      <td>M</td>\n",
       "    </tr>\n",
       "    <tr>\n",
       "      <th>3</th>\n",
       "      <td>1.3.6.1.4.1.14519.5.2.1.4219.6651.313152023416...</td>\n",
       "      <td>FDG-PET-CT-Lesions</td>\n",
       "      <td>NO</td>\n",
       "      <td>NaN</td>\n",
       "      <td>PETCT_01140d52d8</td>\n",
       "      <td>1.3.6.1.4.1.14519.5.2.1.4219.6651.316964892168...</td>\n",
       "      <td>PET-CT Ganzkoerper  primaer mit KM</td>\n",
       "      <td>8/13/2005</td>\n",
       "      <td>Segmentation</td>\n",
       "      <td>QIICR</td>\n",
       "      <td>SEG</td>\n",
       "      <td>Segmentation Storage</td>\n",
       "      <td>1.2.840.10008.5.1.4.1.1.66.4</td>\n",
       "      <td>1</td>\n",
       "      <td>6.31 MB</td>\n",
       "      <td>./FDG-PET-CT-Lesions/PETCT_01140d52d8/08-13-20...</td>\n",
       "      <td>2022-03-17T12:53:47.839</td>\n",
       "      <td>MELANOMA</td>\n",
       "      <td>061Y</td>\n",
       "      <td>M</td>\n",
       "    </tr>\n",
       "    <tr>\n",
       "      <th>4</th>\n",
       "      <td>1.3.6.1.4.1.14519.5.2.1.4219.6651.331726561677...</td>\n",
       "      <td>FDG-PET-CT-Lesions</td>\n",
       "      <td>NO</td>\n",
       "      <td>NaN</td>\n",
       "      <td>PETCT_0011f3deaf</td>\n",
       "      <td>1.3.6.1.4.1.14519.5.2.1.4219.6651.389860614478...</td>\n",
       "      <td>PET-CT Ganzkoerper  primaer mit KM</td>\n",
       "      <td>3/23/2003</td>\n",
       "      <td>GK p.v.3</td>\n",
       "      <td>SIEMENS</td>\n",
       "      <td>CT</td>\n",
       "      <td>CT Image Storage</td>\n",
       "      <td>1.2.840.10008.5.1.4.1.1.2</td>\n",
       "      <td>391</td>\n",
       "      <td>206.52 MB</td>\n",
       "      <td>./FDG-PET-CT-Lesions/PETCT_0011f3deaf/03-23-20...</td>\n",
       "      <td>2022-03-17T12:53:53.415</td>\n",
       "      <td>MELANOMA</td>\n",
       "      <td>063Y</td>\n",
       "      <td>F</td>\n",
       "    </tr>\n",
       "  </tbody>\n",
       "</table>\n",
       "</div>"
      ]
     },
     "execution_count": 1346,
     "metadata": {},
     "output_type": "execute_result"
    }
   ],
   "execution_count": 1346
  },
  {
   "cell_type": "code",
   "id": "89c5e455576a218d",
   "metadata": {
    "ExecuteTime": {
     "end_time": "2024-12-05T23:25:48.443415Z",
     "start_time": "2024-12-05T23:25:48.428185Z"
    }
   },
   "source": [
    "data.describe()"
   ],
   "outputs": [
    {
     "data": {
      "text/plain": [
       "       Data Description URI  Number of Images\n",
       "count                   0.0       3042.000000\n",
       "mean                    NaN        301.432281\n",
       "std                     NaN        297.575955\n",
       "min                     NaN          1.000000\n",
       "25%                     NaN          1.000000\n",
       "50%                     NaN        326.000000\n",
       "75%                     NaN        391.000000\n",
       "max                     NaN       2651.000000"
      ],
      "text/html": [
       "<div>\n",
       "<style scoped>\n",
       "    .dataframe tbody tr th:only-of-type {\n",
       "        vertical-align: middle;\n",
       "    }\n",
       "\n",
       "    .dataframe tbody tr th {\n",
       "        vertical-align: top;\n",
       "    }\n",
       "\n",
       "    .dataframe thead th {\n",
       "        text-align: right;\n",
       "    }\n",
       "</style>\n",
       "<table border=\"1\" class=\"dataframe\">\n",
       "  <thead>\n",
       "    <tr style=\"text-align: right;\">\n",
       "      <th></th>\n",
       "      <th>Data Description URI</th>\n",
       "      <th>Number of Images</th>\n",
       "    </tr>\n",
       "  </thead>\n",
       "  <tbody>\n",
       "    <tr>\n",
       "      <th>count</th>\n",
       "      <td>0.0</td>\n",
       "      <td>3042.000000</td>\n",
       "    </tr>\n",
       "    <tr>\n",
       "      <th>mean</th>\n",
       "      <td>NaN</td>\n",
       "      <td>301.432281</td>\n",
       "    </tr>\n",
       "    <tr>\n",
       "      <th>std</th>\n",
       "      <td>NaN</td>\n",
       "      <td>297.575955</td>\n",
       "    </tr>\n",
       "    <tr>\n",
       "      <th>min</th>\n",
       "      <td>NaN</td>\n",
       "      <td>1.000000</td>\n",
       "    </tr>\n",
       "    <tr>\n",
       "      <th>25%</th>\n",
       "      <td>NaN</td>\n",
       "      <td>1.000000</td>\n",
       "    </tr>\n",
       "    <tr>\n",
       "      <th>50%</th>\n",
       "      <td>NaN</td>\n",
       "      <td>326.000000</td>\n",
       "    </tr>\n",
       "    <tr>\n",
       "      <th>75%</th>\n",
       "      <td>NaN</td>\n",
       "      <td>391.000000</td>\n",
       "    </tr>\n",
       "    <tr>\n",
       "      <th>max</th>\n",
       "      <td>NaN</td>\n",
       "      <td>2651.000000</td>\n",
       "    </tr>\n",
       "  </tbody>\n",
       "</table>\n",
       "</div>"
      ]
     },
     "execution_count": 1347,
     "metadata": {},
     "output_type": "execute_result"
    }
   ],
   "execution_count": 1347
  },
  {
   "cell_type": "code",
   "id": "6550010d2350a2f6",
   "metadata": {
    "ExecuteTime": {
     "end_time": "2024-12-05T23:25:48.542431Z",
     "start_time": "2024-12-05T23:25:48.531282Z"
    }
   },
   "source": [
    "data.info()"
   ],
   "outputs": [
    {
     "name": "stdout",
     "output_type": "stream",
     "text": [
      "<class 'pandas.core.frame.DataFrame'>\n",
      "RangeIndex: 3042 entries, 0 to 3041\n",
      "Data columns (total 20 columns):\n",
      " #   Column                Non-Null Count  Dtype  \n",
      "---  ------                --------------  -----  \n",
      " 0   Series UID            3042 non-null   object \n",
      " 1   Collection            3042 non-null   object \n",
      " 2   3rd Party Analysis    3042 non-null   object \n",
      " 3   Data Description URI  0 non-null      float64\n",
      " 4   Subject ID            3042 non-null   object \n",
      " 5   Study UID             3042 non-null   object \n",
      " 6   Study Description     3042 non-null   object \n",
      " 7   Study Date            3042 non-null   object \n",
      " 8   Series Description    3042 non-null   object \n",
      " 9   Manufacturer          3042 non-null   object \n",
      " 10  Modality              3042 non-null   object \n",
      " 11  SOP Class Name        3042 non-null   object \n",
      " 12  SOP Class UID         3042 non-null   object \n",
      " 13  Number of Images      3042 non-null   int64  \n",
      " 14  File Size             3042 non-null   object \n",
      " 15  File Location         3042 non-null   object \n",
      " 16  Download Timestamp    3042 non-null   object \n",
      " 17  diagnosis             3042 non-null   object \n",
      " 18  age                   3042 non-null   object \n",
      " 19  sex                   3030 non-null   object \n",
      "dtypes: float64(1), int64(1), object(18)\n",
      "memory usage: 475.4+ KB\n"
     ]
    }
   ],
   "execution_count": 1348
  },
  {
   "metadata": {
    "ExecuteTime": {
     "end_time": "2024-12-05T23:25:48.739207Z",
     "start_time": "2024-12-05T23:25:48.732796Z"
    }
   },
   "cell_type": "code",
   "source": [
    "\n",
    "data.drop(columns='Data Description URI', inplace=True)"
   ],
   "id": "8632e01c7def0d70",
   "outputs": [],
   "execution_count": 1349
  },
  {
   "metadata": {
    "ExecuteTime": {
     "end_time": "2024-12-05T23:25:48.874399Z",
     "start_time": "2024-12-05T23:25:48.868335Z"
    }
   },
   "cell_type": "code",
   "source": "data['age']=data['age'].fillna(data['age'].mode())",
   "id": "b23bb4eea647e35c",
   "outputs": [],
   "execution_count": 1350
  },
  {
   "metadata": {
    "ExecuteTime": {
     "end_time": "2024-12-05T23:25:49.180507Z",
     "start_time": "2024-12-05T23:25:49.174119Z"
    }
   },
   "cell_type": "code",
   "source": [
    "\n",
    "data['age']=data['age'].map(lambda x:int(x[0:3]))"
   ],
   "id": "c613ddb7dff12da1",
   "outputs": [],
   "execution_count": 1351
  },
  {
   "metadata": {
    "ExecuteTime": {
     "end_time": "2024-12-05T23:25:49.255824Z",
     "start_time": "2024-12-05T23:25:49.250521Z"
    }
   },
   "cell_type": "code",
   "source": "data['sex']=data['sex'].fillna(str(data['sex'].mode()))",
   "id": "ec64aa1fe6c70c75",
   "outputs": [],
   "execution_count": 1352
  },
  {
   "cell_type": "code",
   "id": "6a6617084a752e0b",
   "metadata": {
    "ExecuteTime": {
     "end_time": "2024-12-05T23:25:49.331138Z",
     "start_time": "2024-12-05T23:25:49.324662Z"
    }
   },
   "source": "data['diagnosis'].unique()",
   "outputs": [
    {
     "data": {
      "text/plain": [
       "array(['MELANOMA', 'LUNG_CANCER', 'NEGATIVE', 'LYMPHOMA'], dtype=object)"
      ]
     },
     "execution_count": 1353,
     "metadata": {},
     "output_type": "execute_result"
    }
   ],
   "execution_count": 1353
  },
  {
   "metadata": {
    "ExecuteTime": {
     "end_time": "2024-12-05T23:25:49.401252Z",
     "start_time": "2024-12-05T23:25:49.391266Z"
    }
   },
   "cell_type": "code",
   "source": "data.info()",
   "id": "599d373718ac77c1",
   "outputs": [
    {
     "name": "stdout",
     "output_type": "stream",
     "text": [
      "<class 'pandas.core.frame.DataFrame'>\n",
      "RangeIndex: 3042 entries, 0 to 3041\n",
      "Data columns (total 19 columns):\n",
      " #   Column              Non-Null Count  Dtype \n",
      "---  ------              --------------  ----- \n",
      " 0   Series UID          3042 non-null   object\n",
      " 1   Collection          3042 non-null   object\n",
      " 2   3rd Party Analysis  3042 non-null   object\n",
      " 3   Subject ID          3042 non-null   object\n",
      " 4   Study UID           3042 non-null   object\n",
      " 5   Study Description   3042 non-null   object\n",
      " 6   Study Date          3042 non-null   object\n",
      " 7   Series Description  3042 non-null   object\n",
      " 8   Manufacturer        3042 non-null   object\n",
      " 9   Modality            3042 non-null   object\n",
      " 10  SOP Class Name      3042 non-null   object\n",
      " 11  SOP Class UID       3042 non-null   object\n",
      " 12  Number of Images    3042 non-null   int64 \n",
      " 13  File Size           3042 non-null   object\n",
      " 14  File Location       3042 non-null   object\n",
      " 15  Download Timestamp  3042 non-null   object\n",
      " 16  diagnosis           3042 non-null   object\n",
      " 17  age                 3042 non-null   int64 \n",
      " 18  sex                 3042 non-null   object\n",
      "dtypes: int64(2), object(17)\n",
      "memory usage: 451.7+ KB\n"
     ]
    }
   ],
   "execution_count": 1354
  },
  {
   "metadata": {
    "ExecuteTime": {
     "end_time": "2024-12-05T23:25:49.502552Z",
     "start_time": "2024-12-05T23:25:49.466379Z"
    }
   },
   "cell_type": "code",
   "source": "data.to_csv(\"Cleaned_Clinical-Metadata-FDG-PET_CT.csv\", index=False)",
   "id": "e251624e1889c46b",
   "outputs": [],
   "execution_count": 1355
  },
  {
   "cell_type": "code",
   "id": "b627b929",
   "metadata": {
    "ExecuteTime": {
     "end_time": "2024-12-05T23:25:49.560516Z",
     "start_time": "2024-12-05T23:25:49.557115Z"
    }
   },
   "source": [
    "def status_of_patient(row):\n",
    "    if row[\"diagnosis\"] in ['NEGATIVE', 'LYMPHOMA']:\n",
    "        return \"NOT_SICK\"\n",
    "    else:\n",
    "        return \"SICK\""
   ],
   "outputs": [],
   "execution_count": 1356
  },
  {
   "cell_type": "code",
   "id": "2b8dfab5",
   "metadata": {
    "ExecuteTime": {
     "end_time": "2024-12-05T23:25:49.648971Z",
     "start_time": "2024-12-05T23:25:49.619076Z"
    }
   },
   "source": [
    "data['Patient status']=data.apply(status_of_patient, axis=1)\n",
    "data.head()"
   ],
   "outputs": [
    {
     "data": {
      "text/plain": [
       "                                          Series UID          Collection  \\\n",
       "0  1.3.6.1.4.1.14519.5.2.1.4219.6651.201203836389...  FDG-PET-CT-Lesions   \n",
       "1  1.3.6.1.4.1.14519.5.2.1.4219.6651.685145825998...  FDG-PET-CT-Lesions   \n",
       "2  1.3.6.1.4.1.14519.5.2.1.4219.6651.151532511484...  FDG-PET-CT-Lesions   \n",
       "3  1.3.6.1.4.1.14519.5.2.1.4219.6651.313152023416...  FDG-PET-CT-Lesions   \n",
       "4  1.3.6.1.4.1.14519.5.2.1.4219.6651.331726561677...  FDG-PET-CT-Lesions   \n",
       "\n",
       "  3rd Party Analysis        Subject ID  \\\n",
       "0                 NO  PETCT_0011f3deaf   \n",
       "1                 NO  PETCT_0011f3deaf   \n",
       "2                 NO  PETCT_01140d52d8   \n",
       "3                 NO  PETCT_01140d52d8   \n",
       "4                 NO  PETCT_0011f3deaf   \n",
       "\n",
       "                                           Study UID  \\\n",
       "0  1.3.6.1.4.1.14519.5.2.1.4219.6651.389860614478...   \n",
       "1  1.3.6.1.4.1.14519.5.2.1.4219.6651.389860614478...   \n",
       "2  1.3.6.1.4.1.14519.5.2.1.4219.6651.316964892168...   \n",
       "3  1.3.6.1.4.1.14519.5.2.1.4219.6651.316964892168...   \n",
       "4  1.3.6.1.4.1.14519.5.2.1.4219.6651.389860614478...   \n",
       "\n",
       "                    Study Description Study Date Series Description  \\\n",
       "0  PET-CT Ganzkoerper  primaer mit KM  3/23/2003       Segmentation   \n",
       "1  PET-CT Ganzkoerper  primaer mit KM  3/23/2003          PET corr.   \n",
       "2  PET-CT Ganzkoerper  primaer mit KM  8/13/2005          PET corr.   \n",
       "3  PET-CT Ganzkoerper  primaer mit KM  8/13/2005       Segmentation   \n",
       "4  PET-CT Ganzkoerper  primaer mit KM  3/23/2003           GK p.v.3   \n",
       "\n",
       "  Manufacturer Modality                              SOP Class Name  \\\n",
       "0        QIICR      SEG                        Segmentation Storage   \n",
       "1      SIEMENS       PT  Positron Emission Tomography Image Storage   \n",
       "2      SIEMENS       PT  Positron Emission Tomography Image Storage   \n",
       "3        QIICR      SEG                        Segmentation Storage   \n",
       "4      SIEMENS       CT                            CT Image Storage   \n",
       "\n",
       "                  SOP Class UID  Number of Images  File Size  \\\n",
       "0  1.2.840.10008.5.1.4.1.1.66.4                 1    6.75 MB   \n",
       "1   1.2.840.10008.5.1.4.1.1.128               326  105.82 MB   \n",
       "2   1.2.840.10008.5.1.4.1.1.128               305   99.01 MB   \n",
       "3  1.2.840.10008.5.1.4.1.1.66.4                 1    6.31 MB   \n",
       "4     1.2.840.10008.5.1.4.1.1.2               391  206.52 MB   \n",
       "\n",
       "                                       File Location       Download Timestamp  \\\n",
       "0  ./FDG-PET-CT-Lesions/PETCT_0011f3deaf/03-23-20...   2022-03-17T12:53:16.75   \n",
       "1  ./FDG-PET-CT-Lesions/PETCT_0011f3deaf/03-23-20...  2022-03-17T12:53:44.865   \n",
       "2  ./FDG-PET-CT-Lesions/PETCT_01140d52d8/08-13-20...  2022-03-17T12:53:45.761   \n",
       "3  ./FDG-PET-CT-Lesions/PETCT_01140d52d8/08-13-20...  2022-03-17T12:53:47.839   \n",
       "4  ./FDG-PET-CT-Lesions/PETCT_0011f3deaf/03-23-20...  2022-03-17T12:53:53.415   \n",
       "\n",
       "  diagnosis  age sex Patient status  \n",
       "0  MELANOMA   63   F           SICK  \n",
       "1  MELANOMA   63   F           SICK  \n",
       "2  MELANOMA   61   M           SICK  \n",
       "3  MELANOMA   61   M           SICK  \n",
       "4  MELANOMA   63   F           SICK  "
      ],
      "text/html": [
       "<div>\n",
       "<style scoped>\n",
       "    .dataframe tbody tr th:only-of-type {\n",
       "        vertical-align: middle;\n",
       "    }\n",
       "\n",
       "    .dataframe tbody tr th {\n",
       "        vertical-align: top;\n",
       "    }\n",
       "\n",
       "    .dataframe thead th {\n",
       "        text-align: right;\n",
       "    }\n",
       "</style>\n",
       "<table border=\"1\" class=\"dataframe\">\n",
       "  <thead>\n",
       "    <tr style=\"text-align: right;\">\n",
       "      <th></th>\n",
       "      <th>Series UID</th>\n",
       "      <th>Collection</th>\n",
       "      <th>3rd Party Analysis</th>\n",
       "      <th>Subject ID</th>\n",
       "      <th>Study UID</th>\n",
       "      <th>Study Description</th>\n",
       "      <th>Study Date</th>\n",
       "      <th>Series Description</th>\n",
       "      <th>Manufacturer</th>\n",
       "      <th>Modality</th>\n",
       "      <th>SOP Class Name</th>\n",
       "      <th>SOP Class UID</th>\n",
       "      <th>Number of Images</th>\n",
       "      <th>File Size</th>\n",
       "      <th>File Location</th>\n",
       "      <th>Download Timestamp</th>\n",
       "      <th>diagnosis</th>\n",
       "      <th>age</th>\n",
       "      <th>sex</th>\n",
       "      <th>Patient status</th>\n",
       "    </tr>\n",
       "  </thead>\n",
       "  <tbody>\n",
       "    <tr>\n",
       "      <th>0</th>\n",
       "      <td>1.3.6.1.4.1.14519.5.2.1.4219.6651.201203836389...</td>\n",
       "      <td>FDG-PET-CT-Lesions</td>\n",
       "      <td>NO</td>\n",
       "      <td>PETCT_0011f3deaf</td>\n",
       "      <td>1.3.6.1.4.1.14519.5.2.1.4219.6651.389860614478...</td>\n",
       "      <td>PET-CT Ganzkoerper  primaer mit KM</td>\n",
       "      <td>3/23/2003</td>\n",
       "      <td>Segmentation</td>\n",
       "      <td>QIICR</td>\n",
       "      <td>SEG</td>\n",
       "      <td>Segmentation Storage</td>\n",
       "      <td>1.2.840.10008.5.1.4.1.1.66.4</td>\n",
       "      <td>1</td>\n",
       "      <td>6.75 MB</td>\n",
       "      <td>./FDG-PET-CT-Lesions/PETCT_0011f3deaf/03-23-20...</td>\n",
       "      <td>2022-03-17T12:53:16.75</td>\n",
       "      <td>MELANOMA</td>\n",
       "      <td>63</td>\n",
       "      <td>F</td>\n",
       "      <td>SICK</td>\n",
       "    </tr>\n",
       "    <tr>\n",
       "      <th>1</th>\n",
       "      <td>1.3.6.1.4.1.14519.5.2.1.4219.6651.685145825998...</td>\n",
       "      <td>FDG-PET-CT-Lesions</td>\n",
       "      <td>NO</td>\n",
       "      <td>PETCT_0011f3deaf</td>\n",
       "      <td>1.3.6.1.4.1.14519.5.2.1.4219.6651.389860614478...</td>\n",
       "      <td>PET-CT Ganzkoerper  primaer mit KM</td>\n",
       "      <td>3/23/2003</td>\n",
       "      <td>PET corr.</td>\n",
       "      <td>SIEMENS</td>\n",
       "      <td>PT</td>\n",
       "      <td>Positron Emission Tomography Image Storage</td>\n",
       "      <td>1.2.840.10008.5.1.4.1.1.128</td>\n",
       "      <td>326</td>\n",
       "      <td>105.82 MB</td>\n",
       "      <td>./FDG-PET-CT-Lesions/PETCT_0011f3deaf/03-23-20...</td>\n",
       "      <td>2022-03-17T12:53:44.865</td>\n",
       "      <td>MELANOMA</td>\n",
       "      <td>63</td>\n",
       "      <td>F</td>\n",
       "      <td>SICK</td>\n",
       "    </tr>\n",
       "    <tr>\n",
       "      <th>2</th>\n",
       "      <td>1.3.6.1.4.1.14519.5.2.1.4219.6651.151532511484...</td>\n",
       "      <td>FDG-PET-CT-Lesions</td>\n",
       "      <td>NO</td>\n",
       "      <td>PETCT_01140d52d8</td>\n",
       "      <td>1.3.6.1.4.1.14519.5.2.1.4219.6651.316964892168...</td>\n",
       "      <td>PET-CT Ganzkoerper  primaer mit KM</td>\n",
       "      <td>8/13/2005</td>\n",
       "      <td>PET corr.</td>\n",
       "      <td>SIEMENS</td>\n",
       "      <td>PT</td>\n",
       "      <td>Positron Emission Tomography Image Storage</td>\n",
       "      <td>1.2.840.10008.5.1.4.1.1.128</td>\n",
       "      <td>305</td>\n",
       "      <td>99.01 MB</td>\n",
       "      <td>./FDG-PET-CT-Lesions/PETCT_01140d52d8/08-13-20...</td>\n",
       "      <td>2022-03-17T12:53:45.761</td>\n",
       "      <td>MELANOMA</td>\n",
       "      <td>61</td>\n",
       "      <td>M</td>\n",
       "      <td>SICK</td>\n",
       "    </tr>\n",
       "    <tr>\n",
       "      <th>3</th>\n",
       "      <td>1.3.6.1.4.1.14519.5.2.1.4219.6651.313152023416...</td>\n",
       "      <td>FDG-PET-CT-Lesions</td>\n",
       "      <td>NO</td>\n",
       "      <td>PETCT_01140d52d8</td>\n",
       "      <td>1.3.6.1.4.1.14519.5.2.1.4219.6651.316964892168...</td>\n",
       "      <td>PET-CT Ganzkoerper  primaer mit KM</td>\n",
       "      <td>8/13/2005</td>\n",
       "      <td>Segmentation</td>\n",
       "      <td>QIICR</td>\n",
       "      <td>SEG</td>\n",
       "      <td>Segmentation Storage</td>\n",
       "      <td>1.2.840.10008.5.1.4.1.1.66.4</td>\n",
       "      <td>1</td>\n",
       "      <td>6.31 MB</td>\n",
       "      <td>./FDG-PET-CT-Lesions/PETCT_01140d52d8/08-13-20...</td>\n",
       "      <td>2022-03-17T12:53:47.839</td>\n",
       "      <td>MELANOMA</td>\n",
       "      <td>61</td>\n",
       "      <td>M</td>\n",
       "      <td>SICK</td>\n",
       "    </tr>\n",
       "    <tr>\n",
       "      <th>4</th>\n",
       "      <td>1.3.6.1.4.1.14519.5.2.1.4219.6651.331726561677...</td>\n",
       "      <td>FDG-PET-CT-Lesions</td>\n",
       "      <td>NO</td>\n",
       "      <td>PETCT_0011f3deaf</td>\n",
       "      <td>1.3.6.1.4.1.14519.5.2.1.4219.6651.389860614478...</td>\n",
       "      <td>PET-CT Ganzkoerper  primaer mit KM</td>\n",
       "      <td>3/23/2003</td>\n",
       "      <td>GK p.v.3</td>\n",
       "      <td>SIEMENS</td>\n",
       "      <td>CT</td>\n",
       "      <td>CT Image Storage</td>\n",
       "      <td>1.2.840.10008.5.1.4.1.1.2</td>\n",
       "      <td>391</td>\n",
       "      <td>206.52 MB</td>\n",
       "      <td>./FDG-PET-CT-Lesions/PETCT_0011f3deaf/03-23-20...</td>\n",
       "      <td>2022-03-17T12:53:53.415</td>\n",
       "      <td>MELANOMA</td>\n",
       "      <td>63</td>\n",
       "      <td>F</td>\n",
       "      <td>SICK</td>\n",
       "    </tr>\n",
       "  </tbody>\n",
       "</table>\n",
       "</div>"
      ]
     },
     "execution_count": 1357,
     "metadata": {},
     "output_type": "execute_result"
    }
   ],
   "execution_count": 1357
  },
  {
   "metadata": {
    "ExecuteTime": {
     "end_time": "2024-12-05T23:25:49.900700Z",
     "start_time": "2024-12-05T23:25:49.744599Z"
    }
   },
   "cell_type": "code",
   "source": "data[\"Patient status\"].hist()",
   "id": "9d7f3c43d5260f56",
   "outputs": [
    {
     "data": {
      "text/plain": [
       "<Axes: >"
      ]
     },
     "execution_count": 1358,
     "metadata": {},
     "output_type": "execute_result"
    },
    {
     "data": {
      "text/plain": [
       "<Figure size 640x480 with 1 Axes>"
      ],
      "image/png": "[encoded data removed]"
     },
     "metadata": {},
     "output_type": "display_data"
    }
   ],
   "execution_count": 1358
  },
  {
   "metadata": {
    "ExecuteTime": {
     "end_time": "2024-12-05T23:25:49.948089Z",
     "start_time": "2024-12-05T23:25:49.944061Z"
    }
   },
   "cell_type": "code",
   "source": "marked_by_rules_data=data",
   "id": "9dc30ec082333076",
   "outputs": [],
   "execution_count": 1359
  },
  {
   "metadata": {
    "ExecuteTime": {
     "end_time": "2024-12-05T23:25:50.028275Z",
     "start_time": "2024-12-05T23:25:49.984431Z"
    }
   },
   "cell_type": "code",
   "source": [
    "data = pd.read_csv(\"Cleaned_Clinical-Metadata-FDG-PET_CT.csv\", engine='python', encoding='utf-8', on_bad_lines=\"skip\", encoding_errors=\"ignore\")\n",
    "data.head()"
   ],
   "id": "3ce41b5e9209f6e4",
   "outputs": [
    {
     "data": {
      "text/plain": [
       "                                          Series UID          Collection  \\\n",
       "0  1.3.6.1.4.1.14519.5.2.1.4219.6651.201203836389...  FDG-PET-CT-Lesions   \n",
       "1  1.3.6.1.4.1.14519.5.2.1.4219.6651.685145825998...  FDG-PET-CT-Lesions   \n",
       "2  1.3.6.1.4.1.14519.5.2.1.4219.6651.151532511484...  FDG-PET-CT-Lesions   \n",
       "3  1.3.6.1.4.1.14519.5.2.1.4219.6651.313152023416...  FDG-PET-CT-Lesions   \n",
       "4  1.3.6.1.4.1.14519.5.2.1.4219.6651.331726561677...  FDG-PET-CT-Lesions   \n",
       "\n",
       "  3rd Party Analysis        Subject ID  \\\n",
       "0                 NO  PETCT_0011f3deaf   \n",
       "1                 NO  PETCT_0011f3deaf   \n",
       "2                 NO  PETCT_01140d52d8   \n",
       "3                 NO  PETCT_01140d52d8   \n",
       "4                 NO  PETCT_0011f3deaf   \n",
       "\n",
       "                                           Study UID  \\\n",
       "0  1.3.6.1.4.1.14519.5.2.1.4219.6651.389860614478...   \n",
       "1  1.3.6.1.4.1.14519.5.2.1.4219.6651.389860614478...   \n",
       "2  1.3.6.1.4.1.14519.5.2.1.4219.6651.316964892168...   \n",
       "3  1.3.6.1.4.1.14519.5.2.1.4219.6651.316964892168...   \n",
       "4  1.3.6.1.4.1.14519.5.2.1.4219.6651.389860614478...   \n",
       "\n",
       "                    Study Description Study Date Series Description  \\\n",
       "0  PET-CT Ganzkoerper  primaer mit KM  3/23/2003       Segmentation   \n",
       "1  PET-CT Ganzkoerper  primaer mit KM  3/23/2003          PET corr.   \n",
       "2  PET-CT Ganzkoerper  primaer mit KM  8/13/2005          PET corr.   \n",
       "3  PET-CT Ganzkoerper  primaer mit KM  8/13/2005       Segmentation   \n",
       "4  PET-CT Ganzkoerper  primaer mit KM  3/23/2003           GK p.v.3   \n",
       "\n",
       "  Manufacturer Modality                              SOP Class Name  \\\n",
       "0        QIICR      SEG                        Segmentation Storage   \n",
       "1      SIEMENS       PT  Positron Emission Tomography Image Storage   \n",
       "2      SIEMENS       PT  Positron Emission Tomography Image Storage   \n",
       "3        QIICR      SEG                        Segmentation Storage   \n",
       "4      SIEMENS       CT                            CT Image Storage   \n",
       "\n",
       "                  SOP Class UID  Number of Images  File Size  \\\n",
       "0  1.2.840.10008.5.1.4.1.1.66.4                 1    6.75 MB   \n",
       "1   1.2.840.10008.5.1.4.1.1.128               326  105.82 MB   \n",
       "2   1.2.840.10008.5.1.4.1.1.128               305   99.01 MB   \n",
       "3  1.2.840.10008.5.1.4.1.1.66.4                 1    6.31 MB   \n",
       "4     1.2.840.10008.5.1.4.1.1.2               391  206.52 MB   \n",
       "\n",
       "                                       File Location       Download Timestamp  \\\n",
       "0  ./FDG-PET-CT-Lesions/PETCT_0011f3deaf/03-23-20...   2022-03-17T12:53:16.75   \n",
       "1  ./FDG-PET-CT-Lesions/PETCT_0011f3deaf/03-23-20...  2022-03-17T12:53:44.865   \n",
       "2  ./FDG-PET-CT-Lesions/PETCT_01140d52d8/08-13-20...  2022-03-17T12:53:45.761   \n",
       "3  ./FDG-PET-CT-Lesions/PETCT_01140d52d8/08-13-20...  2022-03-17T12:53:47.839   \n",
       "4  ./FDG-PET-CT-Lesions/PETCT_0011f3deaf/03-23-20...  2022-03-17T12:53:53.415   \n",
       "\n",
       "  diagnosis  age sex  \n",
       "0  MELANOMA   63   F  \n",
       "1  MELANOMA   63   F  \n",
       "2  MELANOMA   61   M  \n",
       "3  MELANOMA   61   M  \n",
       "4  MELANOMA   63   F  "
      ],
      "text/html": [
       "<div>\n",
       "<style scoped>\n",
       "    .dataframe tbody tr th:only-of-type {\n",
       "        vertical-align: middle;\n",
       "    }\n",
       "\n",
       "    .dataframe tbody tr th {\n",
       "        vertical-align: top;\n",
       "    }\n",
       "\n",
       "    .dataframe thead th {\n",
       "        text-align: right;\n",
       "    }\n",
       "</style>\n",
       "<table border=\"1\" class=\"dataframe\">\n",
       "  <thead>\n",
       "    <tr style=\"text-align: right;\">\n",
       "      <th></th>\n",
       "      <th>Series UID</th>\n",
       "      <th>Collection</th>\n",
       "      <th>3rd Party Analysis</th>\n",
       "      <th>Subject ID</th>\n",
       "      <th>Study UID</th>\n",
       "      <th>Study Description</th>\n",
       "      <th>Study Date</th>\n",
       "      <th>Series Description</th>\n",
       "      <th>Manufacturer</th>\n",
       "      <th>Modality</th>\n",
       "      <th>SOP Class Name</th>\n",
       "      <th>SOP Class UID</th>\n",
       "      <th>Number of Images</th>\n",
       "      <th>File Size</th>\n",
       "      <th>File Location</th>\n",
       "      <th>Download Timestamp</th>\n",
       "      <th>diagnosis</th>\n",
       "      <th>age</th>\n",
       "      <th>sex</th>\n",
       "    </tr>\n",
       "  </thead>\n",
       "  <tbody>\n",
       "    <tr>\n",
       "      <th>0</th>\n",
       "      <td>1.3.6.1.4.1.14519.5.2.1.4219.6651.201203836389...</td>\n",
       "      <td>FDG-PET-CT-Lesions</td>\n",
       "      <td>NO</td>\n",
       "      <td>PETCT_0011f3deaf</td>\n",
       "      <td>1.3.6.1.4.1.14519.5.2.1.4219.6651.389860614478...</td>\n",
       "      <td>PET-CT Ganzkoerper  primaer mit KM</td>\n",
       "      <td>3/23/2003</td>\n",
       "      <td>Segmentation</td>\n",
       "      <td>QIICR</td>\n",
       "      <td>SEG</td>\n",
       "      <td>Segmentation Storage</td>\n",
       "      <td>1.2.840.10008.5.1.4.1.1.66.4</td>\n",
       "      <td>1</td>\n",
       "      <td>6.75 MB</td>\n",
       "      <td>./FDG-PET-CT-Lesions/PETCT_0011f3deaf/03-23-20...</td>\n",
       "      <td>2022-03-17T12:53:16.75</td>\n",
       "      <td>MELANOMA</td>\n",
       "      <td>63</td>\n",
       "      <td>F</td>\n",
       "    </tr>\n",
       "    <tr>\n",
       "      <th>1</th>\n",
       "      <td>1.3.6.1.4.1.14519.5.2.1.4219.6651.685145825998...</td>\n",
       "      <td>FDG-PET-CT-Lesions</td>\n",
       "      <td>NO</td>\n",
       "      <td>PETCT_0011f3deaf</td>\n",
       "      <td>1.3.6.1.4.1.14519.5.2.1.4219.6651.389860614478...</td>\n",
       "      <td>PET-CT Ganzkoerper  primaer mit KM</td>\n",
       "      <td>3/23/2003</td>\n",
       "      <td>PET corr.</td>\n",
       "      <td>SIEMENS</td>\n",
       "      <td>PT</td>\n",
       "      <td>Positron Emission Tomography Image Storage</td>\n",
       "      <td>1.2.840.10008.5.1.4.1.1.128</td>\n",
       "      <td>326</td>\n",
       "      <td>105.82 MB</td>\n",
       "      <td>./FDG-PET-CT-Lesions/PETCT_0011f3deaf/03-23-20...</td>\n",
       "      <td>2022-03-17T12:53:44.865</td>\n",
       "      <td>MELANOMA</td>\n",
       "      <td>63</td>\n",
       "      <td>F</td>\n",
       "    </tr>\n",
       "    <tr>\n",
       "      <th>2</th>\n",
       "      <td>1.3.6.1.4.1.14519.5.2.1.4219.6651.151532511484...</td>\n",
       "      <td>FDG-PET-CT-Lesions</td>\n",
       "      <td>NO</td>\n",
       "      <td>PETCT_01140d52d8</td>\n",
       "      <td>1.3.6.1.4.1.14519.5.2.1.4219.6651.316964892168...</td>\n",
       "      <td>PET-CT Ganzkoerper  primaer mit KM</td>\n",
       "      <td>8/13/2005</td>\n",
       "      <td>PET corr.</td>\n",
       "      <td>SIEMENS</td>\n",
       "      <td>PT</td>\n",
       "      <td>Positron Emission Tomography Image Storage</td>\n",
       "      <td>1.2.840.10008.5.1.4.1.1.128</td>\n",
       "      <td>305</td>\n",
       "      <td>99.01 MB</td>\n",
       "      <td>./FDG-PET-CT-Lesions/PETCT_01140d52d8/08-13-20...</td>\n",
       "      <td>2022-03-17T12:53:45.761</td>\n",
       "      <td>MELANOMA</td>\n",
       "      <td>61</td>\n",
       "      <td>M</td>\n",
       "    </tr>\n",
       "    <tr>\n",
       "      <th>3</th>\n",
       "      <td>1.3.6.1.4.1.14519.5.2.1.4219.6651.313152023416...</td>\n",
       "      <td>FDG-PET-CT-Lesions</td>\n",
       "      <td>NO</td>\n",
       "      <td>PETCT_01140d52d8</td>\n",
       "      <td>1.3.6.1.4.1.14519.5.2.1.4219.6651.316964892168...</td>\n",
       "      <td>PET-CT Ganzkoerper  primaer mit KM</td>\n",
       "      <td>8/13/2005</td>\n",
       "      <td>Segmentation</td>\n",
       "      <td>QIICR</td>\n",
       "      <td>SEG</td>\n",
       "      <td>Segmentation Storage</td>\n",
       "      <td>1.2.840.10008.5.1.4.1.1.66.4</td>\n",
       "      <td>1</td>\n",
       "      <td>6.31 MB</td>\n",
       "      <td>./FDG-PET-CT-Lesions/PETCT_01140d52d8/08-13-20...</td>\n",
       "      <td>2022-03-17T12:53:47.839</td>\n",
       "      <td>MELANOMA</td>\n",
       "      <td>61</td>\n",
       "      <td>M</td>\n",
       "    </tr>\n",
       "    <tr>\n",
       "      <th>4</th>\n",
       "      <td>1.3.6.1.4.1.14519.5.2.1.4219.6651.331726561677...</td>\n",
       "      <td>FDG-PET-CT-Lesions</td>\n",
       "      <td>NO</td>\n",
       "      <td>PETCT_0011f3deaf</td>\n",
       "      <td>1.3.6.1.4.1.14519.5.2.1.4219.6651.389860614478...</td>\n",
       "      <td>PET-CT Ganzkoerper  primaer mit KM</td>\n",
       "      <td>3/23/2003</td>\n",
       "      <td>GK p.v.3</td>\n",
       "      <td>SIEMENS</td>\n",
       "      <td>CT</td>\n",
       "      <td>CT Image Storage</td>\n",
       "      <td>1.2.840.10008.5.1.4.1.1.2</td>\n",
       "      <td>391</td>\n",
       "      <td>206.52 MB</td>\n",
       "      <td>./FDG-PET-CT-Lesions/PETCT_0011f3deaf/03-23-20...</td>\n",
       "      <td>2022-03-17T12:53:53.415</td>\n",
       "      <td>MELANOMA</td>\n",
       "      <td>63</td>\n",
       "      <td>F</td>\n",
       "    </tr>\n",
       "  </tbody>\n",
       "</table>\n",
       "</div>"
      ]
     },
     "execution_count": 1360,
     "metadata": {},
     "output_type": "execute_result"
    }
   ],
   "execution_count": 1360
  },
  {
   "metadata": {
    "ExecuteTime": {
     "end_time": "2024-12-05T23:25:50.150545Z",
     "start_time": "2024-12-05T23:25:50.137323Z"
    }
   },
   "cell_type": "code",
   "source": "data.info()",
   "id": "5c2e0edb457954de",
   "outputs": [
    {
     "name": "stdout",
     "output_type": "stream",
     "text": [
      "<class 'pandas.core.frame.DataFrame'>\n",
      "RangeIndex: 3042 entries, 0 to 3041\n",
      "Data columns (total 19 columns):\n",
      " #   Column              Non-Null Count  Dtype \n",
      "---  ------              --------------  ----- \n",
      " 0   Series UID          3042 non-null   object\n",
      " 1   Collection          3042 non-null   object\n",
      " 2   3rd Party Analysis  3042 non-null   object\n",
      " 3   Subject ID          3042 non-null   object\n",
      " 4   Study UID           3042 non-null   object\n",
      " 5   Study Description   3042 non-null   object\n",
      " 6   Study Date          3042 non-null   object\n",
      " 7   Series Description  3042 non-null   object\n",
      " 8   Manufacturer        3042 non-null   object\n",
      " 9   Modality            3042 non-null   object\n",
      " 10  SOP Class Name      3042 non-null   object\n",
      " 11  SOP Class UID       3042 non-null   object\n",
      " 12  Number of Images    3042 non-null   int64 \n",
      " 13  File Size           3042 non-null   object\n",
      " 14  File Location       3042 non-null   object\n",
      " 15  Download Timestamp  3042 non-null   object\n",
      " 16  diagnosis           3042 non-null   object\n",
      " 17  age                 3042 non-null   int64 \n",
      " 18  sex                 3042 non-null   object\n",
      "dtypes: int64(2), object(17)\n",
      "memory usage: 451.7+ KB\n"
     ]
    }
   ],
   "execution_count": 1361
  },
  {
   "metadata": {
    "ExecuteTime": {
     "end_time": "2024-12-05T23:25:50.253485Z",
     "start_time": "2024-12-05T23:25:50.238606Z"
    }
   },
   "cell_type": "code",
   "source": "data.describe()",
   "id": "e777789473de2db2",
   "outputs": [
    {
     "data": {
      "text/plain": [
       "       Number of Images          age\n",
       "count       3042.000000  3042.000000\n",
       "mean         301.432281    59.403353\n",
       "std          297.575955    15.990050\n",
       "min            1.000000    11.000000\n",
       "25%            1.000000    50.000000\n",
       "50%          326.000000    61.000000\n",
       "75%          391.000000    72.000000\n",
       "max         2651.000000    95.000000"
      ],
      "text/html": [
       "<div>\n",
       "<style scoped>\n",
       "    .dataframe tbody tr th:only-of-type {\n",
       "        vertical-align: middle;\n",
       "    }\n",
       "\n",
       "    .dataframe tbody tr th {\n",
       "        vertical-align: top;\n",
       "    }\n",
       "\n",
       "    .dataframe thead th {\n",
       "        text-align: right;\n",
       "    }\n",
       "</style>\n",
       "<table border=\"1\" class=\"dataframe\">\n",
       "  <thead>\n",
       "    <tr style=\"text-align: right;\">\n",
       "      <th></th>\n",
       "      <th>Number of Images</th>\n",
       "      <th>age</th>\n",
       "    </tr>\n",
       "  </thead>\n",
       "  <tbody>\n",
       "    <tr>\n",
       "      <th>count</th>\n",
       "      <td>3042.000000</td>\n",
       "      <td>3042.000000</td>\n",
       "    </tr>\n",
       "    <tr>\n",
       "      <th>mean</th>\n",
       "      <td>301.432281</td>\n",
       "      <td>59.403353</td>\n",
       "    </tr>\n",
       "    <tr>\n",
       "      <th>std</th>\n",
       "      <td>297.575955</td>\n",
       "      <td>15.990050</td>\n",
       "    </tr>\n",
       "    <tr>\n",
       "      <th>min</th>\n",
       "      <td>1.000000</td>\n",
       "      <td>11.000000</td>\n",
       "    </tr>\n",
       "    <tr>\n",
       "      <th>25%</th>\n",
       "      <td>1.000000</td>\n",
       "      <td>50.000000</td>\n",
       "    </tr>\n",
       "    <tr>\n",
       "      <th>50%</th>\n",
       "      <td>326.000000</td>\n",
       "      <td>61.000000</td>\n",
       "    </tr>\n",
       "    <tr>\n",
       "      <th>75%</th>\n",
       "      <td>391.000000</td>\n",
       "      <td>72.000000</td>\n",
       "    </tr>\n",
       "    <tr>\n",
       "      <th>max</th>\n",
       "      <td>2651.000000</td>\n",
       "      <td>95.000000</td>\n",
       "    </tr>\n",
       "  </tbody>\n",
       "</table>\n",
       "</div>"
      ]
     },
     "execution_count": 1362,
     "metadata": {},
     "output_type": "execute_result"
    }
   ],
   "execution_count": 1362
  },
  {
   "metadata": {
    "ExecuteTime": {
     "end_time": "2024-12-05T23:25:50.370511Z",
     "start_time": "2024-12-05T23:25:50.356861Z"
    }
   },
   "cell_type": "code",
   "source": [
    "subset = data.sample(frac=0.01)\n",
    "subset.head()"
   ],
   "id": "5347a380301e4502",
   "outputs": [
    {
     "data": {
      "text/plain": [
       "                                             Series UID          Collection  \\\n",
       "1297  1.3.6.1.4.1.14519.5.2.1.4219.6651.180673432026...  FDG-PET-CT-Lesions   \n",
       "2544  1.3.6.1.4.1.14519.5.2.1.4219.6651.532200601108...  FDG-PET-CT-Lesions   \n",
       "1100  1.3.6.1.4.1.14519.5.2.1.4219.6651.211445457463...  FDG-PET-CT-Lesions   \n",
       "196   1.3.6.1.4.1.14519.5.2.1.4219.6651.283248167484...  FDG-PET-CT-Lesions   \n",
       "1921  1.3.6.1.4.1.14519.5.2.1.4219.6651.229250374881...  FDG-PET-CT-Lesions   \n",
       "\n",
       "     3rd Party Analysis        Subject ID  \\\n",
       "1297                 NO  PETCT_71ac560ffe   \n",
       "2544                 NO  PETCT_d626611daf   \n",
       "1100                 NO  PETCT_6016a6c3af   \n",
       "196                  NO  PETCT_14f931f634   \n",
       "1921                 NO  PETCT_a4cd2b10de   \n",
       "\n",
       "                                              Study UID  \\\n",
       "1297  1.3.6.1.4.1.14519.5.2.1.4219.6651.195408258191...   \n",
       "2544  1.3.6.1.4.1.14519.5.2.1.4219.6651.127493242739...   \n",
       "1100  1.3.6.1.4.1.14519.5.2.1.4219.6651.943568303614...   \n",
       "196   1.3.6.1.4.1.14519.5.2.1.4219.6651.274553449696...   \n",
       "1921  1.3.6.1.4.1.14519.5.2.1.4219.6651.319460281001...   \n",
       "\n",
       "                       Study Description  Study Date Series Description  \\\n",
       "1297  PET-CT Ganzkoerper  primaer mit KM   3/19/2007       Segmentation   \n",
       "2544  PET-CT Ganzkoerper  primaer mit KM  11/29/2002       Segmentation   \n",
       "1100  PET-CT Ganzkoerper  primaer mit KM    7/1/2002          PET corr.   \n",
       "196   PET-CT Ganzkoerper  primaer mit KM    6/9/2005          PET corr.   \n",
       "1921  PET-CT Ganzkoerper  primaer mit KM  10/15/2005          PET corr.   \n",
       "\n",
       "     Manufacturer Modality                              SOP Class Name  \\\n",
       "1297        QIICR      SEG                        Segmentation Storage   \n",
       "2544        QIICR      SEG                        Segmentation Storage   \n",
       "1100      SIEMENS       PT  Positron Emission Tomography Image Storage   \n",
       "196       SIEMENS       PT  Positron Emission Tomography Image Storage   \n",
       "1921      SIEMENS       PT  Positron Emission Tomography Image Storage   \n",
       "\n",
       "                     SOP Class UID  Number of Images  File Size  \\\n",
       "1297  1.2.840.10008.5.1.4.1.1.66.4                 1   11.38 MB   \n",
       "2544  1.2.840.10008.5.1.4.1.1.66.4                 1   13.68 MB   \n",
       "1100   1.2.840.10008.5.1.4.1.1.128               326  105.82 MB   \n",
       "196    1.2.840.10008.5.1.4.1.1.128               588  190.88 MB   \n",
       "1921   1.2.840.10008.5.1.4.1.1.128               318  103.23 MB   \n",
       "\n",
       "                                          File Location  \\\n",
       "1297  ./FDG-PET-CT-Lesions/PETCT_71ac560ffe/03-19-20...   \n",
       "2544  ./FDG-PET-CT-Lesions/PETCT_d626611daf/11-29-20...   \n",
       "1100  ./FDG-PET-CT-Lesions/PETCT_6016a6c3af/07-01-20...   \n",
       "196   ./FDG-PET-CT-Lesions/PETCT_14f931f634/06-09-20...   \n",
       "1921  ./FDG-PET-CT-Lesions/PETCT_a4cd2b10de/10-15-20...   \n",
       "\n",
       "           Download Timestamp diagnosis  age sex  \n",
       "1297  2022-03-17T16:18:02.005  NEGATIVE   74   F  \n",
       "2544  2022-03-17T20:17:08.414  MELANOMA   79   M  \n",
       "1100  2022-03-17T15:44:37.707  NEGATIVE   81   F  \n",
       "196   2022-03-17T13:25:55.537  MELANOMA   56   F  \n",
       "1921  2022-03-17T18:11:43.994  NEGATIVE   74   M  "
      ],
      "text/html": [
       "<div>\n",
       "<style scoped>\n",
       "    .dataframe tbody tr th:only-of-type {\n",
       "        vertical-align: middle;\n",
       "    }\n",
       "\n",
       "    .dataframe tbody tr th {\n",
       "        vertical-align: top;\n",
       "    }\n",
       "\n",
       "    .dataframe thead th {\n",
       "        text-align: right;\n",
       "    }\n",
       "</style>\n",
       "<table border=\"1\" class=\"dataframe\">\n",
       "  <thead>\n",
       "    <tr style=\"text-align: right;\">\n",
       "      <th></th>\n",
       "      <th>Series UID</th>\n",
       "      <th>Collection</th>\n",
       "      <th>3rd Party Analysis</th>\n",
       "      <th>Subject ID</th>\n",
       "      <th>Study UID</th>\n",
       "      <th>Study Description</th>\n",
       "      <th>Study Date</th>\n",
       "      <th>Series Description</th>\n",
       "      <th>Manufacturer</th>\n",
       "      <th>Modality</th>\n",
       "      <th>SOP Class Name</th>\n",
       "      <th>SOP Class UID</th>\n",
       "      <th>Number of Images</th>\n",
       "      <th>File Size</th>\n",
       "      <th>File Location</th>\n",
       "      <th>Download Timestamp</th>\n",
       "      <th>diagnosis</th>\n",
       "      <th>age</th>\n",
       "      <th>sex</th>\n",
       "    </tr>\n",
       "  </thead>\n",
       "  <tbody>\n",
       "    <tr>\n",
       "      <th>1297</th>\n",
       "      <td>1.3.6.1.4.1.14519.5.2.1.4219.6651.180673432026...</td>\n",
       "      <td>FDG-PET-CT-Lesions</td>\n",
       "      <td>NO</td>\n",
       "      <td>PETCT_71ac560ffe</td>\n",
       "      <td>1.3.6.1.4.1.14519.5.2.1.4219.6651.195408258191...</td>\n",
       "      <td>PET-CT Ganzkoerper  primaer mit KM</td>\n",
       "      <td>3/19/2007</td>\n",
       "      <td>Segmentation</td>\n",
       "      <td>QIICR</td>\n",
       "      <td>SEG</td>\n",
       "      <td>Segmentation Storage</td>\n",
       "      <td>1.2.840.10008.5.1.4.1.1.66.4</td>\n",
       "      <td>1</td>\n",
       "      <td>11.38 MB</td>\n",
       "      <td>./FDG-PET-CT-Lesions/PETCT_71ac560ffe/03-19-20...</td>\n",
       "      <td>2022-03-17T16:18:02.005</td>\n",
       "      <td>NEGATIVE</td>\n",
       "      <td>74</td>\n",
       "      <td>F</td>\n",
       "    </tr>\n",
       "    <tr>\n",
       "      <th>2544</th>\n",
       "      <td>1.3.6.1.4.1.14519.5.2.1.4219.6651.532200601108...</td>\n",
       "      <td>FDG-PET-CT-Lesions</td>\n",
       "      <td>NO</td>\n",
       "      <td>PETCT_d626611daf</td>\n",
       "      <td>1.3.6.1.4.1.14519.5.2.1.4219.6651.127493242739...</td>\n",
       "      <td>PET-CT Ganzkoerper  primaer mit KM</td>\n",
       "      <td>11/29/2002</td>\n",
       "      <td>Segmentation</td>\n",
       "      <td>QIICR</td>\n",
       "      <td>SEG</td>\n",
       "      <td>Segmentation Storage</td>\n",
       "      <td>1.2.840.10008.5.1.4.1.1.66.4</td>\n",
       "      <td>1</td>\n",
       "      <td>13.68 MB</td>\n",
       "      <td>./FDG-PET-CT-Lesions/PETCT_d626611daf/11-29-20...</td>\n",
       "      <td>2022-03-17T20:17:08.414</td>\n",
       "      <td>MELANOMA</td>\n",
       "      <td>79</td>\n",
       "      <td>M</td>\n",
       "    </tr>\n",
       "    <tr>\n",
       "      <th>1100</th>\n",
       "      <td>1.3.6.1.4.1.14519.5.2.1.4219.6651.211445457463...</td>\n",
       "      <td>FDG-PET-CT-Lesions</td>\n",
       "      <td>NO</td>\n",
       "      <td>PETCT_6016a6c3af</td>\n",
       "      <td>1.3.6.1.4.1.14519.5.2.1.4219.6651.943568303614...</td>\n",
       "      <td>PET-CT Ganzkoerper  primaer mit KM</td>\n",
       "      <td>7/1/2002</td>\n",
       "      <td>PET corr.</td>\n",
       "      <td>SIEMENS</td>\n",
       "      <td>PT</td>\n",
       "      <td>Positron Emission Tomography Image Storage</td>\n",
       "      <td>1.2.840.10008.5.1.4.1.1.128</td>\n",
       "      <td>326</td>\n",
       "      <td>105.82 MB</td>\n",
       "      <td>./FDG-PET-CT-Lesions/PETCT_6016a6c3af/07-01-20...</td>\n",
       "      <td>2022-03-17T15:44:37.707</td>\n",
       "      <td>NEGATIVE</td>\n",
       "      <td>81</td>\n",
       "      <td>F</td>\n",
       "    </tr>\n",
       "    <tr>\n",
       "      <th>196</th>\n",
       "      <td>1.3.6.1.4.1.14519.5.2.1.4219.6651.283248167484...</td>\n",
       "      <td>FDG-PET-CT-Lesions</td>\n",
       "      <td>NO</td>\n",
       "      <td>PETCT_14f931f634</td>\n",
       "      <td>1.3.6.1.4.1.14519.5.2.1.4219.6651.274553449696...</td>\n",
       "      <td>PET-CT Ganzkoerper  primaer mit KM</td>\n",
       "      <td>6/9/2005</td>\n",
       "      <td>PET corr.</td>\n",
       "      <td>SIEMENS</td>\n",
       "      <td>PT</td>\n",
       "      <td>Positron Emission Tomography Image Storage</td>\n",
       "      <td>1.2.840.10008.5.1.4.1.1.128</td>\n",
       "      <td>588</td>\n",
       "      <td>190.88 MB</td>\n",
       "      <td>./FDG-PET-CT-Lesions/PETCT_14f931f634/06-09-20...</td>\n",
       "      <td>2022-03-17T13:25:55.537</td>\n",
       "      <td>MELANOMA</td>\n",
       "      <td>56</td>\n",
       "      <td>F</td>\n",
       "    </tr>\n",
       "    <tr>\n",
       "      <th>1921</th>\n",
       "      <td>1.3.6.1.4.1.14519.5.2.1.4219.6651.229250374881...</td>\n",
       "      <td>FDG-PET-CT-Lesions</td>\n",
       "      <td>NO</td>\n",
       "      <td>PETCT_a4cd2b10de</td>\n",
       "      <td>1.3.6.1.4.1.14519.5.2.1.4219.6651.319460281001...</td>\n",
       "      <td>PET-CT Ganzkoerper  primaer mit KM</td>\n",
       "      <td>10/15/2005</td>\n",
       "      <td>PET corr.</td>\n",
       "      <td>SIEMENS</td>\n",
       "      <td>PT</td>\n",
       "      <td>Positron Emission Tomography Image Storage</td>\n",
       "      <td>1.2.840.10008.5.1.4.1.1.128</td>\n",
       "      <td>318</td>\n",
       "      <td>103.23 MB</td>\n",
       "      <td>./FDG-PET-CT-Lesions/PETCT_a4cd2b10de/10-15-20...</td>\n",
       "      <td>2022-03-17T18:11:43.994</td>\n",
       "      <td>NEGATIVE</td>\n",
       "      <td>74</td>\n",
       "      <td>M</td>\n",
       "    </tr>\n",
       "  </tbody>\n",
       "</table>\n",
       "</div>"
      ]
     },
     "execution_count": 1363,
     "metadata": {},
     "output_type": "execute_result"
    }
   ],
   "execution_count": 1363
  },
  {
   "metadata": {
    "ExecuteTime": {
     "end_time": "2024-12-05T23:25:50.496008Z",
     "start_time": "2024-12-05T23:25:50.490326Z"
    }
   },
   "cell_type": "code",
   "source": [
    "# Данные которые будут размечать Label_Studio\n",
    "subset.to_csv(\"Subset_Clinical-Metadata-FDG-PET_CT.csv\", index=False)"
   ],
   "id": "d90686cbb601eb3e",
   "outputs": [],
   "execution_count": 1364
  },
  {
   "metadata": {
    "ExecuteTime": {
     "end_time": "2024-12-05T23:25:50.597179Z",
     "start_time": "2024-12-05T23:25:50.588041Z"
    }
   },
   "cell_type": "code",
   "source": [
    "# Данные размеченные в Label_Studio \n",
    "manual_data = pd.read_csv(\"Manual_labeled_Subset_Clinical-Metadata-FDG-PET_CT.csv\")"
   ],
   "id": "cc4cc3c4609e7140",
   "outputs": [],
   "execution_count": 1365
  },
  {
   "metadata": {
    "ExecuteTime": {
     "end_time": "2024-12-05T23:25:50.695289Z",
     "start_time": "2024-12-05T23:25:50.677709Z"
    }
   },
   "cell_type": "code",
   "source": "manual_data.head()",
   "id": "ce14396c94ad91e3",
   "outputs": [
    {
     "data": {
      "text/plain": [
       "  3rd Party Analysis          Collection       Download Timestamp  \\\n",
       "0                 NO  FDG-PET-CT-Lesions  2022-03-17T16:40:53.654   \n",
       "1                 NO  FDG-PET-CT-Lesions  2022-03-17T17:47:33.551   \n",
       "2                 NO  FDG-PET-CT-Lesions  2022-03-17T18:04:51.822   \n",
       "3                 NO  FDG-PET-CT-Lesions  2022-03-17T14:30:23.645   \n",
       "4                 NO  FDG-PET-CT-Lesions  2022-03-17T20:36:18.524   \n",
       "\n",
       "                                       File Location  File Size Manufacturer  \\\n",
       "0  ./FDG-PET-CT-Lesions/PETCT_7cfd708a53/06-17-20...  186.99 MB      SIEMENS   \n",
       "1  ./FDG-PET-CT-Lesions/PETCT_9b9d67b3ff/07-12-20...  179.60 MB      SIEMENS   \n",
       "2  ./FDG-PET-CT-Lesions/PETCT_a2a68bbe97/08-21-20...  206.55 MB      SIEMENS   \n",
       "3  ./FDG-PET-CT-Lesions/PETCT_39eca178a1/06-08-20...  132.76 MB      SIEMENS   \n",
       "4  ./FDG-PET-CT-Lesions/PETCT_dc15c1d9bb/06-03-20...  190.15 MB      SIEMENS   \n",
       "\n",
       "  Modality  Number of Images                              SOP Class Name  \\\n",
       "0       PT               576  Positron Emission Tomography Image Storage   \n",
       "1       CT               340                            CT Image Storage   \n",
       "2       CT               391                            CT Image Storage   \n",
       "3       PT               409  Positron Emission Tomography Image Storage   \n",
       "4       CT               360                            CT Image Storage   \n",
       "\n",
       "                 SOP Class UID  ... age annotation_id annotator  \\\n",
       "0  1.2.840.10008.5.1.4.1.1.128  ...  55             6         1   \n",
       "1    1.2.840.10008.5.1.4.1.1.2  ...  62             7         1   \n",
       "2    1.2.840.10008.5.1.4.1.1.2  ...  48             8         1   \n",
       "3  1.2.840.10008.5.1.4.1.1.128  ...  18             9         1   \n",
       "4    1.2.840.10008.5.1.4.1.1.2  ...  49            10         1   \n",
       "\n",
       "                    created_at diagnosis id  lead_time  sentiment  \\\n",
       "0  2024-12-05T20:37:39.060551Z  MELANOMA  1      3.553       SICK   \n",
       "1  2024-12-05T20:39:54.351849Z  NEGATIVE  2      8.255   NOT_SICK   \n",
       "2  2024-12-05T20:40:19.250762Z  MELANOMA  3      2.842       SICK   \n",
       "3  2024-12-05T20:40:34.714650Z  NEGATIVE  4      5.980   NOT_SICK   \n",
       "4  2024-12-05T20:40:53.865133Z  NEGATIVE  5      2.660   NOT_SICK   \n",
       "\n",
       "                                  sex                   updated_at  \n",
       "0                                   M  2024-12-05T20:37:39.060551Z  \n",
       "1                                   M  2024-12-05T20:39:54.351849Z  \n",
       "2                                   M  2024-12-05T20:40:19.250762Z  \n",
       "3  0    M\\r\\nName: sex, dtype: object  2024-12-05T20:40:34.714650Z  \n",
       "4                                   M  2024-12-05T20:40:53.865133Z  \n",
       "\n",
       "[5 rows x 26 columns]"
      ],
      "text/html": [
       "<div>\n",
       "<style scoped>\n",
       "    .dataframe tbody tr th:only-of-type {\n",
       "        vertical-align: middle;\n",
       "    }\n",
       "\n",
       "    .dataframe tbody tr th {\n",
       "        vertical-align: top;\n",
       "    }\n",
       "\n",
       "    .dataframe thead th {\n",
       "        text-align: right;\n",
       "    }\n",
       "</style>\n",
       "<table border=\"1\" class=\"dataframe\">\n",
       "  <thead>\n",
       "    <tr style=\"text-align: right;\">\n",
       "      <th></th>\n",
       "      <th>3rd Party Analysis</th>\n",
       "      <th>Collection</th>\n",
       "      <th>Download Timestamp</th>\n",
       "      <th>File Location</th>\n",
       "      <th>File Size</th>\n",
       "      <th>Manufacturer</th>\n",
       "      <th>Modality</th>\n",
       "      <th>Number of Images</th>\n",
       "      <th>SOP Class Name</th>\n",
       "      <th>SOP Class UID</th>\n",
       "      <th>...</th>\n",
       "      <th>age</th>\n",
       "      <th>annotation_id</th>\n",
       "      <th>annotator</th>\n",
       "      <th>created_at</th>\n",
       "      <th>diagnosis</th>\n",
       "      <th>id</th>\n",
       "      <th>lead_time</th>\n",
       "      <th>sentiment</th>\n",
       "      <th>sex</th>\n",
       "      <th>updated_at</th>\n",
       "    </tr>\n",
       "  </thead>\n",
       "  <tbody>\n",
       "    <tr>\n",
       "      <th>0</th>\n",
       "      <td>NO</td>\n",
       "      <td>FDG-PET-CT-Lesions</td>\n",
       "      <td>2022-03-17T16:40:53.654</td>\n",
       "      <td>./FDG-PET-CT-Lesions/PETCT_7cfd708a53/06-17-20...</td>\n",
       "      <td>186.99 MB</td>\n",
       "      <td>SIEMENS</td>\n",
       "      <td>PT</td>\n",
       "      <td>576</td>\n",
       "      <td>Positron Emission Tomography Image Storage</td>\n",
       "      <td>1.2.840.10008.5.1.4.1.1.128</td>\n",
       "      <td>...</td>\n",
       "      <td>55</td>\n",
       "      <td>6</td>\n",
       "      <td>1</td>\n",
       "      <td>2024-12-05T20:37:39.060551Z</td>\n",
       "      <td>MELANOMA</td>\n",
       "      <td>1</td>\n",
       "      <td>3.553</td>\n",
       "      <td>SICK</td>\n",
       "      <td>M</td>\n",
       "      <td>2024-12-05T20:37:39.060551Z</td>\n",
       "    </tr>\n",
       "    <tr>\n",
       "      <th>1</th>\n",
       "      <td>NO</td>\n",
       "      <td>FDG-PET-CT-Lesions</td>\n",
       "      <td>2022-03-17T17:47:33.551</td>\n",
       "      <td>./FDG-PET-CT-Lesions/PETCT_9b9d67b3ff/07-12-20...</td>\n",
       "      <td>179.60 MB</td>\n",
       "      <td>SIEMENS</td>\n",
       "      <td>CT</td>\n",
       "      <td>340</td>\n",
       "      <td>CT Image Storage</td>\n",
       "      <td>1.2.840.10008.5.1.4.1.1.2</td>\n",
       "      <td>...</td>\n",
       "      <td>62</td>\n",
       "      <td>7</td>\n",
       "      <td>1</td>\n",
       "      <td>2024-12-05T20:39:54.351849Z</td>\n",
       "      <td>NEGATIVE</td>\n",
       "      <td>2</td>\n",
       "      <td>8.255</td>\n",
       "      <td>NOT_SICK</td>\n",
       "      <td>M</td>\n",
       "      <td>2024-12-05T20:39:54.351849Z</td>\n",
       "    </tr>\n",
       "    <tr>\n",
       "      <th>2</th>\n",
       "      <td>NO</td>\n",
       "      <td>FDG-PET-CT-Lesions</td>\n",
       "      <td>2022-03-17T18:04:51.822</td>\n",
       "      <td>./FDG-PET-CT-Lesions/PETCT_a2a68bbe97/08-21-20...</td>\n",
       "      <td>206.55 MB</td>\n",
       "      <td>SIEMENS</td>\n",
       "      <td>CT</td>\n",
       "      <td>391</td>\n",
       "      <td>CT Image Storage</td>\n",
       "      <td>1.2.840.10008.5.1.4.1.1.2</td>\n",
       "      <td>...</td>\n",
       "      <td>48</td>\n",
       "      <td>8</td>\n",
       "      <td>1</td>\n",
       "      <td>2024-12-05T20:40:19.250762Z</td>\n",
       "      <td>MELANOMA</td>\n",
       "      <td>3</td>\n",
       "      <td>2.842</td>\n",
       "      <td>SICK</td>\n",
       "      <td>M</td>\n",
       "      <td>2024-12-05T20:40:19.250762Z</td>\n",
       "    </tr>\n",
       "    <tr>\n",
       "      <th>3</th>\n",
       "      <td>NO</td>\n",
       "      <td>FDG-PET-CT-Lesions</td>\n",
       "      <td>2022-03-17T14:30:23.645</td>\n",
       "      <td>./FDG-PET-CT-Lesions/PETCT_39eca178a1/06-08-20...</td>\n",
       "      <td>132.76 MB</td>\n",
       "      <td>SIEMENS</td>\n",
       "      <td>PT</td>\n",
       "      <td>409</td>\n",
       "      <td>Positron Emission Tomography Image Storage</td>\n",
       "      <td>1.2.840.10008.5.1.4.1.1.128</td>\n",
       "      <td>...</td>\n",
       "      <td>18</td>\n",
       "      <td>9</td>\n",
       "      <td>1</td>\n",
       "      <td>2024-12-05T20:40:34.714650Z</td>\n",
       "      <td>NEGATIVE</td>\n",
       "      <td>4</td>\n",
       "      <td>5.980</td>\n",
       "      <td>NOT_SICK</td>\n",
       "      <td>0    M\\r\\nName: sex, dtype: object</td>\n",
       "      <td>2024-12-05T20:40:34.714650Z</td>\n",
       "    </tr>\n",
       "    <tr>\n",
       "      <th>4</th>\n",
       "      <td>NO</td>\n",
       "      <td>FDG-PET-CT-Lesions</td>\n",
       "      <td>2022-03-17T20:36:18.524</td>\n",
       "      <td>./FDG-PET-CT-Lesions/PETCT_dc15c1d9bb/06-03-20...</td>\n",
       "      <td>190.15 MB</td>\n",
       "      <td>SIEMENS</td>\n",
       "      <td>CT</td>\n",
       "      <td>360</td>\n",
       "      <td>CT Image Storage</td>\n",
       "      <td>1.2.840.10008.5.1.4.1.1.2</td>\n",
       "      <td>...</td>\n",
       "      <td>49</td>\n",
       "      <td>10</td>\n",
       "      <td>1</td>\n",
       "      <td>2024-12-05T20:40:53.865133Z</td>\n",
       "      <td>NEGATIVE</td>\n",
       "      <td>5</td>\n",
       "      <td>2.660</td>\n",
       "      <td>NOT_SICK</td>\n",
       "      <td>M</td>\n",
       "      <td>2024-12-05T20:40:53.865133Z</td>\n",
       "    </tr>\n",
       "  </tbody>\n",
       "</table>\n",
       "<p>5 rows × 26 columns</p>\n",
       "</div>"
      ]
     },
     "execution_count": 1366,
     "metadata": {},
     "output_type": "execute_result"
    }
   ],
   "execution_count": 1366
  },
  {
   "metadata": {
    "ExecuteTime": {
     "end_time": "2024-12-05T23:25:50.827245Z",
     "start_time": "2024-12-05T23:25:50.814185Z"
    }
   },
   "cell_type": "code",
   "source": "manual_data.info()",
   "id": "c640ae56c1b39650",
   "outputs": [
    {
     "name": "stdout",
     "output_type": "stream",
     "text": [
      "<class 'pandas.core.frame.DataFrame'>\n",
      "RangeIndex: 30 entries, 0 to 29\n",
      "Data columns (total 26 columns):\n",
      " #   Column              Non-Null Count  Dtype  \n",
      "---  ------              --------------  -----  \n",
      " 0   3rd Party Analysis  30 non-null     object \n",
      " 1   Collection          30 non-null     object \n",
      " 2   Download Timestamp  30 non-null     object \n",
      " 3   File Location       30 non-null     object \n",
      " 4   File Size           30 non-null     object \n",
      " 5   Manufacturer        30 non-null     object \n",
      " 6   Modality            30 non-null     object \n",
      " 7   Number of Images    30 non-null     int64  \n",
      " 8   SOP Class Name      30 non-null     object \n",
      " 9   SOP Class UID       30 non-null     object \n",
      " 10  Series Description  30 non-null     object \n",
      " 11  Series UID          30 non-null     object \n",
      " 12  Study Date          30 non-null     object \n",
      " 13  Study Description   30 non-null     object \n",
      " 14  Study UID           30 non-null     object \n",
      " 15  Subject ID          30 non-null     object \n",
      " 16  age                 30 non-null     int64  \n",
      " 17  annotation_id       30 non-null     int64  \n",
      " 18  annotator           30 non-null     int64  \n",
      " 19  created_at          30 non-null     object \n",
      " 20  diagnosis           30 non-null     object \n",
      " 21  id                  30 non-null     int64  \n",
      " 22  lead_time           30 non-null     float64\n",
      " 23  sentiment           30 non-null     object \n",
      " 24  sex                 30 non-null     object \n",
      " 25  updated_at          30 non-null     object \n",
      "dtypes: float64(1), int64(5), object(20)\n",
      "memory usage: 6.2+ KB\n"
     ]
    }
   ],
   "execution_count": 1367
  },
  {
   "metadata": {
    "ExecuteTime": {
     "end_time": "2024-12-05T23:25:50.954417Z",
     "start_time": "2024-12-05T23:25:50.942521Z"
    }
   },
   "cell_type": "code",
   "source": [
    "deleted_columns = list(set(subset.columns.tolist()).symmetric_difference(set(manual_data.columns.tolist())))\n",
    "manual_data['Patient status']=manual_data['sentiment']\n",
    "manual_data.drop(columns=deleted_columns, inplace=True)\n",
    "manual_data.info()"
   ],
   "id": "dd782f506999486c",
   "outputs": [
    {
     "name": "stdout",
     "output_type": "stream",
     "text": [
      "<class 'pandas.core.frame.DataFrame'>\n",
      "RangeIndex: 30 entries, 0 to 29\n",
      "Data columns (total 20 columns):\n",
      " #   Column              Non-Null Count  Dtype \n",
      "---  ------              --------------  ----- \n",
      " 0   3rd Party Analysis  30 non-null     object\n",
      " 1   Collection          30 non-null     object\n",
      " 2   Download Timestamp  30 non-null     object\n",
      " 3   File Location       30 non-null     object\n",
      " 4   File Size           30 non-null     object\n",
      " 5   Manufacturer        30 non-null     object\n",
      " 6   Modality            30 non-null     object\n",
      " 7   Number of Images    30 non-null     int64 \n",
      " 8   SOP Class Name      30 non-null     object\n",
      " 9   SOP Class UID       30 non-null     object\n",
      " 10  Series Description  30 non-null     object\n",
      " 11  Series UID          30 non-null     object\n",
      " 12  Study Date          30 non-null     object\n",
      " 13  Study Description   30 non-null     object\n",
      " 14  Study UID           30 non-null     object\n",
      " 15  Subject ID          30 non-null     object\n",
      " 16  age                 30 non-null     int64 \n",
      " 17  diagnosis           30 non-null     object\n",
      " 18  sex                 30 non-null     object\n",
      " 19  Patient status      30 non-null     object\n",
      "dtypes: int64(2), object(18)\n",
      "memory usage: 4.8+ KB\n"
     ]
    }
   ],
   "execution_count": 1368
  },
  {
   "metadata": {
    "ExecuteTime": {
     "end_time": "2024-12-05T23:25:51.247143Z",
     "start_time": "2024-12-05T23:25:51.069101Z"
    }
   },
   "cell_type": "code",
   "source": [
    "# Добавим к диагнозу слова из случайных слов. Вставляем ключевое слово диагноза в случайное место в предложении\n",
    "def add_random_words(initial_word):\n",
    "    length=random.randint(1, 10)\n",
    "    count_words=random.randint(5, 20)\n",
    "    random_words = [' '.join(random.choices(string.ascii_lowercase, k=length)) for _ in range(count_words)]\n",
    "    senten=initial_word.join(random_words)\n",
    "    words=senten.split()\n",
    "    random.shuffle(words)\n",
    "    return ' '.join(words)\n",
    "\n",
    "manual_data['diagnosis']=manual_data['diagnosis'].apply(add_random_words)\n",
    "marked_by_rules_data['diagnosis']=marked_by_rules_data['diagnosis'].apply(add_random_words)"
   ],
   "id": "ee228b9b30b17c30",
   "outputs": [],
   "execution_count": 1369
  },
  {
   "metadata": {
    "ExecuteTime": {
     "end_time": "2024-12-05T23:25:51.330300Z",
     "start_time": "2024-12-05T23:25:51.326541Z"
    }
   },
   "cell_type": "code",
   "source": "",
   "id": "58a7ce4f5b40938e",
   "outputs": [],
   "execution_count": null
  },
  {
   "metadata": {
    "ExecuteTime": {
     "end_time": "2024-12-05T23:25:51.472223Z",
     "start_time": "2024-12-05T23:25:51.466698Z"
    }
   },
   "cell_type": "code",
   "source": "manual_data_initial=manual_data",
   "id": "1d840e7b0864fe64",
   "outputs": [],
   "execution_count": 1370
  },
  {
   "metadata": {
    "ExecuteTime": {
     "end_time": "2024-12-05T23:25:51.627459Z",
     "start_time": "2024-12-05T23:25:51.598738Z"
    }
   },
   "cell_type": "code",
   "source": [
    "common_data=pd.concat([marked_by_rules_data, manual_data], ignore_index=True)\n",
    "common_data.head()"
   ],
   "id": "3d002b5880cd0597",
   "outputs": [
    {
     "data": {
      "text/plain": [
       "                                          Series UID          Collection  \\\n",
       "0  1.3.6.1.4.1.14519.5.2.1.4219.6651.201203836389...  FDG-PET-CT-Lesions   \n",
       "1  1.3.6.1.4.1.14519.5.2.1.4219.6651.685145825998...  FDG-PET-CT-Lesions   \n",
       "2  1.3.6.1.4.1.14519.5.2.1.4219.6651.151532511484...  FDG-PET-CT-Lesions   \n",
       "3  1.3.6.1.4.1.14519.5.2.1.4219.6651.313152023416...  FDG-PET-CT-Lesions   \n",
       "4  1.3.6.1.4.1.14519.5.2.1.4219.6651.331726561677...  FDG-PET-CT-Lesions   \n",
       "\n",
       "  3rd Party Analysis        Subject ID  \\\n",
       "0                 NO  PETCT_0011f3deaf   \n",
       "1                 NO  PETCT_0011f3deaf   \n",
       "2                 NO  PETCT_01140d52d8   \n",
       "3                 NO  PETCT_01140d52d8   \n",
       "4                 NO  PETCT_0011f3deaf   \n",
       "\n",
       "                                           Study UID  \\\n",
       "0  1.3.6.1.4.1.14519.5.2.1.4219.6651.389860614478...   \n",
       "1  1.3.6.1.4.1.14519.5.2.1.4219.6651.389860614478...   \n",
       "2  1.3.6.1.4.1.14519.5.2.1.4219.6651.316964892168...   \n",
       "3  1.3.6.1.4.1.14519.5.2.1.4219.6651.316964892168...   \n",
       "4  1.3.6.1.4.1.14519.5.2.1.4219.6651.389860614478...   \n",
       "\n",
       "                    Study Description Study Date Series Description  \\\n",
       "0  PET-CT Ganzkoerper  primaer mit KM  3/23/2003       Segmentation   \n",
       "1  PET-CT Ganzkoerper  primaer mit KM  3/23/2003          PET corr.   \n",
       "2  PET-CT Ganzkoerper  primaer mit KM  8/13/2005          PET corr.   \n",
       "3  PET-CT Ganzkoerper  primaer mit KM  8/13/2005       Segmentation   \n",
       "4  PET-CT Ganzkoerper  primaer mit KM  3/23/2003           GK p.v.3   \n",
       "\n",
       "  Manufacturer Modality                              SOP Class Name  \\\n",
       "0        QIICR      SEG                        Segmentation Storage   \n",
       "1      SIEMENS       PT  Positron Emission Tomography Image Storage   \n",
       "2      SIEMENS       PT  Positron Emission Tomography Image Storage   \n",
       "3        QIICR      SEG                        Segmentation Storage   \n",
       "4      SIEMENS       CT                            CT Image Storage   \n",
       "\n",
       "                  SOP Class UID  Number of Images  File Size  \\\n",
       "0  1.2.840.10008.5.1.4.1.1.66.4                 1    6.75 MB   \n",
       "1   1.2.840.10008.5.1.4.1.1.128               326  105.82 MB   \n",
       "2   1.2.840.10008.5.1.4.1.1.128               305   99.01 MB   \n",
       "3  1.2.840.10008.5.1.4.1.1.66.4                 1    6.31 MB   \n",
       "4     1.2.840.10008.5.1.4.1.1.2               391  206.52 MB   \n",
       "\n",
       "                                       File Location       Download Timestamp  \\\n",
       "0  ./FDG-PET-CT-Lesions/PETCT_0011f3deaf/03-23-20...   2022-03-17T12:53:16.75   \n",
       "1  ./FDG-PET-CT-Lesions/PETCT_0011f3deaf/03-23-20...  2022-03-17T12:53:44.865   \n",
       "2  ./FDG-PET-CT-Lesions/PETCT_01140d52d8/08-13-20...  2022-03-17T12:53:45.761   \n",
       "3  ./FDG-PET-CT-Lesions/PETCT_01140d52d8/08-13-20...  2022-03-17T12:53:47.839   \n",
       "4  ./FDG-PET-CT-Lesions/PETCT_0011f3deaf/03-23-20...  2022-03-17T12:53:53.415   \n",
       "\n",
       "                                           diagnosis  age sex Patient status  \n",
       "0  y a o f k l o k k q r t b v m uMELANOMAj t h j...   63   F           SICK  \n",
       "1  vMELANOMAr yMELANOMAf j hMELANOMAe v s hMELANO...   63   F           SICK  \n",
       "2  c j lMELANOMAs r t f c o y j s q m f s k jMELA...   61   M           SICK  \n",
       "3  m f n z u s r x p l y g b j y q m j s jMELANOM...   61   M           SICK  \n",
       "4  u m o l w e dMELANOMAr b m m u i bMELANOMAf zM...   63   F           SICK  "
      ],
      "text/html": [
       "<div>\n",
       "<style scoped>\n",
       "    .dataframe tbody tr th:only-of-type {\n",
       "        vertical-align: middle;\n",
       "    }\n",
       "\n",
       "    .dataframe tbody tr th {\n",
       "        vertical-align: top;\n",
       "    }\n",
       "\n",
       "    .dataframe thead th {\n",
       "        text-align: right;\n",
       "    }\n",
       "</style>\n",
       "<table border=\"1\" class=\"dataframe\">\n",
       "  <thead>\n",
       "    <tr style=\"text-align: right;\">\n",
       "      <th></th>\n",
       "      <th>Series UID</th>\n",
       "      <th>Collection</th>\n",
       "      <th>3rd Party Analysis</th>\n",
       "      <th>Subject ID</th>\n",
       "      <th>Study UID</th>\n",
       "      <th>Study Description</th>\n",
       "      <th>Study Date</th>\n",
       "      <th>Series Description</th>\n",
       "      <th>Manufacturer</th>\n",
       "      <th>Modality</th>\n",
       "      <th>SOP Class Name</th>\n",
       "      <th>SOP Class UID</th>\n",
       "      <th>Number of Images</th>\n",
       "      <th>File Size</th>\n",
       "      <th>File Location</th>\n",
       "      <th>Download Timestamp</th>\n",
       "      <th>diagnosis</th>\n",
       "      <th>age</th>\n",
       "      <th>sex</th>\n",
       "      <th>Patient status</th>\n",
       "    </tr>\n",
       "  </thead>\n",
       "  <tbody>\n",
       "    <tr>\n",
       "      <th>0</th>\n",
       "      <td>1.3.6.1.4.1.14519.5.2.1.4219.6651.201203836389...</td>\n",
       "      <td>FDG-PET-CT-Lesions</td>\n",
       "      <td>NO</td>\n",
       "      <td>PETCT_0011f3deaf</td>\n",
       "      <td>1.3.6.1.4.1.14519.5.2.1.4219.6651.389860614478...</td>\n",
       "      <td>PET-CT Ganzkoerper  primaer mit KM</td>\n",
       "      <td>3/23/2003</td>\n",
       "      <td>Segmentation</td>\n",
       "      <td>QIICR</td>\n",
       "      <td>SEG</td>\n",
       "      <td>Segmentation Storage</td>\n",
       "      <td>1.2.840.10008.5.1.4.1.1.66.4</td>\n",
       "      <td>1</td>\n",
       "      <td>6.75 MB</td>\n",
       "      <td>./FDG-PET-CT-Lesions/PETCT_0011f3deaf/03-23-20...</td>\n",
       "      <td>2022-03-17T12:53:16.75</td>\n",
       "      <td>y a o f k l o k k q r t b v m uMELANOMAj t h j...</td>\n",
       "      <td>63</td>\n",
       "      <td>F</td>\n",
       "      <td>SICK</td>\n",
       "    </tr>\n",
       "    <tr>\n",
       "      <th>1</th>\n",
       "      <td>1.3.6.1.4.1.14519.5.2.1.4219.6651.685145825998...</td>\n",
       "      <td>FDG-PET-CT-Lesions</td>\n",
       "      <td>NO</td>\n",
       "      <td>PETCT_0011f3deaf</td>\n",
       "      <td>1.3.6.1.4.1.14519.5.2.1.4219.6651.389860614478...</td>\n",
       "      <td>PET-CT Ganzkoerper  primaer mit KM</td>\n",
       "      <td>3/23/2003</td>\n",
       "      <td>PET corr.</td>\n",
       "      <td>SIEMENS</td>\n",
       "      <td>PT</td>\n",
       "      <td>Positron Emission Tomography Image Storage</td>\n",
       "      <td>1.2.840.10008.5.1.4.1.1.128</td>\n",
       "      <td>326</td>\n",
       "      <td>105.82 MB</td>\n",
       "      <td>./FDG-PET-CT-Lesions/PETCT_0011f3deaf/03-23-20...</td>\n",
       "      <td>2022-03-17T12:53:44.865</td>\n",
       "      <td>vMELANOMAr yMELANOMAf j hMELANOMAe v s hMELANO...</td>\n",
       "      <td>63</td>\n",
       "      <td>F</td>\n",
       "      <td>SICK</td>\n",
       "    </tr>\n",
       "    <tr>\n",
       "      <th>2</th>\n",
       "      <td>1.3.6.1.4.1.14519.5.2.1.4219.6651.151532511484...</td>\n",
       "      <td>FDG-PET-CT-Lesions</td>\n",
       "      <td>NO</td>\n",
       "      <td>PETCT_01140d52d8</td>\n",
       "      <td>1.3.6.1.4.1.14519.5.2.1.4219.6651.316964892168...</td>\n",
       "      <td>PET-CT Ganzkoerper  primaer mit KM</td>\n",
       "      <td>8/13/2005</td>\n",
       "      <td>PET corr.</td>\n",
       "      <td>SIEMENS</td>\n",
       "      <td>PT</td>\n",
       "      <td>Positron Emission Tomography Image Storage</td>\n",
       "      <td>1.2.840.10008.5.1.4.1.1.128</td>\n",
       "      <td>305</td>\n",
       "      <td>99.01 MB</td>\n",
       "      <td>./FDG-PET-CT-Lesions/PETCT_01140d52d8/08-13-20...</td>\n",
       "      <td>2022-03-17T12:53:45.761</td>\n",
       "      <td>c j lMELANOMAs r t f c o y j s q m f s k jMELA...</td>\n",
       "      <td>61</td>\n",
       "      <td>M</td>\n",
       "      <td>SICK</td>\n",
       "    </tr>\n",
       "    <tr>\n",
       "      <th>3</th>\n",
       "      <td>1.3.6.1.4.1.14519.5.2.1.4219.6651.313152023416...</td>\n",
       "      <td>FDG-PET-CT-Lesions</td>\n",
       "      <td>NO</td>\n",
       "      <td>PETCT_01140d52d8</td>\n",
       "      <td>1.3.6.1.4.1.14519.5.2.1.4219.6651.316964892168...</td>\n",
       "      <td>PET-CT Ganzkoerper  primaer mit KM</td>\n",
       "      <td>8/13/2005</td>\n",
       "      <td>Segmentation</td>\n",
       "      <td>QIICR</td>\n",
       "      <td>SEG</td>\n",
       "      <td>Segmentation Storage</td>\n",
       "      <td>1.2.840.10008.5.1.4.1.1.66.4</td>\n",
       "      <td>1</td>\n",
       "      <td>6.31 MB</td>\n",
       "      <td>./FDG-PET-CT-Lesions/PETCT_01140d52d8/08-13-20...</td>\n",
       "      <td>2022-03-17T12:53:47.839</td>\n",
       "      <td>m f n z u s r x p l y g b j y q m j s jMELANOM...</td>\n",
       "      <td>61</td>\n",
       "      <td>M</td>\n",
       "      <td>SICK</td>\n",
       "    </tr>\n",
       "    <tr>\n",
       "      <th>4</th>\n",
       "      <td>1.3.6.1.4.1.14519.5.2.1.4219.6651.331726561677...</td>\n",
       "      <td>FDG-PET-CT-Lesions</td>\n",
       "      <td>NO</td>\n",
       "      <td>PETCT_0011f3deaf</td>\n",
       "      <td>1.3.6.1.4.1.14519.5.2.1.4219.6651.389860614478...</td>\n",
       "      <td>PET-CT Ganzkoerper  primaer mit KM</td>\n",
       "      <td>3/23/2003</td>\n",
       "      <td>GK p.v.3</td>\n",
       "      <td>SIEMENS</td>\n",
       "      <td>CT</td>\n",
       "      <td>CT Image Storage</td>\n",
       "      <td>1.2.840.10008.5.1.4.1.1.2</td>\n",
       "      <td>391</td>\n",
       "      <td>206.52 MB</td>\n",
       "      <td>./FDG-PET-CT-Lesions/PETCT_0011f3deaf/03-23-20...</td>\n",
       "      <td>2022-03-17T12:53:53.415</td>\n",
       "      <td>u m o l w e dMELANOMAr b m m u i bMELANOMAf zM...</td>\n",
       "      <td>63</td>\n",
       "      <td>F</td>\n",
       "      <td>SICK</td>\n",
       "    </tr>\n",
       "  </tbody>\n",
       "</table>\n",
       "</div>"
      ]
     },
     "execution_count": 1371,
     "metadata": {},
     "output_type": "execute_result"
    }
   ],
   "execution_count": 1371
  },
  {
   "metadata": {
    "ExecuteTime": {
     "end_time": "2024-12-05T23:25:51.843482Z",
     "start_time": "2024-12-05T23:25:51.823288Z"
    }
   },
   "cell_type": "code",
   "source": "common_data.info()",
   "id": "22ffa4b4baecb965",
   "outputs": [
    {
     "name": "stdout",
     "output_type": "stream",
     "text": [
      "<class 'pandas.core.frame.DataFrame'>\n",
      "RangeIndex: 3072 entries, 0 to 3071\n",
      "Data columns (total 20 columns):\n",
      " #   Column              Non-Null Count  Dtype \n",
      "---  ------              --------------  ----- \n",
      " 0   Series UID          3072 non-null   object\n",
      " 1   Collection          3072 non-null   object\n",
      " 2   3rd Party Analysis  3072 non-null   object\n",
      " 3   Subject ID          3072 non-null   object\n",
      " 4   Study UID           3072 non-null   object\n",
      " 5   Study Description   3072 non-null   object\n",
      " 6   Study Date          3072 non-null   object\n",
      " 7   Series Description  3072 non-null   object\n",
      " 8   Manufacturer        3072 non-null   object\n",
      " 9   Modality            3072 non-null   object\n",
      " 10  SOP Class Name      3072 non-null   object\n",
      " 11  SOP Class UID       3072 non-null   object\n",
      " 12  Number of Images    3072 non-null   int64 \n",
      " 13  File Size           3072 non-null   object\n",
      " 14  File Location       3072 non-null   object\n",
      " 15  Download Timestamp  3072 non-null   object\n",
      " 16  diagnosis           3072 non-null   object\n",
      " 17  age                 3072 non-null   int64 \n",
      " 18  sex                 3072 non-null   object\n",
      " 19  Patient status      3072 non-null   object\n",
      "dtypes: int64(2), object(18)\n",
      "memory usage: 480.1+ KB\n"
     ]
    }
   ],
   "execution_count": 1372
  },
  {
   "metadata": {
    "ExecuteTime": {
     "end_time": "2024-12-05T23:25:51.979438Z",
     "start_time": "2024-12-05T23:25:51.967419Z"
    }
   },
   "cell_type": "code",
   "source": "common_data['Patient status'] = common_data['Patient status'].replace({'NOT_SICK': 0, 'SICK': 1}).astype(int)",
   "id": "9c95a289c300a8d2",
   "outputs": [
    {
     "name": "stderr",
     "output_type": "stream",
     "text": [
      "C:\\Users\\dvora\\AppData\\Local\\Temp\\ipykernel_4012\\2860547421.py:1: FutureWarning: Downcasting behavior in `replace` is deprecated and will be removed in a future version. To retain the old behavior, explicitly call `result.infer_objects(copy=False)`. To opt-in to the future behavior, set `pd.set_option('future.no_silent_downcasting', True)`\n",
      "  common_data['Patient status'] = common_data['Patient status'].replace({'NOT_SICK': 0, 'SICK': 1}).astype(int)\n"
     ]
    }
   ],
   "execution_count": 1373
  },
  {
   "metadata": {
    "ExecuteTime": {
     "end_time": "2024-12-05T23:25:52.123748Z",
     "start_time": "2024-12-05T23:25:52.119508Z"
    }
   },
   "cell_type": "code",
   "source": "",
   "id": "71a3894cdef5c33a",
   "outputs": [],
   "execution_count": null
  },
  {
   "metadata": {
    "ExecuteTime": {
     "end_time": "2024-12-05T23:25:52.306100Z",
     "start_time": "2024-12-05T23:25:52.282449Z"
    }
   },
   "cell_type": "code",
   "source": "common_data.info()",
   "id": "ba03c5a80658ddd1",
   "outputs": [
    {
     "name": "stdout",
     "output_type": "stream",
     "text": [
      "<class 'pandas.core.frame.DataFrame'>\n",
      "RangeIndex: 3072 entries, 0 to 3071\n",
      "Data columns (total 20 columns):\n",
      " #   Column              Non-Null Count  Dtype \n",
      "---  ------              --------------  ----- \n",
      " 0   Series UID          3072 non-null   object\n",
      " 1   Collection          3072 non-null   object\n",
      " 2   3rd Party Analysis  3072 non-null   object\n",
      " 3   Subject ID          3072 non-null   object\n",
      " 4   Study UID           3072 non-null   object\n",
      " 5   Study Description   3072 non-null   object\n",
      " 6   Study Date          3072 non-null   object\n",
      " 7   Series Description  3072 non-null   object\n",
      " 8   Manufacturer        3072 non-null   object\n",
      " 9   Modality            3072 non-null   object\n",
      " 10  SOP Class Name      3072 non-null   object\n",
      " 11  SOP Class UID       3072 non-null   object\n",
      " 12  Number of Images    3072 non-null   int64 \n",
      " 13  File Size           3072 non-null   object\n",
      " 14  File Location       3072 non-null   object\n",
      " 15  Download Timestamp  3072 non-null   object\n",
      " 16  diagnosis           3072 non-null   object\n",
      " 17  age                 3072 non-null   int64 \n",
      " 18  sex                 3072 non-null   object\n",
      " 19  Patient status      3072 non-null   int32 \n",
      "dtypes: int32(1), int64(2), object(17)\n",
      "memory usage: 468.1+ KB\n"
     ]
    }
   ],
   "execution_count": 1374
  },
  {
   "metadata": {
    "ExecuteTime": {
     "end_time": "2024-12-05T23:25:53.009716Z",
     "start_time": "2024-12-05T23:25:52.613809Z"
    }
   },
   "cell_type": "code",
   "source": "common_data['Patient status'].hist()",
   "id": "e1e6ea0594a3cf3a",
   "outputs": [
    {
     "data": {
      "text/plain": [
       "<Axes: >"
      ]
     },
     "execution_count": 1375,
     "metadata": {},
     "output_type": "execute_result"
    },
    {
     "data": {
      "text/plain": [
       "<Figure size 640x480 with 1 Axes>"
      ],
      "image/png": "[encoded data removed]"
     },
     "metadata": {},
     "output_type": "display_data"
    }
   ],
   "execution_count": 1375
  },
  {
   "metadata": {
    "ExecuteTime": {
     "end_time": "2024-12-05T23:25:53.041723Z",
     "start_time": "2024-12-05T23:25:53.036801Z"
    }
   },
   "cell_type": "code",
   "source": "",
   "id": "9618203cca688a1a",
   "outputs": [],
   "execution_count": null
  },
  {
   "metadata": {},
   "cell_type": "markdown",
   "source": "",
   "id": "9dff91023c3c4cb"
  },
  {
   "metadata": {
    "ExecuteTime": {
     "end_time": "2024-12-05T23:25:53.248646Z",
     "start_time": "2024-12-05T23:25:53.237344Z"
    }
   },
   "cell_type": "code",
   "source": "common_data=shuffle(common_data)",
   "id": "1c43e3bbb748d939",
   "outputs": [],
   "execution_count": 1376
  },
  {
   "metadata": {
    "ExecuteTime": {
     "end_time": "2024-12-05T23:25:53.264037Z",
     "start_time": "2024-12-05T23:25:53.255658Z"
    }
   },
   "cell_type": "code",
   "source": [
    "# Разделение датасета на размеченную и неразмеченную выборки\n",
    "manual_data, unlabeled_data = train_test_split(common_data, train_size=0.2, random_state=42)"
   ],
   "id": "a140f9fdea1e47d9",
   "outputs": [],
   "execution_count": 1377
  },
  {
   "metadata": {
    "ExecuteTime": {
     "end_time": "2024-12-05T23:25:53.347344Z",
     "start_time": "2024-12-05T23:25:53.341287Z"
    }
   },
   "cell_type": "code",
   "source": [
    "# Определение функции для обучения модели логистической регрессии на размеченных данных\n",
    "def train_model(manual_labeled):\n",
    "    # Векторизация текстовых данных с помощью TF-IDF\n",
    "    vectorizer = TfidfVectorizer()\n",
    "    X = vectorizer.fit_transform(manual_labeled['diagnosis'])\n",
    "    y = manual_labeled['Patient status']\n",
    "\n",
    "    # Обучение модели логистической регрессии на размеченных данных\n",
    "    model = LogisticRegression()\n",
    "    model.fit(X, y)\n",
    "\n",
    "    return model, vectorizer"
   ],
   "id": "618d1a812e58c571",
   "outputs": [],
   "execution_count": 1378
  },
  {
   "metadata": {
    "ExecuteTime": {
     "end_time": "2024-12-05T23:25:53.456380Z",
     "start_time": "2024-12-05T23:25:53.421980Z"
    }
   },
   "cell_type": "code",
   "source": [
    "# Обучение начальной модели на небольшом наборе \n",
    "model, vectorizer = train_model(manual_data)"
   ],
   "id": "b8a5941cd65f8f76",
   "outputs": [],
   "execution_count": 1379
  },
  {
   "metadata": {
    "ExecuteTime": {
     "end_time": "2024-12-05T23:25:53.576750Z",
     "start_time": "2024-12-05T23:25:53.528460Z"
    }
   },
   "cell_type": "code",
   "source": [
    "# Использование исходной модели для прогнозирования статуса пациента в неразмеченных данных\n",
    "X_unlabeled = vectorizer.transform(unlabeled_data['diagnosis'])\n",
    "y_unlabeled_predicted = model.predict(X_unlabeled)"
   ],
   "id": "df4fb4b01d083abe",
   "outputs": [],
   "execution_count": 1380
  },
  {
   "metadata": {
    "ExecuteTime": {
     "end_time": "2024-12-05T23:25:53.653819Z",
     "start_time": "2024-12-05T23:25:53.647161Z"
    }
   },
   "cell_type": "code",
   "source": [
    "# Вычислить неопределенности или энтропии предсказаний\n",
    "\n",
    "y_unlabeled_proba = model.predict_proba(X_unlabeled)\n",
    "uncertainty = -(y_unlabeled_proba * np.log2(y_unlabeled_proba)).sum(axis=1)"
   ],
   "id": "d5ccd424f32a126",
   "outputs": [],
   "execution_count": 1381
  },
  {
   "metadata": {
    "ExecuteTime": {
     "end_time": "2024-12-05T23:25:53.730719Z",
     "start_time": "2024-12-05T23:25:53.722973Z"
    }
   },
   "cell_type": "code",
   "source": [
    "# Выбор 100 наиболее неопределенных точек данных для маркировки человеком\n",
    "labeled_data_new = unlabeled_data.iloc[uncertainty.argsort()[:100]]\n",
    "unlabeled_data_new = unlabeled_data.iloc[uncertainty.argsort()[100:]]"
   ],
   "id": "18262d91676a9396",
   "outputs": [],
   "execution_count": 1382
  },
  {
   "metadata": {
    "ExecuteTime": {
     "end_time": "2024-12-05T23:25:53.805590Z",
     "start_time": "2024-12-05T23:25:53.799411Z"
    }
   },
   "cell_type": "code",
   "source": [
    "# Разметка новых точек данных и добавление их к размеченному множеству\n",
    "manual_data = pd.concat([manual_data, labeled_data_new])"
   ],
   "id": "8bc138d7f365ab12",
   "outputs": [],
   "execution_count": 1383
  },
  {
   "metadata": {
    "ExecuteTime": {
     "end_time": "2024-12-05T23:25:53.902710Z",
     "start_time": "2024-12-05T23:25:53.870631Z"
    }
   },
   "cell_type": "code",
   "source": [
    "# Переобучение модели на расширенном маркированном множестве\n",
    "model, vectorizer = train_model(manual_data)"
   ],
   "id": "1d5319250d4ad57e",
   "outputs": [],
   "execution_count": 1384
  },
  {
   "metadata": {
    "ExecuteTime": {
     "end_time": "2024-12-05T23:25:53.972791Z",
     "start_time": "2024-12-05T23:25:53.968191Z"
    }
   },
   "cell_type": "code",
   "source": "data_test = manual_data_initial",
   "id": "e7648b0292c2d74e",
   "outputs": [],
   "execution_count": 1385
  },
  {
   "metadata": {
    "ExecuteTime": {
     "end_time": "2024-12-05T23:25:54.048311Z",
     "start_time": "2024-12-05T23:25:54.042823Z"
    }
   },
   "cell_type": "code",
   "source": "data_test['Patient status'] = data_test['Patient status'].replace({'NOT_SICK': 0, 'SICK': 1})",
   "id": "1e57e1aad0f16462",
   "outputs": [
    {
     "name": "stderr",
     "output_type": "stream",
     "text": [
      "C:\\Users\\dvora\\AppData\\Local\\Temp\\ipykernel_4012\\514227014.py:1: FutureWarning: Downcasting behavior in `replace` is deprecated and will be removed in a future version. To retain the old behavior, explicitly call `result.infer_objects(copy=False)`. To opt-in to the future behavior, set `pd.set_option('future.no_silent_downcasting', True)`\n",
      "  data_test['Patient status'] = data_test['Patient status'].replace({'NOT_SICK': 0, 'SICK': 1})\n"
     ]
    }
   ],
   "execution_count": 1386
  },
  {
   "metadata": {
    "ExecuteTime": {
     "end_time": "2024-12-05T23:25:54.137858Z",
     "start_time": "2024-12-05T23:25:54.127444Z"
    }
   },
   "cell_type": "code",
   "source": [
    "# Оценка модели на тестовом датасете\n",
    "X_test = vectorizer.transform(data_test['diagnosis'])\n",
    "y_test_predicted = model.predict(X_test)\n",
    "f1 = f1_score(data_test['Patient status'], y_test_predicted)\n",
    "print(f1)"
   ],
   "id": "a736ac3232f89984",
   "outputs": [
    {
     "name": "stdout",
     "output_type": "stream",
     "text": [
      "0.8571428571428571\n"
     ]
    }
   ],
   "execution_count": 1387
  },
  {
   "metadata": {
    "ExecuteTime": {
     "end_time": "2024-12-05T23:25:54.242392Z",
     "start_time": "2024-12-05T23:25:54.239188Z"
    }
   },
   "cell_type": "code",
   "source": "# Модель достигает хорошей точности даже при разнообразии написанных диагнозов.",
   "id": "5ec47ee82b09802f",
   "outputs": [],
   "execution_count": null
  },
  {
   "metadata": {
    "ExecuteTime": {
     "end_time": "2024-12-05T23:25:54.317737Z",
     "start_time": "2024-12-05T23:25:54.314654Z"
    }
   },
   "cell_type": "code",
   "source": "",
   "id": "84212daeb35407f7",
   "outputs": [],
   "execution_count": null
  }
 ],
 "metadata": {
  "kernelspec": {
   "display_name": "Vasyl_ML",
   "language": "python",
   "name": "python3"
  },
  "language_info": {
   "codemirror_mode": {
    "name": "ipython",
    "version": 3
   },
   "file_extension": ".py",
   "mimetype": "text/x-python",
   "name": "python",
   "nbconvert_exporter": "python",
   "pygments_lexer": "ipython3",
   "version": "3.7.0"
  }
 },
 "nbformat": 4,
 "nbformat_minor": 5
}
