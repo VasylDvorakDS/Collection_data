{
  "nbformat": 4,
  "nbformat_minor": 0,
  "metadata": {
    "colab": {
      "provenance": []
    },
    "kernelspec": {
      "name": "python3",
      "display_name": "Python 3"
    },
    "language_info": {
      "name": "python"
    }
  },
  "cells": [
    {
      "cell_type": "code",
      "execution_count": 3,
      "metadata": {
        "colab": {
          "base_uri": "https://localhost:8080/"
        },
        "id": "i9XlTdn6GnP-",
        "outputId": "06cebec8-94cd-4f15-8bce-61598f15c329"
      },
      "outputs": [
        {
          "output_type": "stream",
          "name": "stdout",
          "text": [
            "Requirement already satisfied: docker in /usr/local/lib/python3.10/dist-packages (7.1.0)\n",
            "Requirement already satisfied: requests>=2.26.0 in /usr/local/lib/python3.10/dist-packages (from docker) (2.32.3)\n",
            "Requirement already satisfied: urllib3>=1.26.0 in /usr/local/lib/python3.10/dist-packages (from docker) (2.2.3)\n",
            "Requirement already satisfied: charset-normalizer<4,>=2 in /usr/local/lib/python3.10/dist-packages (from requests>=2.26.0->docker) (3.4.0)\n",
            "Requirement already satisfied: idna<4,>=2.5 in /usr/local/lib/python3.10/dist-packages (from requests>=2.26.0->docker) (3.10)\n",
            "Requirement already satisfied: certifi>=2017.4.17 in /usr/local/lib/python3.10/dist-packages (from requests>=2.26.0->docker) (2024.8.30)\n",
            "Requirement already satisfied: clickhouse_driver in /usr/local/lib/python3.10/dist-packages (0.2.9)\n",
            "Requirement already satisfied: pytz in /usr/local/lib/python3.10/dist-packages (from clickhouse_driver) (2024.2)\n",
            "Requirement already satisfied: tzlocal in /usr/local/lib/python3.10/dist-packages (from clickhouse_driver) (5.2)\n",
            "/bin/bash: line 1: docker: command not found\n"
          ]
        }
      ],
      "source": [
        "!pip install docker\n",
        "!pip install clickhouse_driver\n",
        "!docker run -d --name clickhouse-server --ulimit nofile=262144:262144 -p 9000:9000 yandex/clickhouse-server"
      ]
    },
    {
      "cell_type": "code",
      "source": [
        "from clickhouse_driver import Client\n",
        "import json\n",
        "import pandas as pd"
      ],
      "metadata": {
        "id": "OCI7QJaiG-1R"
      },
      "execution_count": 101,
      "outputs": []
    },
    {
      "cell_type": "code",
      "source": [
        "client = Client(host='huap0exaim.eu-central-1.aws.clickhouse.cloud',  # Use 'localhost' or '127.0.0.1' for a local server\n",
        "                port=9440,\n",
        "                user='default',    # Default user, adjust if you've changed the user\n",
        "                password='wT0O~6xiFl~Hw',       # Default installation has no password for 'default' user\n",
        "                secure=True)         # Default TCP port for ClickHouse\n",
        "\n",
        "# Attempt to execute a query\n",
        "try:\n",
        "    result = client.execute('SHOW TABLES')\n",
        "    print(result)\n",
        "except Exception as e:\n",
        "    print(f\"Encountered an error: {e}\")"
      ],
      "metadata": {
        "colab": {
          "base_uri": "https://localhost:8080/"
        },
        "id": "rFJGBAfpLvxH",
        "outputId": "3e799677-d949-46f0-98bc-041d14b381e8"
      },
      "execution_count": 102,
      "outputs": [
        {
          "output_type": "stream",
          "name": "stdout",
          "text": [
            "[('trips',)]\n"
          ]
        }
      ]
    },
    {
      "cell_type": "code",
      "source": [
        "client.execute('SHOW DATABASES')"
      ],
      "metadata": {
        "colab": {
          "base_uri": "https://localhost:8080/"
        },
        "id": "K7k3f2jdIcXi",
        "outputId": "92f73c04-c52c-436d-d181-4802b57452c6"
      },
      "execution_count": 105,
      "outputs": [
        {
          "output_type": "execute_result",
          "data": {
            "text/plain": [
              "[('INFORMATION_SCHEMA',), ('default',), ('information_schema',), ('system',)]"
            ]
          },
          "metadata": {},
          "execution_count": 105
        }
      ]
    },
    {
      "cell_type": "code",
      "source": [
        "client.execute(\n",
        "    '''\n",
        "    CREATE TABLE books (\n",
        "    id UInt64,\n",
        "    Category String,\n",
        "    Name String,\n",
        "    Price String,\n",
        "    In_stock String,\n",
        "    In_stock_available UInt8,\n",
        "    Link String\n",
        ") ENGINE = MergeTree()\n",
        "ORDER BY id;\n",
        "    '''\n",
        ")\n",
        "try:\n",
        "    result = client.execute('SHOW TABLES')\n",
        "    print(result)\n",
        "except Exception as e:\n",
        "    print(f\"Encountered an error: {e}\")"
      ],
      "metadata": {
        "colab": {
          "base_uri": "https://localhost:8080/"
        },
        "id": "hyJg7qYXIcaa",
        "outputId": "42339424-7220-4aca-942e-3c09e5bc151a"
      },
      "execution_count": 106,
      "outputs": [
        {
          "output_type": "stream",
          "name": "stdout",
          "text": [
            "[('books',), ('trips',)]\n"
          ]
        }
      ]
    },
    {
      "cell_type": "markdown",
      "source": [
        "Читаем файл books_library.json. Список книг."
      ],
      "metadata": {
        "id": "Jt_RpSAbTGin"
      }
    },
    {
      "cell_type": "code",
      "source": [
        "with open('/content/books_library.json', 'r') as infile:\n",
        "    data = json.load(infile)  # Читаем массив объектов"
      ],
      "metadata": {
        "id": "GQT8r62lIceF"
      },
      "execution_count": 107,
      "outputs": []
    },
    {
      "cell_type": "markdown",
      "source": [],
      "metadata": {
        "id": "bHeWQ7S0TFlr"
      }
    },
    {
      "cell_type": "code",
      "source": [
        "# Преобразование данных в формат ClickHouse\n",
        "rows = [(idx, item['Category'], item['Name'], item['Price'], item['In_stock'], item['In_stock_available'], item['Link']) for idx, item in enumerate(data, start=1)]"
      ],
      "metadata": {
        "id": "OOgg5FBTMfsY"
      },
      "execution_count": 108,
      "outputs": []
    },
    {
      "cell_type": "code",
      "source": [
        "client.execute('INSERT INTO books (id, Category, Name, Price, In_stock, In_stock_available, Link) VALUES', rows)"
      ],
      "metadata": {
        "colab": {
          "base_uri": "https://localhost:8080/"
        },
        "id": "epcCyODyMfvG",
        "outputId": "8c0ebda7-5f91-4a76-cdd6-be8ea3096f4d"
      },
      "execution_count": 109,
      "outputs": [
        {
          "output_type": "execute_result",
          "data": {
            "text/plain": [
              "11"
            ]
          },
          "metadata": {},
          "execution_count": 109
        }
      ]
    },
    {
      "cell_type": "code",
      "source": [
        "data_from_books=client.execute('SELECT * FROM books')"
      ],
      "metadata": {
        "id": "Lz7Ox9WRRCHh"
      },
      "execution_count": 110,
      "outputs": []
    },
    {
      "cell_type": "code",
      "source": [
        "df=pd.DataFrame(data_from_books, columns=(\"id\", \"Category\", \"Name\", \"Price\", \"In_stock\", \"In_stock_available\", \"Link\")).drop(columns=['id'])"
      ],
      "metadata": {
        "id": "PoLECkZQRCQu"
      },
      "execution_count": 111,
      "outputs": []
    },
    {
      "cell_type": "code",
      "source": [
        "df"
      ],
      "metadata": {
        "colab": {
          "base_uri": "https://localhost:8080/",
          "height": 585
        },
        "id": "Wk2p-6ZDRCYi",
        "outputId": "e284b387-b486-4d42-f774-509ec8cbf1a8"
      },
      "execution_count": 112,
      "outputs": [
        {
          "output_type": "execute_result",
          "data": {
            "text/plain": [
              "   Category                                               Name  Price  \\\n",
              "0    Travel                            It's Only the Himalayas  45.17   \n",
              "1    Travel  Full Moon over Noah’s Ark: An Odyssey to Mount...  49.43   \n",
              "2    Travel  See America: A Celebration of Our National Par...  48.87   \n",
              "3    Travel  Vagabonding: An Uncommon Guide to the Art of L...  36.94   \n",
              "4    Travel                               Under the Tuscan Sun  37.33   \n",
              "5    Travel                                 A Summer In Europe  44.34   \n",
              "6    Travel                           The Great Railway Bazaar  30.54   \n",
              "7    Travel                   A Year in Provence (Provence #1)  56.88   \n",
              "8    Travel  The Road to Little Dribbling: Adventures of an...  23.21   \n",
              "9    Travel          Neither Here nor There: Travels in Europe  38.95   \n",
              "10   Travel                 1,000 Places to See Before You Die  26.08   \n",
              "\n",
              "                   In_stock  In_stock_available  \\\n",
              "0   In stock (19 available)                  19   \n",
              "1   In stock (15 available)                  15   \n",
              "2   In stock (14 available)                  14   \n",
              "3    In stock (8 available)                   8   \n",
              "4    In stock (7 available)                   7   \n",
              "5    In stock (7 available)                   7   \n",
              "6    In stock (6 available)                   6   \n",
              "7    In stock (6 available)                   6   \n",
              "8    In stock (3 available)                   3   \n",
              "9    In stock (3 available)                   3   \n",
              "10   In stock (1 available)                   1   \n",
              "\n",
              "                                                 Link  \n",
              "0   http://books.toscrape.com/catalogue//its-only-...  \n",
              "1   http://books.toscrape.com/catalogue//full-moon...  \n",
              "2   http://books.toscrape.com/catalogue//see-ameri...  \n",
              "3   http://books.toscrape.com/catalogue//vagabondi...  \n",
              "4   http://books.toscrape.com/catalogue//under-the...  \n",
              "5   http://books.toscrape.com/catalogue//a-summer-...  \n",
              "6   http://books.toscrape.com/catalogue//the-great...  \n",
              "7   http://books.toscrape.com/catalogue//a-year-in...  \n",
              "8   http://books.toscrape.com/catalogue//the-road-...  \n",
              "9   http://books.toscrape.com/catalogue//neither-h...  \n",
              "10  http://books.toscrape.com/catalogue//1000-plac...  "
            ],
            "text/html": [
              "\n",
              "  <div id=\"df-ba4304fa-0645-4358-a1db-1f20b0dc90b4\" class=\"colab-df-container\">\n",
              "    <div>\n",
              "<style scoped>\n",
              "    .dataframe tbody tr th:only-of-type {\n",
              "        vertical-align: middle;\n",
              "    }\n",
              "\n",
              "    .dataframe tbody tr th {\n",
              "        vertical-align: top;\n",
              "    }\n",
              "\n",
              "    .dataframe thead th {\n",
              "        text-align: right;\n",
              "    }\n",
              "</style>\n",
              "<table border=\"1\" class=\"dataframe\">\n",
              "  <thead>\n",
              "    <tr style=\"text-align: right;\">\n",
              "      <th></th>\n",
              "      <th>Category</th>\n",
              "      <th>Name</th>\n",
              "      <th>Price</th>\n",
              "      <th>In_stock</th>\n",
              "      <th>In_stock_available</th>\n",
              "      <th>Link</th>\n",
              "    </tr>\n",
              "  </thead>\n",
              "  <tbody>\n",
              "    <tr>\n",
              "      <th>0</th>\n",
              "      <td>Travel</td>\n",
              "      <td>It's Only the Himalayas</td>\n",
              "      <td>45.17</td>\n",
              "      <td>In stock (19 available)</td>\n",
              "      <td>19</td>\n",
              "      <td>http://books.toscrape.com/catalogue//its-only-...</td>\n",
              "    </tr>\n",
              "    <tr>\n",
              "      <th>1</th>\n",
              "      <td>Travel</td>\n",
              "      <td>Full Moon over Noah’s Ark: An Odyssey to Mount...</td>\n",
              "      <td>49.43</td>\n",
              "      <td>In stock (15 available)</td>\n",
              "      <td>15</td>\n",
              "      <td>http://books.toscrape.com/catalogue//full-moon...</td>\n",
              "    </tr>\n",
              "    <tr>\n",
              "      <th>2</th>\n",
              "      <td>Travel</td>\n",
              "      <td>See America: A Celebration of Our National Par...</td>\n",
              "      <td>48.87</td>\n",
              "      <td>In stock (14 available)</td>\n",
              "      <td>14</td>\n",
              "      <td>http://books.toscrape.com/catalogue//see-ameri...</td>\n",
              "    </tr>\n",
              "    <tr>\n",
              "      <th>3</th>\n",
              "      <td>Travel</td>\n",
              "      <td>Vagabonding: An Uncommon Guide to the Art of L...</td>\n",
              "      <td>36.94</td>\n",
              "      <td>In stock (8 available)</td>\n",
              "      <td>8</td>\n",
              "      <td>http://books.toscrape.com/catalogue//vagabondi...</td>\n",
              "    </tr>\n",
              "    <tr>\n",
              "      <th>4</th>\n",
              "      <td>Travel</td>\n",
              "      <td>Under the Tuscan Sun</td>\n",
              "      <td>37.33</td>\n",
              "      <td>In stock (7 available)</td>\n",
              "      <td>7</td>\n",
              "      <td>http://books.toscrape.com/catalogue//under-the...</td>\n",
              "    </tr>\n",
              "    <tr>\n",
              "      <th>5</th>\n",
              "      <td>Travel</td>\n",
              "      <td>A Summer In Europe</td>\n",
              "      <td>44.34</td>\n",
              "      <td>In stock (7 available)</td>\n",
              "      <td>7</td>\n",
              "      <td>http://books.toscrape.com/catalogue//a-summer-...</td>\n",
              "    </tr>\n",
              "    <tr>\n",
              "      <th>6</th>\n",
              "      <td>Travel</td>\n",
              "      <td>The Great Railway Bazaar</td>\n",
              "      <td>30.54</td>\n",
              "      <td>In stock (6 available)</td>\n",
              "      <td>6</td>\n",
              "      <td>http://books.toscrape.com/catalogue//the-great...</td>\n",
              "    </tr>\n",
              "    <tr>\n",
              "      <th>7</th>\n",
              "      <td>Travel</td>\n",
              "      <td>A Year in Provence (Provence #1)</td>\n",
              "      <td>56.88</td>\n",
              "      <td>In stock (6 available)</td>\n",
              "      <td>6</td>\n",
              "      <td>http://books.toscrape.com/catalogue//a-year-in...</td>\n",
              "    </tr>\n",
              "    <tr>\n",
              "      <th>8</th>\n",
              "      <td>Travel</td>\n",
              "      <td>The Road to Little Dribbling: Adventures of an...</td>\n",
              "      <td>23.21</td>\n",
              "      <td>In stock (3 available)</td>\n",
              "      <td>3</td>\n",
              "      <td>http://books.toscrape.com/catalogue//the-road-...</td>\n",
              "    </tr>\n",
              "    <tr>\n",
              "      <th>9</th>\n",
              "      <td>Travel</td>\n",
              "      <td>Neither Here nor There: Travels in Europe</td>\n",
              "      <td>38.95</td>\n",
              "      <td>In stock (3 available)</td>\n",
              "      <td>3</td>\n",
              "      <td>http://books.toscrape.com/catalogue//neither-h...</td>\n",
              "    </tr>\n",
              "    <tr>\n",
              "      <th>10</th>\n",
              "      <td>Travel</td>\n",
              "      <td>1,000 Places to See Before You Die</td>\n",
              "      <td>26.08</td>\n",
              "      <td>In stock (1 available)</td>\n",
              "      <td>1</td>\n",
              "      <td>http://books.toscrape.com/catalogue//1000-plac...</td>\n",
              "    </tr>\n",
              "  </tbody>\n",
              "</table>\n",
              "</div>\n",
              "    <div class=\"colab-df-buttons\">\n",
              "\n",
              "  <div class=\"colab-df-container\">\n",
              "    <button class=\"colab-df-convert\" onclick=\"convertToInteractive('df-ba4304fa-0645-4358-a1db-1f20b0dc90b4')\"\n",
              "            title=\"Convert this dataframe to an interactive table.\"\n",
              "            style=\"display:none;\">\n",
              "\n",
              "  <svg xmlns=\"http://www.w3.org/2000/svg\" height=\"24px\" viewBox=\"0 -960 960 960\">\n",
              "    <path d=\"M120-120v-720h720v720H120Zm60-500h600v-160H180v160Zm220 220h160v-160H400v160Zm0 220h160v-160H400v160ZM180-400h160v-160H180v160Zm440 0h160v-160H620v160ZM180-180h160v-160H180v160Zm440 0h160v-160H620v160Z\"/>\n",
              "  </svg>\n",
              "    </button>\n",
              "\n",
              "  <style>\n",
              "    .colab-df-container {\n",
              "      display:flex;\n",
              "      gap: 12px;\n",
              "    }\n",
              "\n",
              "    .colab-df-convert {\n",
              "      background-color: #E8F0FE;\n",
              "      border: none;\n",
              "      border-radius: 50%;\n",
              "      cursor: pointer;\n",
              "      display: none;\n",
              "      fill: #1967D2;\n",
              "      height: 32px;\n",
              "      padding: 0 0 0 0;\n",
              "      width: 32px;\n",
              "    }\n",
              "\n",
              "    .colab-df-convert:hover {\n",
              "      background-color: #E2EBFA;\n",
              "      box-shadow: 0px 1px 2px rgba(60, 64, 67, 0.3), 0px 1px 3px 1px rgba(60, 64, 67, 0.15);\n",
              "      fill: #174EA6;\n",
              "    }\n",
              "\n",
              "    .colab-df-buttons div {\n",
              "      margin-bottom: 4px;\n",
              "    }\n",
              "\n",
              "    [theme=dark] .colab-df-convert {\n",
              "      background-color: #3B4455;\n",
              "      fill: #D2E3FC;\n",
              "    }\n",
              "\n",
              "    [theme=dark] .colab-df-convert:hover {\n",
              "      background-color: #434B5C;\n",
              "      box-shadow: 0px 1px 3px 1px rgba(0, 0, 0, 0.15);\n",
              "      filter: drop-shadow(0px 1px 2px rgba(0, 0, 0, 0.3));\n",
              "      fill: #FFFFFF;\n",
              "    }\n",
              "  </style>\n",
              "\n",
              "    <script>\n",
              "      const buttonEl =\n",
              "        document.querySelector('#df-ba4304fa-0645-4358-a1db-1f20b0dc90b4 button.colab-df-convert');\n",
              "      buttonEl.style.display =\n",
              "        google.colab.kernel.accessAllowed ? 'block' : 'none';\n",
              "\n",
              "      async function convertToInteractive(key) {\n",
              "        const element = document.querySelector('#df-ba4304fa-0645-4358-a1db-1f20b0dc90b4');\n",
              "        const dataTable =\n",
              "          await google.colab.kernel.invokeFunction('convertToInteractive',\n",
              "                                                    [key], {});\n",
              "        if (!dataTable) return;\n",
              "\n",
              "        const docLinkHtml = 'Like what you see? Visit the ' +\n",
              "          '<a target=\"_blank\" href=https://colab.research.google.com/notebooks/data_table.ipynb>data table notebook</a>'\n",
              "          + ' to learn more about interactive tables.';\n",
              "        element.innerHTML = '';\n",
              "        dataTable['output_type'] = 'display_data';\n",
              "        await google.colab.output.renderOutput(dataTable, element);\n",
              "        const docLink = document.createElement('div');\n",
              "        docLink.innerHTML = docLinkHtml;\n",
              "        element.appendChild(docLink);\n",
              "      }\n",
              "    </script>\n",
              "  </div>\n",
              "\n",
              "\n",
              "<div id=\"df-7a8eb7e4-2157-415b-b26b-8ad7fdc28135\">\n",
              "  <button class=\"colab-df-quickchart\" onclick=\"quickchart('df-7a8eb7e4-2157-415b-b26b-8ad7fdc28135')\"\n",
              "            title=\"Suggest charts\"\n",
              "            style=\"display:none;\">\n",
              "\n",
              "<svg xmlns=\"http://www.w3.org/2000/svg\" height=\"24px\"viewBox=\"0 0 24 24\"\n",
              "     width=\"24px\">\n",
              "    <g>\n",
              "        <path d=\"M19 3H5c-1.1 0-2 .9-2 2v14c0 1.1.9 2 2 2h14c1.1 0 2-.9 2-2V5c0-1.1-.9-2-2-2zM9 17H7v-7h2v7zm4 0h-2V7h2v10zm4 0h-2v-4h2v4z\"/>\n",
              "    </g>\n",
              "</svg>\n",
              "  </button>\n",
              "\n",
              "<style>\n",
              "  .colab-df-quickchart {\n",
              "      --bg-color: #E8F0FE;\n",
              "      --fill-color: #1967D2;\n",
              "      --hover-bg-color: #E2EBFA;\n",
              "      --hover-fill-color: #174EA6;\n",
              "      --disabled-fill-color: #AAA;\n",
              "      --disabled-bg-color: #DDD;\n",
              "  }\n",
              "\n",
              "  [theme=dark] .colab-df-quickchart {\n",
              "      --bg-color: #3B4455;\n",
              "      --fill-color: #D2E3FC;\n",
              "      --hover-bg-color: #434B5C;\n",
              "      --hover-fill-color: #FFFFFF;\n",
              "      --disabled-bg-color: #3B4455;\n",
              "      --disabled-fill-color: #666;\n",
              "  }\n",
              "\n",
              "  .colab-df-quickchart {\n",
              "    background-color: var(--bg-color);\n",
              "    border: none;\n",
              "    border-radius: 50%;\n",
              "    cursor: pointer;\n",
              "    display: none;\n",
              "    fill: var(--fill-color);\n",
              "    height: 32px;\n",
              "    padding: 0;\n",
              "    width: 32px;\n",
              "  }\n",
              "\n",
              "  .colab-df-quickchart:hover {\n",
              "    background-color: var(--hover-bg-color);\n",
              "    box-shadow: 0 1px 2px rgba(60, 64, 67, 0.3), 0 1px 3px 1px rgba(60, 64, 67, 0.15);\n",
              "    fill: var(--button-hover-fill-color);\n",
              "  }\n",
              "\n",
              "  .colab-df-quickchart-complete:disabled,\n",
              "  .colab-df-quickchart-complete:disabled:hover {\n",
              "    background-color: var(--disabled-bg-color);\n",
              "    fill: var(--disabled-fill-color);\n",
              "    box-shadow: none;\n",
              "  }\n",
              "\n",
              "  .colab-df-spinner {\n",
              "    border: 2px solid var(--fill-color);\n",
              "    border-color: transparent;\n",
              "    border-bottom-color: var(--fill-color);\n",
              "    animation:\n",
              "      spin 1s steps(1) infinite;\n",
              "  }\n",
              "\n",
              "  @keyframes spin {\n",
              "    0% {\n",
              "      border-color: transparent;\n",
              "      border-bottom-color: var(--fill-color);\n",
              "      border-left-color: var(--fill-color);\n",
              "    }\n",
              "    20% {\n",
              "      border-color: transparent;\n",
              "      border-left-color: var(--fill-color);\n",
              "      border-top-color: var(--fill-color);\n",
              "    }\n",
              "    30% {\n",
              "      border-color: transparent;\n",
              "      border-left-color: var(--fill-color);\n",
              "      border-top-color: var(--fill-color);\n",
              "      border-right-color: var(--fill-color);\n",
              "    }\n",
              "    40% {\n",
              "      border-color: transparent;\n",
              "      border-right-color: var(--fill-color);\n",
              "      border-top-color: var(--fill-color);\n",
              "    }\n",
              "    60% {\n",
              "      border-color: transparent;\n",
              "      border-right-color: var(--fill-color);\n",
              "    }\n",
              "    80% {\n",
              "      border-color: transparent;\n",
              "      border-right-color: var(--fill-color);\n",
              "      border-bottom-color: var(--fill-color);\n",
              "    }\n",
              "    90% {\n",
              "      border-color: transparent;\n",
              "      border-bottom-color: var(--fill-color);\n",
              "    }\n",
              "  }\n",
              "</style>\n",
              "\n",
              "  <script>\n",
              "    async function quickchart(key) {\n",
              "      const quickchartButtonEl =\n",
              "        document.querySelector('#' + key + ' button');\n",
              "      quickchartButtonEl.disabled = true;  // To prevent multiple clicks.\n",
              "      quickchartButtonEl.classList.add('colab-df-spinner');\n",
              "      try {\n",
              "        const charts = await google.colab.kernel.invokeFunction(\n",
              "            'suggestCharts', [key], {});\n",
              "      } catch (error) {\n",
              "        console.error('Error during call to suggestCharts:', error);\n",
              "      }\n",
              "      quickchartButtonEl.classList.remove('colab-df-spinner');\n",
              "      quickchartButtonEl.classList.add('colab-df-quickchart-complete');\n",
              "    }\n",
              "    (() => {\n",
              "      let quickchartButtonEl =\n",
              "        document.querySelector('#df-7a8eb7e4-2157-415b-b26b-8ad7fdc28135 button');\n",
              "      quickchartButtonEl.style.display =\n",
              "        google.colab.kernel.accessAllowed ? 'block' : 'none';\n",
              "    })();\n",
              "  </script>\n",
              "</div>\n",
              "    </div>\n",
              "  </div>\n"
            ],
            "application/vnd.google.colaboratory.intrinsic+json": {
              "type": "dataframe",
              "variable_name": "df",
              "summary": "{\n  \"name\": \"df\",\n  \"rows\": 11,\n  \"fields\": [\n    {\n      \"column\": \"Category\",\n      \"properties\": {\n        \"dtype\": \"category\",\n        \"num_unique_values\": 1,\n        \"samples\": [\n          \"Travel\"\n        ],\n        \"semantic_type\": \"\",\n        \"description\": \"\"\n      }\n    },\n    {\n      \"column\": \"Name\",\n      \"properties\": {\n        \"dtype\": \"string\",\n        \"num_unique_values\": 11,\n        \"samples\": [\n          \"A Summer In Europe\"\n        ],\n        \"semantic_type\": \"\",\n        \"description\": \"\"\n      }\n    },\n    {\n      \"column\": \"Price\",\n      \"properties\": {\n        \"dtype\": \"string\",\n        \"num_unique_values\": 11,\n        \"samples\": [\n          \"44.34\"\n        ],\n        \"semantic_type\": \"\",\n        \"description\": \"\"\n      }\n    },\n    {\n      \"column\": \"In_stock\",\n      \"properties\": {\n        \"dtype\": \"string\",\n        \"num_unique_values\": 8,\n        \"samples\": [\n          \"In stock (15 available)\"\n        ],\n        \"semantic_type\": \"\",\n        \"description\": \"\"\n      }\n    },\n    {\n      \"column\": \"In_stock_available\",\n      \"properties\": {\n        \"dtype\": \"number\",\n        \"std\": 5,\n        \"min\": 1,\n        \"max\": 19,\n        \"num_unique_values\": 8,\n        \"samples\": [\n          15\n        ],\n        \"semantic_type\": \"\",\n        \"description\": \"\"\n      }\n    },\n    {\n      \"column\": \"Link\",\n      \"properties\": {\n        \"dtype\": \"string\",\n        \"num_unique_values\": 11,\n        \"samples\": [\n          \"http://books.toscrape.com/catalogue//a-summer-in-europe_458/index.html\"\n        ],\n        \"semantic_type\": \"\",\n        \"description\": \"\"\n      }\n    }\n  ]\n}"
            }
          },
          "metadata": {},
          "execution_count": 112
        }
      ]
    },
    {
      "cell_type": "code",
      "source": [],
      "metadata": {
        "id": "-Zzv8AkFR-vi"
      },
      "execution_count": null,
      "outputs": []
    }
  ]
}