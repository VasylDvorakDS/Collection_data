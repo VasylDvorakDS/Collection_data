{
 "nbformat": 4,
 "nbformat_minor": 0,
 "metadata": {
  "colab": {
   "provenance": [],
   "authorship_tag": "ABX9TyML8On02ZYtieB/C46Rv93D"
  },
  "kernelspec": {
   "name": "python3",
   "display_name": "Python 3 (ipykernel)",
   "language": "python"
  },
  "language_info": {
   "name": "python"
  }
 },
 "cells": [
  {
   "cell_type": "code",
   "metadata": {
    "id": "kOV7sA4xhoRx",
    "executionInfo": {
     "status": "ok",
     "timestamp": 1684695038766,
     "user_tz": -180,
     "elapsed": 21,
     "user": {
      "displayName": "Петр Рубин",
      "userId": "04613233041024729335"
     }
    },
    "ExecuteTime": {
     "end_time": "2024-12-02T23:23:14.091720Z",
     "start_time": "2024-12-02T23:23:14.087306Z"
    }
   },
   "source": [
    "import pandas as pd"
   ],
   "outputs": [],
   "execution_count": 155
  },
  {
   "cell_type": "code",
   "source": [
    "df = pd.read_csv('googleplaystore.csv')\n",
    "\n",
    "\n",
    "df.head()"
   ],
   "metadata": {
    "colab": {
     "base_uri": "https://localhost:8080/",
     "height": 617
    },
    "id": "HTxSjMJbij1I",
    "executionInfo": {
     "status": "ok",
     "timestamp": 1684695038767,
     "user_tz": -180,
     "elapsed": 21,
     "user": {
      "displayName": "Петр Рубин",
      "userId": "04613233041024729335"
     }
    },
    "outputId": "e285d976-3693-4609-8536-74f33a4d47f0",
    "ExecuteTime": {
     "end_time": "2024-12-02T23:23:14.182766Z",
     "start_time": "2024-12-02T23:23:14.129958Z"
    }
   },
   "outputs": [
    {
     "data": {
      "text/plain": [
       "                                                 App        Category  Rating  \\\n",
       "0     Photo Editor & Candy Camera & Grid & ScrapBook  ART_AND_DESIGN     4.1   \n",
       "1                                Coloring book moana  ART_AND_DESIGN     3.9   \n",
       "2  U Launcher Lite – FREE Live Cool Themes, Hide ...  ART_AND_DESIGN     4.7   \n",
       "3                              Sketch - Draw & Paint  ART_AND_DESIGN     4.5   \n",
       "4              Pixel Draw - Number Art Coloring Book  ART_AND_DESIGN     4.3   \n",
       "\n",
       "  Reviews  Size     Installs  Type Price Content Rating  \\\n",
       "0     159   19M      10,000+  Free     0       Everyone   \n",
       "1     967   14M     500,000+  Free     0       Everyone   \n",
       "2   87510  8.7M   5,000,000+  Free     0       Everyone   \n",
       "3  215644   25M  50,000,000+  Free     0           Teen   \n",
       "4     967  2.8M     100,000+  Free     0       Everyone   \n",
       "\n",
       "                      Genres      Last Updated         Current Ver  \\\n",
       "0               Art & Design   January 7, 2018               1.0.0   \n",
       "1  Art & Design;Pretend Play  January 15, 2018               2.0.0   \n",
       "2               Art & Design    August 1, 2018               1.2.4   \n",
       "3               Art & Design      June 8, 2018  Varies with device   \n",
       "4    Art & Design;Creativity     June 20, 2018                 1.1   \n",
       "\n",
       "    Android Ver  \n",
       "0  4.0.3 and up  \n",
       "1  4.0.3 and up  \n",
       "2  4.0.3 and up  \n",
       "3    4.2 and up  \n",
       "4    4.4 and up  "
      ],
      "text/html": [
       "<div>\n",
       "<style scoped>\n",
       "    .dataframe tbody tr th:only-of-type {\n",
       "        vertical-align: middle;\n",
       "    }\n",
       "\n",
       "    .dataframe tbody tr th {\n",
       "        vertical-align: top;\n",
       "    }\n",
       "\n",
       "    .dataframe thead th {\n",
       "        text-align: right;\n",
       "    }\n",
       "</style>\n",
       "<table border=\"1\" class=\"dataframe\">\n",
       "  <thead>\n",
       "    <tr style=\"text-align: right;\">\n",
       "      <th></th>\n",
       "      <th>App</th>\n",
       "      <th>Category</th>\n",
       "      <th>Rating</th>\n",
       "      <th>Reviews</th>\n",
       "      <th>Size</th>\n",
       "      <th>Installs</th>\n",
       "      <th>Type</th>\n",
       "      <th>Price</th>\n",
       "      <th>Content Rating</th>\n",
       "      <th>Genres</th>\n",
       "      <th>Last Updated</th>\n",
       "      <th>Current Ver</th>\n",
       "      <th>Android Ver</th>\n",
       "    </tr>\n",
       "  </thead>\n",
       "  <tbody>\n",
       "    <tr>\n",
       "      <th>0</th>\n",
       "      <td>Photo Editor &amp; Candy Camera &amp; Grid &amp; ScrapBook</td>\n",
       "      <td>ART_AND_DESIGN</td>\n",
       "      <td>4.1</td>\n",
       "      <td>159</td>\n",
       "      <td>19M</td>\n",
       "      <td>10,000+</td>\n",
       "      <td>Free</td>\n",
       "      <td>0</td>\n",
       "      <td>Everyone</td>\n",
       "      <td>Art &amp; Design</td>\n",
       "      <td>January 7, 2018</td>\n",
       "      <td>1.0.0</td>\n",
       "      <td>4.0.3 and up</td>\n",
       "    </tr>\n",
       "    <tr>\n",
       "      <th>1</th>\n",
       "      <td>Coloring book moana</td>\n",
       "      <td>ART_AND_DESIGN</td>\n",
       "      <td>3.9</td>\n",
       "      <td>967</td>\n",
       "      <td>14M</td>\n",
       "      <td>500,000+</td>\n",
       "      <td>Free</td>\n",
       "      <td>0</td>\n",
       "      <td>Everyone</td>\n",
       "      <td>Art &amp; Design;Pretend Play</td>\n",
       "      <td>January 15, 2018</td>\n",
       "      <td>2.0.0</td>\n",
       "      <td>4.0.3 and up</td>\n",
       "    </tr>\n",
       "    <tr>\n",
       "      <th>2</th>\n",
       "      <td>U Launcher Lite – FREE Live Cool Themes, Hide ...</td>\n",
       "      <td>ART_AND_DESIGN</td>\n",
       "      <td>4.7</td>\n",
       "      <td>87510</td>\n",
       "      <td>8.7M</td>\n",
       "      <td>5,000,000+</td>\n",
       "      <td>Free</td>\n",
       "      <td>0</td>\n",
       "      <td>Everyone</td>\n",
       "      <td>Art &amp; Design</td>\n",
       "      <td>August 1, 2018</td>\n",
       "      <td>1.2.4</td>\n",
       "      <td>4.0.3 and up</td>\n",
       "    </tr>\n",
       "    <tr>\n",
       "      <th>3</th>\n",
       "      <td>Sketch - Draw &amp; Paint</td>\n",
       "      <td>ART_AND_DESIGN</td>\n",
       "      <td>4.5</td>\n",
       "      <td>215644</td>\n",
       "      <td>25M</td>\n",
       "      <td>50,000,000+</td>\n",
       "      <td>Free</td>\n",
       "      <td>0</td>\n",
       "      <td>Teen</td>\n",
       "      <td>Art &amp; Design</td>\n",
       "      <td>June 8, 2018</td>\n",
       "      <td>Varies with device</td>\n",
       "      <td>4.2 and up</td>\n",
       "    </tr>\n",
       "    <tr>\n",
       "      <th>4</th>\n",
       "      <td>Pixel Draw - Number Art Coloring Book</td>\n",
       "      <td>ART_AND_DESIGN</td>\n",
       "      <td>4.3</td>\n",
       "      <td>967</td>\n",
       "      <td>2.8M</td>\n",
       "      <td>100,000+</td>\n",
       "      <td>Free</td>\n",
       "      <td>0</td>\n",
       "      <td>Everyone</td>\n",
       "      <td>Art &amp; Design;Creativity</td>\n",
       "      <td>June 20, 2018</td>\n",
       "      <td>1.1</td>\n",
       "      <td>4.4 and up</td>\n",
       "    </tr>\n",
       "  </tbody>\n",
       "</table>\n",
       "</div>"
      ]
     },
     "execution_count": 156,
     "metadata": {},
     "output_type": "execute_result"
    }
   ],
   "execution_count": 156
  },
  {
   "cell_type": "code",
   "source": [
    "df.info()"
   ],
   "metadata": {
    "colab": {
     "base_uri": "https://localhost:8080/"
    },
    "id": "rcI_Y8naioPA",
    "executionInfo": {
     "status": "ok",
     "timestamp": 1684695038767,
     "user_tz": -180,
     "elapsed": 19,
     "user": {
      "displayName": "Петр Рубин",
      "userId": "04613233041024729335"
     }
    },
    "outputId": "7ccc4353-02bf-4727-ca4a-8e8602cf3a18",
    "ExecuteTime": {
     "end_time": "2024-12-02T23:23:14.257291Z",
     "start_time": "2024-12-02T23:23:14.241023Z"
    }
   },
   "outputs": [
    {
     "name": "stdout",
     "output_type": "stream",
     "text": [
      "<class 'pandas.core.frame.DataFrame'>\n",
      "RangeIndex: 10841 entries, 0 to 10840\n",
      "Data columns (total 13 columns):\n",
      " #   Column          Non-Null Count  Dtype  \n",
      "---  ------          --------------  -----  \n",
      " 0   App             10841 non-null  object \n",
      " 1   Category        10841 non-null  object \n",
      " 2   Rating          9367 non-null   float64\n",
      " 3   Reviews         10841 non-null  object \n",
      " 4   Size            10841 non-null  object \n",
      " 5   Installs        10841 non-null  object \n",
      " 6   Type            10840 non-null  object \n",
      " 7   Price           10841 non-null  object \n",
      " 8   Content Rating  10840 non-null  object \n",
      " 9   Genres          10841 non-null  object \n",
      " 10  Last Updated    10841 non-null  object \n",
      " 11  Current Ver     10833 non-null  object \n",
      " 12  Android Ver     10838 non-null  object \n",
      "dtypes: float64(1), object(12)\n",
      "memory usage: 1.1+ MB\n"
     ]
    }
   ],
   "execution_count": 157
  },
  {
   "cell_type": "code",
   "source": [
    "mean_rating = df['Rating'].mean()\n",
    "df['Rating'] = df['Rating'].fillna(mean_rating)"
   ],
   "metadata": {
    "id": "NHuHnGMViuQ-",
    "executionInfo": {
     "status": "ok",
     "timestamp": 1684695038767,
     "user_tz": -180,
     "elapsed": 15,
     "user": {
      "displayName": "Петр Рубин",
      "userId": "04613233041024729335"
     }
    },
    "ExecuteTime": {
     "end_time": "2024-12-02T23:23:14.330655Z",
     "start_time": "2024-12-02T23:23:14.326507Z"
    }
   },
   "outputs": [],
   "execution_count": 158
  },
  {
   "cell_type": "code",
   "source": [
    "df.info()"
   ],
   "metadata": {
    "colab": {
     "base_uri": "https://localhost:8080/"
    },
    "id": "pGlyQMdRi3Bb",
    "executionInfo": {
     "status": "ok",
     "timestamp": 1684695038768,
     "user_tz": -180,
     "elapsed": 15,
     "user": {
      "displayName": "Петр Рубин",
      "userId": "04613233041024729335"
     }
    },
    "outputId": "d9f66e44-f035-478d-b2ac-a0c87151f91e",
    "ExecuteTime": {
     "end_time": "2024-12-02T23:23:14.404396Z",
     "start_time": "2024-12-02T23:23:14.392172Z"
    }
   },
   "outputs": [
    {
     "name": "stdout",
     "output_type": "stream",
     "text": [
      "<class 'pandas.core.frame.DataFrame'>\n",
      "RangeIndex: 10841 entries, 0 to 10840\n",
      "Data columns (total 13 columns):\n",
      " #   Column          Non-Null Count  Dtype  \n",
      "---  ------          --------------  -----  \n",
      " 0   App             10841 non-null  object \n",
      " 1   Category        10841 non-null  object \n",
      " 2   Rating          10841 non-null  float64\n",
      " 3   Reviews         10841 non-null  object \n",
      " 4   Size            10841 non-null  object \n",
      " 5   Installs        10841 non-null  object \n",
      " 6   Type            10840 non-null  object \n",
      " 7   Price           10841 non-null  object \n",
      " 8   Content Rating  10840 non-null  object \n",
      " 9   Genres          10841 non-null  object \n",
      " 10  Last Updated    10841 non-null  object \n",
      " 11  Current Ver     10833 non-null  object \n",
      " 12  Android Ver     10838 non-null  object \n",
      "dtypes: float64(1), object(12)\n",
      "memory usage: 1.1+ MB\n"
     ]
    }
   ],
   "execution_count": 159
  },
  {
   "metadata": {
    "ExecuteTime": {
     "end_time": "2024-12-02T23:23:14.626679Z",
     "start_time": "2024-12-02T23:23:14.612353Z"
    }
   },
   "cell_type": "code",
   "source": "df.isnull().sum()",
   "outputs": [
    {
     "data": {
      "text/plain": [
       "App               0\n",
       "Category          0\n",
       "Rating            0\n",
       "Reviews           0\n",
       "Size              0\n",
       "Installs          0\n",
       "Type              1\n",
       "Price             0\n",
       "Content Rating    1\n",
       "Genres            0\n",
       "Last Updated      0\n",
       "Current Ver       8\n",
       "Android Ver       3\n",
       "dtype: int64"
      ]
     },
     "execution_count": 160,
     "metadata": {},
     "output_type": "execute_result"
    }
   ],
   "execution_count": 160
  },
  {
   "cell_type": "code",
   "source": [
    "df['Installs'] = df['Installs'].str.replace('Free', '1000').str.replace(',', '').str.replace('+', '').astype(int)\n",
    "\n",
    "df = df.drop_duplicates()"
   ],
   "metadata": {
    "colab": {
     "base_uri": "https://localhost:8080/"
    },
    "id": "6XaV4Htqi5B8",
    "executionInfo": {
     "status": "ok",
     "timestamp": 1684695038768,
     "user_tz": -180,
     "elapsed": 13,
     "user": {
      "displayName": "Петр Рубин",
      "userId": "04613233041024729335"
     }
    },
    "outputId": "8962fff7-91a2-44e6-b832-c0eac4d2f7ac",
    "ExecuteTime": {
     "end_time": "2024-12-02T23:23:14.814394Z",
     "start_time": "2024-12-02T23:23:14.779173Z"
    }
   },
   "outputs": [],
   "execution_count": 161
  },
  {
   "metadata": {
    "ExecuteTime": {
     "end_time": "2024-12-02T23:23:14.913237Z",
     "start_time": "2024-12-02T23:23:14.892266Z"
    }
   },
   "cell_type": "code",
   "source": "df.duplicated()",
   "outputs": [
    {
     "data": {
      "text/plain": [
       "0        False\n",
       "1        False\n",
       "2        False\n",
       "3        False\n",
       "4        False\n",
       "         ...  \n",
       "10836    False\n",
       "10837    False\n",
       "10838    False\n",
       "10839    False\n",
       "10840    False\n",
       "Length: 10358, dtype: bool"
      ]
     },
     "execution_count": 162,
     "metadata": {},
     "output_type": "execute_result"
    }
   ],
   "execution_count": 162
  },
  {
   "cell_type": "code",
   "source": [
    "df.head()"
   ],
   "metadata": {
    "colab": {
     "base_uri": "https://localhost:8080/",
     "height": 617
    },
    "id": "U-jICtQ7nthU",
    "executionInfo": {
     "status": "ok",
     "timestamp": 1684695038769,
     "user_tz": -180,
     "elapsed": 11,
     "user": {
      "displayName": "Петр Рубин",
      "userId": "04613233041024729335"
     }
    },
    "outputId": "e02f162e-ea11-4114-b79e-c9cdfafbf6cd",
    "ExecuteTime": {
     "end_time": "2024-12-02T23:23:15.011795Z",
     "start_time": "2024-12-02T23:23:14.998854Z"
    }
   },
   "outputs": [
    {
     "data": {
      "text/plain": [
       "                                                 App        Category  Rating  \\\n",
       "0     Photo Editor & Candy Camera & Grid & ScrapBook  ART_AND_DESIGN     4.1   \n",
       "1                                Coloring book moana  ART_AND_DESIGN     3.9   \n",
       "2  U Launcher Lite – FREE Live Cool Themes, Hide ...  ART_AND_DESIGN     4.7   \n",
       "3                              Sketch - Draw & Paint  ART_AND_DESIGN     4.5   \n",
       "4              Pixel Draw - Number Art Coloring Book  ART_AND_DESIGN     4.3   \n",
       "\n",
       "  Reviews  Size  Installs  Type Price Content Rating  \\\n",
       "0     159   19M     10000  Free     0       Everyone   \n",
       "1     967   14M    500000  Free     0       Everyone   \n",
       "2   87510  8.7M   5000000  Free     0       Everyone   \n",
       "3  215644   25M  50000000  Free     0           Teen   \n",
       "4     967  2.8M    100000  Free     0       Everyone   \n",
       "\n",
       "                      Genres      Last Updated         Current Ver  \\\n",
       "0               Art & Design   January 7, 2018               1.0.0   \n",
       "1  Art & Design;Pretend Play  January 15, 2018               2.0.0   \n",
       "2               Art & Design    August 1, 2018               1.2.4   \n",
       "3               Art & Design      June 8, 2018  Varies with device   \n",
       "4    Art & Design;Creativity     June 20, 2018                 1.1   \n",
       "\n",
       "    Android Ver  \n",
       "0  4.0.3 and up  \n",
       "1  4.0.3 and up  \n",
       "2  4.0.3 and up  \n",
       "3    4.2 and up  \n",
       "4    4.4 and up  "
      ],
      "text/html": [
       "<div>\n",
       "<style scoped>\n",
       "    .dataframe tbody tr th:only-of-type {\n",
       "        vertical-align: middle;\n",
       "    }\n",
       "\n",
       "    .dataframe tbody tr th {\n",
       "        vertical-align: top;\n",
       "    }\n",
       "\n",
       "    .dataframe thead th {\n",
       "        text-align: right;\n",
       "    }\n",
       "</style>\n",
       "<table border=\"1\" class=\"dataframe\">\n",
       "  <thead>\n",
       "    <tr style=\"text-align: right;\">\n",
       "      <th></th>\n",
       "      <th>App</th>\n",
       "      <th>Category</th>\n",
       "      <th>Rating</th>\n",
       "      <th>Reviews</th>\n",
       "      <th>Size</th>\n",
       "      <th>Installs</th>\n",
       "      <th>Type</th>\n",
       "      <th>Price</th>\n",
       "      <th>Content Rating</th>\n",
       "      <th>Genres</th>\n",
       "      <th>Last Updated</th>\n",
       "      <th>Current Ver</th>\n",
       "      <th>Android Ver</th>\n",
       "    </tr>\n",
       "  </thead>\n",
       "  <tbody>\n",
       "    <tr>\n",
       "      <th>0</th>\n",
       "      <td>Photo Editor &amp; Candy Camera &amp; Grid &amp; ScrapBook</td>\n",
       "      <td>ART_AND_DESIGN</td>\n",
       "      <td>4.1</td>\n",
       "      <td>159</td>\n",
       "      <td>19M</td>\n",
       "      <td>10000</td>\n",
       "      <td>Free</td>\n",
       "      <td>0</td>\n",
       "      <td>Everyone</td>\n",
       "      <td>Art &amp; Design</td>\n",
       "      <td>January 7, 2018</td>\n",
       "      <td>1.0.0</td>\n",
       "      <td>4.0.3 and up</td>\n",
       "    </tr>\n",
       "    <tr>\n",
       "      <th>1</th>\n",
       "      <td>Coloring book moana</td>\n",
       "      <td>ART_AND_DESIGN</td>\n",
       "      <td>3.9</td>\n",
       "      <td>967</td>\n",
       "      <td>14M</td>\n",
       "      <td>500000</td>\n",
       "      <td>Free</td>\n",
       "      <td>0</td>\n",
       "      <td>Everyone</td>\n",
       "      <td>Art &amp; Design;Pretend Play</td>\n",
       "      <td>January 15, 2018</td>\n",
       "      <td>2.0.0</td>\n",
       "      <td>4.0.3 and up</td>\n",
       "    </tr>\n",
       "    <tr>\n",
       "      <th>2</th>\n",
       "      <td>U Launcher Lite – FREE Live Cool Themes, Hide ...</td>\n",
       "      <td>ART_AND_DESIGN</td>\n",
       "      <td>4.7</td>\n",
       "      <td>87510</td>\n",
       "      <td>8.7M</td>\n",
       "      <td>5000000</td>\n",
       "      <td>Free</td>\n",
       "      <td>0</td>\n",
       "      <td>Everyone</td>\n",
       "      <td>Art &amp; Design</td>\n",
       "      <td>August 1, 2018</td>\n",
       "      <td>1.2.4</td>\n",
       "      <td>4.0.3 and up</td>\n",
       "    </tr>\n",
       "    <tr>\n",
       "      <th>3</th>\n",
       "      <td>Sketch - Draw &amp; Paint</td>\n",
       "      <td>ART_AND_DESIGN</td>\n",
       "      <td>4.5</td>\n",
       "      <td>215644</td>\n",
       "      <td>25M</td>\n",
       "      <td>50000000</td>\n",
       "      <td>Free</td>\n",
       "      <td>0</td>\n",
       "      <td>Teen</td>\n",
       "      <td>Art &amp; Design</td>\n",
       "      <td>June 8, 2018</td>\n",
       "      <td>Varies with device</td>\n",
       "      <td>4.2 and up</td>\n",
       "    </tr>\n",
       "    <tr>\n",
       "      <th>4</th>\n",
       "      <td>Pixel Draw - Number Art Coloring Book</td>\n",
       "      <td>ART_AND_DESIGN</td>\n",
       "      <td>4.3</td>\n",
       "      <td>967</td>\n",
       "      <td>2.8M</td>\n",
       "      <td>100000</td>\n",
       "      <td>Free</td>\n",
       "      <td>0</td>\n",
       "      <td>Everyone</td>\n",
       "      <td>Art &amp; Design;Creativity</td>\n",
       "      <td>June 20, 2018</td>\n",
       "      <td>1.1</td>\n",
       "      <td>4.4 and up</td>\n",
       "    </tr>\n",
       "  </tbody>\n",
       "</table>\n",
       "</div>"
      ]
     },
     "execution_count": 163,
     "metadata": {},
     "output_type": "execute_result"
    }
   ],
   "execution_count": 163
  },
  {
   "metadata": {
    "ExecuteTime": {
     "end_time": "2024-12-02T23:23:15.127813Z",
     "start_time": "2024-12-02T23:23:15.115309Z"
    }
   },
   "cell_type": "code",
   "source": [
    "apps=df[['Category', 'Rating', 'Reviews', 'Installs']]\n",
    "apps.info()\n"
   ],
   "outputs": [
    {
     "name": "stdout",
     "output_type": "stream",
     "text": [
      "<class 'pandas.core.frame.DataFrame'>\n",
      "Index: 10358 entries, 0 to 10840\n",
      "Data columns (total 4 columns):\n",
      " #   Column    Non-Null Count  Dtype  \n",
      "---  ------    --------------  -----  \n",
      " 0   Category  10358 non-null  object \n",
      " 1   Rating    10358 non-null  float64\n",
      " 2   Reviews   10358 non-null  object \n",
      " 3   Installs  10358 non-null  int32  \n",
      "dtypes: float64(1), int32(1), object(2)\n",
      "memory usage: 364.1+ KB\n"
     ]
    }
   ],
   "execution_count": 164
  },
  {
   "metadata": {
    "ExecuteTime": {
     "end_time": "2024-12-02T23:23:20.066277Z",
     "start_time": "2024-12-02T23:23:15.230773Z"
    }
   },
   "cell_type": "code",
   "source": [
    "import seaborn as sns\n",
    "sns.pairplot(apps, hue='Category')"
   ],
   "outputs": [
    {
     "name": "stderr",
     "output_type": "stream",
     "text": [
      "D:\\DataSience\\Anaconda\\Lib\\site-packages\\seaborn\\_oldcore.py:1119: FutureWarning: use_inf_as_na option is deprecated and will be removed in a future version. Convert inf values to NaN before operating instead.\n",
      "  with pd.option_context('mode.use_inf_as_na', True):\n",
      "D:\\DataSience\\Anaconda\\Lib\\site-packages\\seaborn\\_oldcore.py:1075: FutureWarning: When grouping with a length-1 list-like, you will need to pass a length-1 tuple to get_group in a future version of pandas. Pass `(name,)` instead of `name` to silence this warning.\n",
      "  data_subset = grouped_data.get_group(pd_key)\n",
      "D:\\DataSience\\Anaconda\\Lib\\site-packages\\seaborn\\_oldcore.py:1075: FutureWarning: When grouping with a length-1 list-like, you will need to pass a length-1 tuple to get_group in a future version of pandas. Pass `(name,)` instead of `name` to silence this warning.\n",
      "  data_subset = grouped_data.get_group(pd_key)\n",
      "D:\\DataSience\\Anaconda\\Lib\\site-packages\\seaborn\\_oldcore.py:1075: FutureWarning: When grouping with a length-1 list-like, you will need to pass a length-1 tuple to get_group in a future version of pandas. Pass `(name,)` instead of `name` to silence this warning.\n",
      "  data_subset = grouped_data.get_group(pd_key)\n",
      "D:\\DataSience\\Anaconda\\Lib\\site-packages\\seaborn\\_oldcore.py:1119: FutureWarning: use_inf_as_na option is deprecated and will be removed in a future version. Convert inf values to NaN before operating instead.\n",
      "  with pd.option_context('mode.use_inf_as_na', True):\n",
      "D:\\DataSience\\Anaconda\\Lib\\site-packages\\seaborn\\_oldcore.py:1075: FutureWarning: When grouping with a length-1 list-like, you will need to pass a length-1 tuple to get_group in a future version of pandas. Pass `(name,)` instead of `name` to silence this warning.\n",
      "  data_subset = grouped_data.get_group(pd_key)\n",
      "D:\\DataSience\\Anaconda\\Lib\\site-packages\\seaborn\\_oldcore.py:1075: FutureWarning: When grouping with a length-1 list-like, you will need to pass a length-1 tuple to get_group in a future version of pandas. Pass `(name,)` instead of `name` to silence this warning.\n",
      "  data_subset = grouped_data.get_group(pd_key)\n",
      "D:\\DataSience\\Anaconda\\Lib\\site-packages\\seaborn\\_oldcore.py:1075: FutureWarning: When grouping with a length-1 list-like, you will need to pass a length-1 tuple to get_group in a future version of pandas. Pass `(name,)` instead of `name` to silence this warning.\n",
      "  data_subset = grouped_data.get_group(pd_key)\n",
      "D:\\DataSience\\Anaconda\\Lib\\site-packages\\seaborn\\axisgrid.py:118: UserWarning: The figure layout has changed to tight\n",
      "  self._figure.tight_layout(*args, **kwargs)\n"
     ]
    },
    {
     "data": {
      "text/plain": [
       "<seaborn.axisgrid.PairGrid at 0x210f5772b10>"
      ]
     },
     "execution_count": 165,
     "metadata": {},
     "output_type": "execute_result"
    },
    {
     "data": {
      "text/plain": [
       "<Figure size 726.25x500 with 6 Axes>"
      ],
      "image/png": "[encoded data removed]"
     },
     "metadata": {},
     "output_type": "display_data"
    }
   ],
   "execution_count": 165
  },
  {
   "cell_type": "code",
   "source": [
    "df.to_csv('cleaned_googleplaystore.csv', index=False)"
   ],
   "metadata": {
    "id": "CibfX0-KuYtX",
    "executionInfo": {
     "status": "ok",
     "timestamp": 1684695038769,
     "user_tz": -180,
     "elapsed": 10,
     "user": {
      "displayName": "Петр Рубин",
      "userId": "04613233041024729335"
     }
    },
    "ExecuteTime": {
     "end_time": "2024-12-02T23:23:20.142970Z",
     "start_time": "2024-12-02T23:23:20.076291Z"
    }
   },
   "outputs": [],
   "execution_count": 166
  },
  {
   "cell_type": "code",
   "source": [],
   "metadata": {
    "id": "gOMtI7paujYZ",
    "executionInfo": {
     "status": "ok",
     "timestamp": 1684695038770,
     "user_tz": -180,
     "elapsed": 11,
     "user": {
      "displayName": "Петр Рубин",
      "userId": "04613233041024729335"
     }
    },
    "ExecuteTime": {
     "end_time": "2024-12-02T23:23:20.170049Z",
     "start_time": "2024-12-02T23:23:20.166583Z"
    }
   },
   "outputs": [],
   "execution_count": null
  },
  {
   "cell_type": "code",
   "source": [
    "import matplotlib.pyplot as plt\n",
    "\n",
    "df = pd.read_csv('cleaned_googleplaystore.csv')\n",
    "df=df.loc[df['Installs']<=1000000]\n",
    "category_counts = df['Category'].value_counts().sort_values(ascending=False)\n",
    "plt.bar(category_counts.index, category_counts.values, color='orange')\n",
    "plt.xticks(rotation=90)\n",
    "plt.xlabel('App Category')\n",
    "plt.ylabel('Count')\n",
    "plt.title('Distribution of App Categories')\n",
    "plt.show()"
   ],
   "metadata": {
    "colab": {
     "base_uri": "https://localhost:8080/",
     "height": 634
    },
    "id": "uHGHpRg2wytD",
    "executionInfo": {
     "status": "ok",
     "timestamp": 1684695040097,
     "user_tz": -180,
     "elapsed": 1337,
     "user": {
      "displayName": "Петр Рубин",
      "userId": "04613233041024729335"
     }
    },
    "outputId": "8f9f594e-6566-4e1d-ee1a-6aa9a5f22cef",
    "ExecuteTime": {
     "end_time": "2024-12-02T23:23:20.486021Z",
     "start_time": "2024-12-02T23:23:20.191310Z"
    }
   },
   "outputs": [
    {
     "data": {
      "text/plain": [
       "<Figure size 640x480 with 1 Axes>"
      ],
      "image/png": "[encoded data removed]"
     },
     "metadata": {},
     "output_type": "display_data"
    }
   ],
   "execution_count": 167
  },
  {
   "cell_type": "code",
   "source": [
    "plt.hist(df['Rating'], bins=20, color='skyblue')\n",
    "plt.xlabel('Rating')\n",
    "plt.ylabel('Count')\n",
    "plt.title('Distribution of App Ratings')\n",
    "plt.show()"
   ],
   "metadata": {
    "colab": {
     "base_uri": "https://localhost:8080/",
     "height": 472
    },
    "id": "U1Mgn4z7w1sP",
    "executionInfo": {
     "status": "ok",
     "timestamp": 1684695041054,
     "user_tz": -180,
     "elapsed": 963,
     "user": {
      "displayName": "Петр Рубин",
      "userId": "04613233041024729335"
     }
    },
    "outputId": "f1ae094b-402d-4af1-e15d-15398ff47ba8",
    "ExecuteTime": {
     "end_time": "2024-12-02T23:23:20.720372Z",
     "start_time": "2024-12-02T23:23:20.525827Z"
    }
   },
   "outputs": [
    {
     "data": {
      "text/plain": [
       "<Figure size 640x480 with 1 Axes>"
      ],
      "image/png": "[encoded data removed]"
     },
     "metadata": {},
     "output_type": "display_data"
    }
   ],
   "execution_count": 168
  },
  {
   "metadata": {
    "ExecuteTime": {
     "end_time": "2024-12-02T23:23:20.864450Z",
     "start_time": "2024-12-02T23:23:20.741725Z"
    }
   },
   "cell_type": "code",
   "source": [
    "plt.hist(df['Installs'])\n",
    "plt.xlabel('Installs')\n",
    "plt.ylabel('Count')\n",
    "plt.title('Distribution of App Installs')\n",
    "plt.show()"
   ],
   "outputs": [
    {
     "data": {
      "text/plain": [
       "<Figure size 640x480 with 1 Axes>"
      ],
      "image/png": "[encoded data removed]"
     },
     "metadata": {},
     "output_type": "display_data"
    }
   ],
   "execution_count": 169
  },
  {
   "metadata": {
    "ExecuteTime": {
     "end_time": "2024-12-02T23:23:32.180220Z",
     "start_time": "2024-12-02T23:23:20.890269Z"
    }
   },
   "cell_type": "code",
   "source": [
    "plt.hist(df['Reviews'])\n",
    "plt.xlabel('Reviews')\n",
    "plt.ylabel('Count')\n",
    "plt.title('Distribution of App Reviews')\n",
    "plt.show()"
   ],
   "outputs": [
    {
     "data": {
      "text/plain": [
       "<Figure size 640x480 with 1 Axes>"
      ],
      "image/png": "[encoded data removed]"
     },
     "metadata": {},
     "output_type": "display_data"
    }
   ],
   "execution_count": 170
  },
  {
   "cell_type": "code",
   "source": [
    "summary_stats = df[['Rating', 'Reviews', 'Installs']].describe()\n",
    "summary_stats"
   ],
   "metadata": {
    "colab": {
     "base_uri": "https://localhost:8080/",
     "height": 300
    },
    "id": "hq1nymm9w6Rp",
    "executionInfo": {
     "status": "ok",
     "timestamp": 1684695041054,
     "user_tz": -180,
     "elapsed": 10,
     "user": {
      "displayName": "Петр Рубин",
      "userId": "04613233041024729335"
     }
    },
    "outputId": "83a2f60b-2a8a-47d6-9ae4-7ba24c96e4c2",
    "ExecuteTime": {
     "end_time": "2024-12-02T23:23:32.232128Z",
     "start_time": "2024-12-02T23:23:32.219156Z"
    }
   },
   "outputs": [
    {
     "data": {
      "text/plain": [
       "            Rating        Installs\n",
       "count  7792.000000     7792.000000\n",
       "mean      4.150262   243443.984471\n",
       "std       0.554864   387198.623335\n",
       "min       1.000000        0.000000\n",
       "25%       4.000000     1000.000000\n",
       "50%       4.193338    10000.000000\n",
       "75%       4.500000   500000.000000\n",
       "max      19.000000  1000000.000000"
      ],
      "text/html": [
       "<div>\n",
       "<style scoped>\n",
       "    .dataframe tbody tr th:only-of-type {\n",
       "        vertical-align: middle;\n",
       "    }\n",
       "\n",
       "    .dataframe tbody tr th {\n",
       "        vertical-align: top;\n",
       "    }\n",
       "\n",
       "    .dataframe thead th {\n",
       "        text-align: right;\n",
       "    }\n",
       "</style>\n",
       "<table border=\"1\" class=\"dataframe\">\n",
       "  <thead>\n",
       "    <tr style=\"text-align: right;\">\n",
       "      <th></th>\n",
       "      <th>Rating</th>\n",
       "      <th>Installs</th>\n",
       "    </tr>\n",
       "  </thead>\n",
       "  <tbody>\n",
       "    <tr>\n",
       "      <th>count</th>\n",
       "      <td>7792.000000</td>\n",
       "      <td>7792.000000</td>\n",
       "    </tr>\n",
       "    <tr>\n",
       "      <th>mean</th>\n",
       "      <td>4.150262</td>\n",
       "      <td>243443.984471</td>\n",
       "    </tr>\n",
       "    <tr>\n",
       "      <th>std</th>\n",
       "      <td>0.554864</td>\n",
       "      <td>387198.623335</td>\n",
       "    </tr>\n",
       "    <tr>\n",
       "      <th>min</th>\n",
       "      <td>1.000000</td>\n",
       "      <td>0.000000</td>\n",
       "    </tr>\n",
       "    <tr>\n",
       "      <th>25%</th>\n",
       "      <td>4.000000</td>\n",
       "      <td>1000.000000</td>\n",
       "    </tr>\n",
       "    <tr>\n",
       "      <th>50%</th>\n",
       "      <td>4.193338</td>\n",
       "      <td>10000.000000</td>\n",
       "    </tr>\n",
       "    <tr>\n",
       "      <th>75%</th>\n",
       "      <td>4.500000</td>\n",
       "      <td>500000.000000</td>\n",
       "    </tr>\n",
       "    <tr>\n",
       "      <th>max</th>\n",
       "      <td>19.000000</td>\n",
       "      <td>1000000.000000</td>\n",
       "    </tr>\n",
       "  </tbody>\n",
       "</table>\n",
       "</div>"
      ]
     },
     "execution_count": 171,
     "metadata": {},
     "output_type": "execute_result"
    }
   ],
   "execution_count": 171
  },
  {
   "cell_type": "code",
   "source": [],
   "metadata": {
    "id": "bNhIJhvHw--t",
    "executionInfo": {
     "status": "ok",
     "timestamp": 1684695041055,
     "user_tz": -180,
     "elapsed": 9,
     "user": {
      "displayName": "Петр Рубин",
      "userId": "04613233041024729335"
     }
    },
    "ExecuteTime": {
     "end_time": "2024-12-02T23:23:32.293867Z",
     "start_time": "2024-12-02T23:23:32.291123Z"
    }
   },
   "outputs": [],
   "execution_count": null
  },
  {
   "cell_type": "code",
   "source": [
    "from scipy import stats\n",
    "from scipy.stats.mstats import winsorize\n",
    "from sklearn.preprocessing import StandardScaler"
   ],
   "metadata": {
    "id": "6AnJFrmA2kuE",
    "executionInfo": {
     "status": "ok",
     "timestamp": 1684695041868,
     "user_tz": -180,
     "elapsed": 821,
     "user": {
      "displayName": "Петр Рубин",
      "userId": "04613233041024729335"
     }
    },
    "ExecuteTime": {
     "end_time": "2024-12-02T23:23:32.355594Z",
     "start_time": "2024-12-02T23:23:32.351595Z"
    }
   },
   "outputs": [],
   "execution_count": 172
  },
  {
   "cell_type": "code",
   "source": [
    "df = pd.read_csv('cleaned_googleplaystore.csv')"
   ],
   "metadata": {
    "id": "3QJ8oSQD2tOi",
    "executionInfo": {
     "status": "ok",
     "timestamp": 1684695041869,
     "user_tz": -180,
     "elapsed": 8,
     "user": {
      "displayName": "Петр Рубин",
      "userId": "04613233041024729335"
     }
    },
    "ExecuteTime": {
     "end_time": "2024-12-02T23:23:32.431459Z",
     "start_time": "2024-12-02T23:23:32.395118Z"
    }
   },
   "outputs": [],
   "execution_count": 173
  },
  {
   "cell_type": "code",
   "source": [
    "z_scores = stats.zscore(df['Installs'])\n",
    "threshold = 3\n",
    "outliers = df['Installs'][z_scores > threshold]\n",
    "df.loc[z_scores > threshold, 'Installs'] = df['Installs'].median()"
   ],
   "metadata": {
    "id": "AH4W2c2D2xKu",
    "executionInfo": {
     "status": "ok",
     "timestamp": 1684695041869,
     "user_tz": -180,
     "elapsed": 7,
     "user": {
      "displayName": "Петр Рубин",
      "userId": "04613233041024729335"
     }
    },
    "ExecuteTime": {
     "end_time": "2024-12-02T23:23:32.460728Z",
     "start_time": "2024-12-02T23:23:32.452369Z"
    }
   },
   "outputs": [],
   "execution_count": 174
  },
  {
   "metadata": {
    "ExecuteTime": {
     "end_time": "2024-12-02T23:23:58.538176Z",
     "start_time": "2024-12-02T23:23:32.477415Z"
    }
   },
   "cell_type": "code",
   "source": [
    "plt.hist(df['Reviews'])\n",
    "plt.xlabel('Reviews')\n",
    "plt.ylabel('Count')\n",
    "plt.title('Distribution of App Reviews')\n",
    "plt.show()"
   ],
   "outputs": [
    {
     "data": {
      "text/plain": [
       "<Figure size 640x480 with 1 Axes>"
      ],
      "image/png": "[encoded data removed]"
     },
     "metadata": {},
     "output_type": "display_data"
    }
   ],
   "execution_count": 175
  },
  {
   "cell_type": "code",
   "source": "df['Rating'] = winsorize(df['Rating'], limits=[0.05, 0.05])\n",
   "metadata": {
    "id": "-_fNzZKZ20KA",
    "executionInfo": {
     "status": "ok",
     "timestamp": 1684695041870,
     "user_tz": -180,
     "elapsed": 8,
     "user": {
      "displayName": "Петр Рубин",
      "userId": "04613233041024729335"
     }
    },
    "ExecuteTime": {
     "end_time": "2024-12-02T23:23:58.572659Z",
     "start_time": "2024-12-02T23:23:58.565888Z"
    }
   },
   "outputs": [],
   "execution_count": 176
  },
  {
   "cell_type": "code",
   "source": [
    "scaler = StandardScaler()\n",
    "df[['Rating']] = scaler.fit_transform(df[['Rating']])"
   ],
   "metadata": {
    "id": "0UbZOwht23Dy",
    "executionInfo": {
     "status": "ok",
     "timestamp": 1684695041870,
     "user_tz": -180,
     "elapsed": 7,
     "user": {
      "displayName": "Петр Рубин",
      "userId": "04613233041024729335"
     }
    },
    "ExecuteTime": {
     "end_time": "2024-12-02T23:23:58.640784Z",
     "start_time": "2024-12-02T23:23:58.631848Z"
    }
   },
   "outputs": [],
   "execution_count": 177
  },
  {
   "cell_type": "code",
   "source": [
    "df.head()"
   ],
   "metadata": {
    "colab": {
     "base_uri": "https://localhost:8080/",
     "height": 617
    },
    "id": "PsAtNKQI25lu",
    "executionInfo": {
     "status": "ok",
     "timestamp": 1684695042190,
     "user_tz": -180,
     "elapsed": 327,
     "user": {
      "displayName": "Петр Рубин",
      "userId": "04613233041024729335"
     }
    },
    "outputId": "df9237c5-62f1-4dea-b087-9b12c45928a0",
    "ExecuteTime": {
     "end_time": "2024-12-02T23:23:58.705976Z",
     "start_time": "2024-12-02T23:23:58.689687Z"
    }
   },
   "outputs": [
    {
     "data": {
      "text/plain": [
       "                                                 App        Category  \\\n",
       "0     Photo Editor & Candy Camera & Grid & ScrapBook  ART_AND_DESIGN   \n",
       "1                                Coloring book moana  ART_AND_DESIGN   \n",
       "2  U Launcher Lite – FREE Live Cool Themes, Hide ...  ART_AND_DESIGN   \n",
       "3                              Sketch - Draw & Paint  ART_AND_DESIGN   \n",
       "4              Pixel Draw - Number Art Coloring Book  ART_AND_DESIGN   \n",
       "\n",
       "     Rating Reviews  Size  Installs  Type Price Content Rating  \\\n",
       "0 -0.298545     159   19M     10000  Free     0       Everyone   \n",
       "1 -0.831044     967   14M    500000  Free     0       Everyone   \n",
       "2  1.298952   87510  8.7M   5000000  Free     0       Everyone   \n",
       "3  0.766453  215644   25M  50000000  Free     0           Teen   \n",
       "4  0.233954     967  2.8M    100000  Free     0       Everyone   \n",
       "\n",
       "                      Genres      Last Updated         Current Ver  \\\n",
       "0               Art & Design   January 7, 2018               1.0.0   \n",
       "1  Art & Design;Pretend Play  January 15, 2018               2.0.0   \n",
       "2               Art & Design    August 1, 2018               1.2.4   \n",
       "3               Art & Design      June 8, 2018  Varies with device   \n",
       "4    Art & Design;Creativity     June 20, 2018                 1.1   \n",
       "\n",
       "    Android Ver  \n",
       "0  4.0.3 and up  \n",
       "1  4.0.3 and up  \n",
       "2  4.0.3 and up  \n",
       "3    4.2 and up  \n",
       "4    4.4 and up  "
      ],
      "text/html": [
       "<div>\n",
       "<style scoped>\n",
       "    .dataframe tbody tr th:only-of-type {\n",
       "        vertical-align: middle;\n",
       "    }\n",
       "\n",
       "    .dataframe tbody tr th {\n",
       "        vertical-align: top;\n",
       "    }\n",
       "\n",
       "    .dataframe thead th {\n",
       "        text-align: right;\n",
       "    }\n",
       "</style>\n",
       "<table border=\"1\" class=\"dataframe\">\n",
       "  <thead>\n",
       "    <tr style=\"text-align: right;\">\n",
       "      <th></th>\n",
       "      <th>App</th>\n",
       "      <th>Category</th>\n",
       "      <th>Rating</th>\n",
       "      <th>Reviews</th>\n",
       "      <th>Size</th>\n",
       "      <th>Installs</th>\n",
       "      <th>Type</th>\n",
       "      <th>Price</th>\n",
       "      <th>Content Rating</th>\n",
       "      <th>Genres</th>\n",
       "      <th>Last Updated</th>\n",
       "      <th>Current Ver</th>\n",
       "      <th>Android Ver</th>\n",
       "    </tr>\n",
       "  </thead>\n",
       "  <tbody>\n",
       "    <tr>\n",
       "      <th>0</th>\n",
       "      <td>Photo Editor &amp; Candy Camera &amp; Grid &amp; ScrapBook</td>\n",
       "      <td>ART_AND_DESIGN</td>\n",
       "      <td>-0.298545</td>\n",
       "      <td>159</td>\n",
       "      <td>19M</td>\n",
       "      <td>10000</td>\n",
       "      <td>Free</td>\n",
       "      <td>0</td>\n",
       "      <td>Everyone</td>\n",
       "      <td>Art &amp; Design</td>\n",
       "      <td>January 7, 2018</td>\n",
       "      <td>1.0.0</td>\n",
       "      <td>4.0.3 and up</td>\n",
       "    </tr>\n",
       "    <tr>\n",
       "      <th>1</th>\n",
       "      <td>Coloring book moana</td>\n",
       "      <td>ART_AND_DESIGN</td>\n",
       "      <td>-0.831044</td>\n",
       "      <td>967</td>\n",
       "      <td>14M</td>\n",
       "      <td>500000</td>\n",
       "      <td>Free</td>\n",
       "      <td>0</td>\n",
       "      <td>Everyone</td>\n",
       "      <td>Art &amp; Design;Pretend Play</td>\n",
       "      <td>January 15, 2018</td>\n",
       "      <td>2.0.0</td>\n",
       "      <td>4.0.3 and up</td>\n",
       "    </tr>\n",
       "    <tr>\n",
       "      <th>2</th>\n",
       "      <td>U Launcher Lite – FREE Live Cool Themes, Hide ...</td>\n",
       "      <td>ART_AND_DESIGN</td>\n",
       "      <td>1.298952</td>\n",
       "      <td>87510</td>\n",
       "      <td>8.7M</td>\n",
       "      <td>5000000</td>\n",
       "      <td>Free</td>\n",
       "      <td>0</td>\n",
       "      <td>Everyone</td>\n",
       "      <td>Art &amp; Design</td>\n",
       "      <td>August 1, 2018</td>\n",
       "      <td>1.2.4</td>\n",
       "      <td>4.0.3 and up</td>\n",
       "    </tr>\n",
       "    <tr>\n",
       "      <th>3</th>\n",
       "      <td>Sketch - Draw &amp; Paint</td>\n",
       "      <td>ART_AND_DESIGN</td>\n",
       "      <td>0.766453</td>\n",
       "      <td>215644</td>\n",
       "      <td>25M</td>\n",
       "      <td>50000000</td>\n",
       "      <td>Free</td>\n",
       "      <td>0</td>\n",
       "      <td>Teen</td>\n",
       "      <td>Art &amp; Design</td>\n",
       "      <td>June 8, 2018</td>\n",
       "      <td>Varies with device</td>\n",
       "      <td>4.2 and up</td>\n",
       "    </tr>\n",
       "    <tr>\n",
       "      <th>4</th>\n",
       "      <td>Pixel Draw - Number Art Coloring Book</td>\n",
       "      <td>ART_AND_DESIGN</td>\n",
       "      <td>0.233954</td>\n",
       "      <td>967</td>\n",
       "      <td>2.8M</td>\n",
       "      <td>100000</td>\n",
       "      <td>Free</td>\n",
       "      <td>0</td>\n",
       "      <td>Everyone</td>\n",
       "      <td>Art &amp; Design;Creativity</td>\n",
       "      <td>June 20, 2018</td>\n",
       "      <td>1.1</td>\n",
       "      <td>4.4 and up</td>\n",
       "    </tr>\n",
       "  </tbody>\n",
       "</table>\n",
       "</div>"
      ]
     },
     "execution_count": 178,
     "metadata": {},
     "output_type": "execute_result"
    }
   ],
   "execution_count": 178
  },
  {
   "cell_type": "code",
   "source": [],
   "metadata": {
    "id": "fmmfCnhI3BYo",
    "executionInfo": {
     "status": "ok",
     "timestamp": 1684695042191,
     "user_tz": -180,
     "elapsed": 6,
     "user": {
      "displayName": "Петр Рубин",
      "userId": "04613233041024729335"
     }
    },
    "ExecuteTime": {
     "end_time": "2024-12-02T23:23:58.785524Z",
     "start_time": "2024-12-02T23:23:58.781666Z"
    }
   },
   "outputs": [],
   "execution_count": null
  },
  {
   "cell_type": "code",
   "source": [
    "from sklearn.preprocessing import LabelEncoder\n",
    "\n",
    "df = pd.read_csv('cleaned_googleplaystore.csv')\n",
    "\n",
    "le = LabelEncoder()\n",
    "df['Type_Encoded'] = le.fit_transform(df['Type'])\n",
    "\n",
    "df = pd.get_dummies(df, columns=['Content Rating'], prefix='ContentRating', drop_first=True)\n",
    "\n",
    "pivot_table = df.pivot_table(index='Category', columns='ContentRating_Teen', values='Rating', aggfunc='mean')"
   ],
   "metadata": {
    "id": "txPVONeufBg3",
    "executionInfo": {
     "status": "ok",
     "timestamp": 1684695205624,
     "user_tz": -180,
     "elapsed": 304,
     "user": {
      "displayName": "Петр Рубин",
      "userId": "04613233041024729335"
     }
    },
    "ExecuteTime": {
     "end_time": "2024-12-02T23:23:58.936725Z",
     "start_time": "2024-12-02T23:23:58.863761Z"
    }
   },
   "outputs": [],
   "execution_count": 179
  },
  {
   "cell_type": "code",
   "source": [
    "pivot_table"
   ],
   "metadata": {
    "colab": {
     "base_uri": "https://localhost:8080/",
     "height": 1000
    },
    "id": "8QmNSVIfptdR",
    "executionInfo": {
     "status": "ok",
     "timestamp": 1684695214447,
     "user_tz": -180,
     "elapsed": 322,
     "user": {
      "displayName": "Петр Рубин",
      "userId": "04613233041024729335"
     }
    },
    "outputId": "cf9509c0-1764-4f36-b310-49894f943d73",
    "ExecuteTime": {
     "end_time": "2024-12-02T23:23:58.986513Z",
     "start_time": "2024-12-02T23:23:58.960738Z"
    }
   },
   "outputs": [
    {
     "data": {
      "text/plain": [
       "ContentRating_Teen       False     True \n",
       "Category                                \n",
       "1.9                  19.000000       NaN\n",
       "ART_AND_DESIGN        4.344839  4.466667\n",
       "AUTO_AND_VEHICLES     4.190715  4.200000\n",
       "BEAUTY                4.272668  4.064446\n",
       "BOOKS_AND_REFERENCE   4.313175  4.299683\n",
       "BUSINESS              4.133126  4.226157\n",
       "COMICS                4.228597  4.031818\n",
       "COMMUNICATION         4.146747  4.282152\n",
       "DATING                4.008030  4.116003\n",
       "EDUCATION             4.371266  4.800000\n",
       "ENTERTAINMENT         4.162222  4.118182\n",
       "EVENTS                4.344287  4.499167\n",
       "FAMILY                4.196271  4.160051\n",
       "FINANCE               4.135832  4.098668\n",
       "FOOD_AND_DRINK        4.153334  4.386667\n",
       "GAME                  4.282181  4.266421\n",
       "HEALTH_AND_FITNESS    4.248177  4.304211\n",
       "HOUSE_AND_HOME        4.156667  4.650000\n",
       "LIBRARIES_AND_DEMO    4.181962       NaN\n",
       "LIFESTYLE             4.097095  4.380304\n",
       "MAPS_AND_NAVIGATION   4.060099  4.400000\n",
       "MEDICAL               4.182648  4.397335\n",
       "NEWS_AND_MAGAZINES    4.129685  4.221250\n",
       "PARENTING             4.275142  4.700000\n",
       "PERSONALIZATION       4.308584  4.287287\n",
       "PHOTOGRAPHY           4.180000  4.281818\n",
       "PRODUCTIVITY          4.201157  4.161485\n",
       "SHOPPING              4.225592  4.344562\n",
       "SOCIAL                4.220042  4.282425\n",
       "SPORTS                4.221584  4.163810\n",
       "TOOLS                 4.063692  4.500000\n",
       "TRAVEL_AND_LOCAL      4.108197  4.082223\n",
       "VIDEO_PLAYERS         4.072848  4.087500\n",
       "WEATHER               4.234417  4.450000"
      ],
      "text/html": [
       "<div>\n",
       "<style scoped>\n",
       "    .dataframe tbody tr th:only-of-type {\n",
       "        vertical-align: middle;\n",
       "    }\n",
       "\n",
       "    .dataframe tbody tr th {\n",
       "        vertical-align: top;\n",
       "    }\n",
       "\n",
       "    .dataframe thead th {\n",
       "        text-align: right;\n",
       "    }\n",
       "</style>\n",
       "<table border=\"1\" class=\"dataframe\">\n",
       "  <thead>\n",
       "    <tr style=\"text-align: right;\">\n",
       "      <th>ContentRating_Teen</th>\n",
       "      <th>False</th>\n",
       "      <th>True</th>\n",
       "    </tr>\n",
       "    <tr>\n",
       "      <th>Category</th>\n",
       "      <th></th>\n",
       "      <th></th>\n",
       "    </tr>\n",
       "  </thead>\n",
       "  <tbody>\n",
       "    <tr>\n",
       "      <th>1.9</th>\n",
       "      <td>19.000000</td>\n",
       "      <td>NaN</td>\n",
       "    </tr>\n",
       "    <tr>\n",
       "      <th>ART_AND_DESIGN</th>\n",
       "      <td>4.344839</td>\n",
       "      <td>4.466667</td>\n",
       "    </tr>\n",
       "    <tr>\n",
       "      <th>AUTO_AND_VEHICLES</th>\n",
       "      <td>4.190715</td>\n",
       "      <td>4.200000</td>\n",
       "    </tr>\n",
       "    <tr>\n",
       "      <th>BEAUTY</th>\n",
       "      <td>4.272668</td>\n",
       "      <td>4.064446</td>\n",
       "    </tr>\n",
       "    <tr>\n",
       "      <th>BOOKS_AND_REFERENCE</th>\n",
       "      <td>4.313175</td>\n",
       "      <td>4.299683</td>\n",
       "    </tr>\n",
       "    <tr>\n",
       "      <th>BUSINESS</th>\n",
       "      <td>4.133126</td>\n",
       "      <td>4.226157</td>\n",
       "    </tr>\n",
       "    <tr>\n",
       "      <th>COMICS</th>\n",
       "      <td>4.228597</td>\n",
       "      <td>4.031818</td>\n",
       "    </tr>\n",
       "    <tr>\n",
       "      <th>COMMUNICATION</th>\n",
       "      <td>4.146747</td>\n",
       "      <td>4.282152</td>\n",
       "    </tr>\n",
       "    <tr>\n",
       "      <th>DATING</th>\n",
       "      <td>4.008030</td>\n",
       "      <td>4.116003</td>\n",
       "    </tr>\n",
       "    <tr>\n",
       "      <th>EDUCATION</th>\n",
       "      <td>4.371266</td>\n",
       "      <td>4.800000</td>\n",
       "    </tr>\n",
       "    <tr>\n",
       "      <th>ENTERTAINMENT</th>\n",
       "      <td>4.162222</td>\n",
       "      <td>4.118182</td>\n",
       "    </tr>\n",
       "    <tr>\n",
       "      <th>EVENTS</th>\n",
       "      <td>4.344287</td>\n",
       "      <td>4.499167</td>\n",
       "    </tr>\n",
       "    <tr>\n",
       "      <th>FAMILY</th>\n",
       "      <td>4.196271</td>\n",
       "      <td>4.160051</td>\n",
       "    </tr>\n",
       "    <tr>\n",
       "      <th>FINANCE</th>\n",
       "      <td>4.135832</td>\n",
       "      <td>4.098668</td>\n",
       "    </tr>\n",
       "    <tr>\n",
       "      <th>FOOD_AND_DRINK</th>\n",
       "      <td>4.153334</td>\n",
       "      <td>4.386667</td>\n",
       "    </tr>\n",
       "    <tr>\n",
       "      <th>GAME</th>\n",
       "      <td>4.282181</td>\n",
       "      <td>4.266421</td>\n",
       "    </tr>\n",
       "    <tr>\n",
       "      <th>HEALTH_AND_FITNESS</th>\n",
       "      <td>4.248177</td>\n",
       "      <td>4.304211</td>\n",
       "    </tr>\n",
       "    <tr>\n",
       "      <th>HOUSE_AND_HOME</th>\n",
       "      <td>4.156667</td>\n",
       "      <td>4.650000</td>\n",
       "    </tr>\n",
       "    <tr>\n",
       "      <th>LIBRARIES_AND_DEMO</th>\n",
       "      <td>4.181962</td>\n",
       "      <td>NaN</td>\n",
       "    </tr>\n",
       "    <tr>\n",
       "      <th>LIFESTYLE</th>\n",
       "      <td>4.097095</td>\n",
       "      <td>4.380304</td>\n",
       "    </tr>\n",
       "    <tr>\n",
       "      <th>MAPS_AND_NAVIGATION</th>\n",
       "      <td>4.060099</td>\n",
       "      <td>4.400000</td>\n",
       "    </tr>\n",
       "    <tr>\n",
       "      <th>MEDICAL</th>\n",
       "      <td>4.182648</td>\n",
       "      <td>4.397335</td>\n",
       "    </tr>\n",
       "    <tr>\n",
       "      <th>NEWS_AND_MAGAZINES</th>\n",
       "      <td>4.129685</td>\n",
       "      <td>4.221250</td>\n",
       "    </tr>\n",
       "    <tr>\n",
       "      <th>PARENTING</th>\n",
       "      <td>4.275142</td>\n",
       "      <td>4.700000</td>\n",
       "    </tr>\n",
       "    <tr>\n",
       "      <th>PERSONALIZATION</th>\n",
       "      <td>4.308584</td>\n",
       "      <td>4.287287</td>\n",
       "    </tr>\n",
       "    <tr>\n",
       "      <th>PHOTOGRAPHY</th>\n",
       "      <td>4.180000</td>\n",
       "      <td>4.281818</td>\n",
       "    </tr>\n",
       "    <tr>\n",
       "      <th>PRODUCTIVITY</th>\n",
       "      <td>4.201157</td>\n",
       "      <td>4.161485</td>\n",
       "    </tr>\n",
       "    <tr>\n",
       "      <th>SHOPPING</th>\n",
       "      <td>4.225592</td>\n",
       "      <td>4.344562</td>\n",
       "    </tr>\n",
       "    <tr>\n",
       "      <th>SOCIAL</th>\n",
       "      <td>4.220042</td>\n",
       "      <td>4.282425</td>\n",
       "    </tr>\n",
       "    <tr>\n",
       "      <th>SPORTS</th>\n",
       "      <td>4.221584</td>\n",
       "      <td>4.163810</td>\n",
       "    </tr>\n",
       "    <tr>\n",
       "      <th>TOOLS</th>\n",
       "      <td>4.063692</td>\n",
       "      <td>4.500000</td>\n",
       "    </tr>\n",
       "    <tr>\n",
       "      <th>TRAVEL_AND_LOCAL</th>\n",
       "      <td>4.108197</td>\n",
       "      <td>4.082223</td>\n",
       "    </tr>\n",
       "    <tr>\n",
       "      <th>VIDEO_PLAYERS</th>\n",
       "      <td>4.072848</td>\n",
       "      <td>4.087500</td>\n",
       "    </tr>\n",
       "    <tr>\n",
       "      <th>WEATHER</th>\n",
       "      <td>4.234417</td>\n",
       "      <td>4.450000</td>\n",
       "    </tr>\n",
       "  </tbody>\n",
       "</table>\n",
       "</div>"
      ]
     },
     "execution_count": 180,
     "metadata": {},
     "output_type": "execute_result"
    }
   ],
   "execution_count": 180
  },
  {
   "cell_type": "code",
   "source": [],
   "metadata": {
    "id": "lJdaLnO-qOUm",
    "ExecuteTime": {
     "end_time": "2024-12-02T23:23:59.078724Z",
     "start_time": "2024-12-02T23:23:59.075927Z"
    }
   },
   "outputs": [],
   "execution_count": null
  }
 ]
}
